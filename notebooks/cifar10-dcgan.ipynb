{
 "cells": [
  {
   "cell_type": "markdown",
   "metadata": {
    "pycharm": {
     "name": "#%% md\n"
    }
   },
   "source": [
    "# Training Vanilla GAN on CIFAR-10"
   ]
  },
  {
   "cell_type": "code",
   "execution_count": 1,
   "metadata": {
    "pycharm": {
     "name": "#%%\n"
    }
   },
   "outputs": [
    {
     "name": "stdout",
     "output_type": "stream",
     "text": [
      "Requirement already satisfied: torch-summary in c:\\users\\warre\\anaconda3\\envs\\pytorch\\lib\\site-packages (1.4.5)\n"
     ]
    }
   ],
   "source": [
    "# import necessary dependencies\n",
    "import argparse\n",
    "import os, sys\n",
    "import time\n",
    "import datetime\n",
    "import numpy as np\n",
    "import matplotlib.pyplot as plt\n",
    "from tqdm import tqdm_notebook as tqdm\n",
    "\n",
    "import torch\n",
    "\n",
    "import torch.nn as nn\n",
    "import torch.nn.functional as F\n",
    "from torch.autograd import Variable\n",
    "!pip install torch-summary\n",
    "from torchsummary import summary\n",
    "from torchvision.utils import save_image\n",
    "\n",
    "import gitpath\n",
    "HOME_PATH = gitpath.root()\n",
    "sys.path.append(HOME_PATH)\n",
    "\n",
    "from models.DCGAN import *"
   ]
  },
  {
   "cell_type": "code",
   "execution_count": 2,
   "metadata": {},
   "outputs": [],
   "source": [
    "class HyperParams:\n",
    "    def __init__(self):\n",
    "        # Constance hyperparameters. They have been tested and don't need to be tuned.\n",
    "        self.n_epochs = 50\n",
    "        self.batch_size = 64\n",
    "        self.lr = 0.0002\n",
    "        self.b1 = 0.5\n",
    "        self.b2 = 0.999\n",
    "        self.n_workers = 8\n",
    "        self.latent_dim = 100\n",
    "        self.img_size = 32\n",
    "        self.channels = 3\n",
    "        self.sample_interval = 500\n",
    "        self.imgsave_path = os.path.join(HOME_PATH, 'images', 'dcgan')\n",
    "        self.CHECKPOINT_FOLDER = os.path.join(HOME_PATH, 'saved_model', 'dcgan')\n",
    "        \n",
    "params = HyperParams()\n",
    "os.makedirs(params.imgsave_path, exist_ok=True)\n",
    "os.makedirs(params.CHECKPOINT_FOLDER, exist_ok=True)"
   ]
  },
  {
   "cell_type": "markdown",
   "metadata": {
    "pycharm": {
     "name": "#%% md\n"
    }
   },
   "source": [
    "## Step 1: Set up preprocessing functions"
   ]
  },
  {
   "cell_type": "code",
   "execution_count": 3,
   "metadata": {
    "pycharm": {
     "name": "#%%\n"
    }
   },
   "outputs": [],
   "source": [
    "# useful libraries\n",
    "import torchvision\n",
    "import torchvision.transforms as transforms\n",
    "\n",
    "transform = transforms.Compose([\n",
    "        transforms.ToTensor(),\n",
    "        transforms.Normalize(mean=(0.4914, 0.4822, 0.4465), std=(0.2023, 0.1994, 0.2010))\n",
    "        ])"
   ]
  },
  {
   "cell_type": "code",
   "execution_count": 4,
   "metadata": {
    "pycharm": {
     "name": "#%%\n"
    }
   },
   "outputs": [
    {
     "name": "stdout",
     "output_type": "stream",
     "text": [
      "Files already downloaded and verified\n"
     ]
    }
   ],
   "source": [
    "# do NOT change these\n",
    "import torchvision.datasets as dset\n",
    "from torch.utils.data import DataLoader\n",
    "\n",
    "# a few arguments, do NOT change these\n",
    "DATA_ROOT = os.path.join(HOME_PATH, \"data\")\n",
    "\n",
    "# construct dataset\n",
    "dataset = dset.CIFAR10(\n",
    "    root=DATA_ROOT,\n",
    "    train=True,\n",
    "    download=True,\n",
    "    transform=transform \n",
    ")\n",
    "\n",
    "# construct dataloader\n",
    "dataloader = DataLoader(\n",
    "    dataset, \n",
    "    batch_size=params.batch_size,  # your code\n",
    "    shuffle=True,     # your code\n",
    "    num_workers=params.n_workers\n",
    ")"
   ]
  },
  {
   "cell_type": "markdown",
   "metadata": {
    "pycharm": {
     "name": "#%% md\n"
    }
   },
   "source": [
    "## Step 3: Instantiate your SimpleNN model and deploy it to GPU devices."
   ]
  },
  {
   "cell_type": "code",
   "execution_count": 5,
   "metadata": {
    "pycharm": {
     "name": "#%%\n"
    }
   },
   "outputs": [
    {
     "name": "stdout",
     "output_type": "stream",
     "text": [
      "Run on GPU...\n"
     ]
    }
   ],
   "source": [
    "# specify the device for computation\n",
    "\n",
    "# GPU check                \n",
    "device = 'cuda' if torch.cuda.is_available() else 'cpu'\n",
    "if device =='cuda':\n",
    "    print(\"Run on GPU...\")\n",
    "else:\n",
    "    print(\"Run on CPU...\")\n",
    "\n",
    "# Model Definition  \n",
    "generator = Generator(params.latent_dim).to(device)\n",
    "discriminator = Discriminator().to(device)\n",
    "\n",
    "# Check if on GPU\n",
    "assert(next(generator.parameters()).is_cuda)\n",
    "assert(next(discriminator.parameters()).is_cuda)"
   ]
  },
  {
   "cell_type": "markdown",
   "metadata": {
    "pycharm": {
     "name": "#%% md\n"
    }
   },
   "source": [
    "## Step 4: Set up the loss function and optimizer"
   ]
  },
  {
   "cell_type": "code",
   "execution_count": 6,
   "metadata": {
    "pycharm": {
     "name": "#%%\n"
    }
   },
   "outputs": [],
   "source": [
    "import torch.nn as nn\n",
    "import torch.optim as optim\n",
    "\n",
    "# hyperparameters according to ResNet paper section 4.2\n",
    "\n",
    "# create loss function\n",
    "criterion = nn.BCELoss().to(device)\n",
    "\n",
    "# Add optimizer\n",
    "optimizerG = optim.Adam(generator.parameters(), lr=params.lr, betas=(params.b1, params.b2))\n",
    "optimizerD = optim.Adam(discriminator.parameters(), lr=params.lr, betas=(params.b1, params.b2))"
   ]
  },
  {
   "cell_type": "markdown",
   "metadata": {
    "pycharm": {
     "name": "#%% md\n"
    }
   },
   "source": [
    "## Step 5: Start the training process.\n"
   ]
  },
  {
   "cell_type": "code",
   "execution_count": 7,
   "metadata": {
    "pycharm": {
     "name": "#%%\n"
    },
    "scrolled": true
   },
   "outputs": [
    {
     "name": "stdout",
     "output_type": "stream",
     "text": [
      "==> Training starts!\n",
      "==================================================\n",
      "Epoch 0:\n",
      "D(x): 0.4559 D(G(z)): 0.4490 / 0.4490\n",
      "D(x): 0.7610 D(G(z)): 0.0692 / 0.0692\n",
      "Generator loss: 2.9657, Discriminator loss: 0.1613\n",
      "Epoch finished in 27.38s\n",
      "\n",
      "Epoch 1:\n",
      "D(x): 0.8335 D(G(z)): 0.1086 / 0.1086\n",
      "D(x): 0.8723 D(G(z)): 0.1300 / 0.1300\n",
      "Generator loss: 2.7500, Discriminator loss: 0.1991\n",
      "Epoch finished in 23.70s\n",
      "\n",
      "Epoch 2:\n",
      "D(x): 0.9820 D(G(z)): 0.0706 / 0.0706\n",
      "D(x): 0.9203 D(G(z)): 0.1058 / 0.1058\n",
      "Generator loss: 3.2165, Discriminator loss: 0.1396\n",
      "Epoch finished in 23.60s\n",
      "\n",
      "Epoch 3:\n",
      "D(x): 0.7726 D(G(z)): 0.0374 / 0.0374\n",
      "D(x): 0.7295 D(G(z)): 0.1766 / 0.1766\n",
      "Generator loss: 3.3508, Discriminator loss: 0.1477\n",
      "Epoch finished in 24.11s\n",
      "\n",
      "Epoch 4:\n",
      "D(x): 0.8319 D(G(z)): 0.1082 / 0.1082\n",
      "D(x): 0.9783 D(G(z)): 0.1472 / 0.1472\n",
      "Generator loss: 3.3251, Discriminator loss: 0.1465\n",
      "Epoch finished in 23.75s\n",
      "\n",
      "Epoch 5:\n",
      "D(x): 0.8779 D(G(z)): 0.0742 / 0.0742\n",
      "D(x): 0.8542 D(G(z)): 0.0972 / 0.0972\n",
      "Generator loss: 3.3666, Discriminator loss: 0.1303\n",
      "Epoch finished in 23.43s\n",
      "\n",
      "Epoch 6:\n",
      "D(x): 0.9340 D(G(z)): 0.0391 / 0.0391\n",
      "D(x): 0.9420 D(G(z)): 0.0831 / 0.0831\n",
      "Generator loss: 3.3696, Discriminator loss: 0.1537\n",
      "Epoch finished in 22.39s\n",
      "\n",
      "Epoch 7:\n",
      "D(x): 0.8563 D(G(z)): 0.0399 / 0.0399\n",
      "D(x): 0.8979 D(G(z)): 0.0573 / 0.0573\n",
      "Generator loss: 3.4496, Discriminator loss: 0.1395\n",
      "Epoch finished in 22.57s\n",
      "\n",
      "Epoch 8:\n",
      "D(x): 0.9702 D(G(z)): 0.0601 / 0.0601\n",
      "D(x): 0.9898 D(G(z)): 0.1853 / 0.1853\n",
      "Generator loss: 3.6976, Discriminator loss: 0.1231\n",
      "Epoch finished in 22.25s\n",
      "\n",
      "Epoch 9:\n",
      "D(x): 0.6867 D(G(z)): 0.0053 / 0.0053\n",
      "D(x): 0.9557 D(G(z)): 0.0789 / 0.0789\n",
      "Generator loss: 3.5244, Discriminator loss: 0.1397\n",
      "Epoch finished in 21.57s\n",
      "\n",
      "Epoch 10:\n",
      "D(x): 0.9477 D(G(z)): 0.1251 / 0.1251\n",
      "D(x): 0.9669 D(G(z)): 0.0812 / 0.0812\n",
      "Generator loss: 3.7627, Discriminator loss: 0.1121\n",
      "Epoch finished in 21.58s\n",
      "\n",
      "Epoch 11:\n",
      "D(x): 0.9392 D(G(z)): 0.1196 / 0.1196\n",
      "D(x): 0.9547 D(G(z)): 0.0379 / 0.0379\n",
      "Generator loss: 3.9794, Discriminator loss: 0.1225\n",
      "Epoch finished in 21.72s\n",
      "\n",
      "Epoch 12:\n",
      "D(x): 0.5110 D(G(z)): 0.0345 / 0.0345\n",
      "D(x): 0.9356 D(G(z)): 0.0268 / 0.0268\n",
      "Generator loss: 3.7250, Discriminator loss: 0.1221\n",
      "Epoch finished in 21.69s\n",
      "\n",
      "Epoch 13:\n",
      "D(x): 0.9987 D(G(z)): 0.3617 / 0.3617\n",
      "D(x): 0.9618 D(G(z)): 0.0338 / 0.0338\n",
      "Generator loss: 3.9036, Discriminator loss: 0.1020\n",
      "Epoch finished in 22.63s\n",
      "\n",
      "Epoch 14:\n",
      "D(x): 0.9705 D(G(z)): 0.0507 / 0.0507\n",
      "D(x): 0.9567 D(G(z)): 0.0676 / 0.0676\n",
      "Generator loss: 3.8652, Discriminator loss: 0.1340\n",
      "Epoch finished in 22.23s\n",
      "\n",
      "Epoch 15:\n",
      "D(x): 0.9788 D(G(z)): 0.0150 / 0.0150\n",
      "D(x): 0.9602 D(G(z)): 0.0024 / 0.0024\n",
      "Generator loss: 3.9435, Discriminator loss: 0.1135\n",
      "Epoch finished in 21.94s\n",
      "\n",
      "Epoch 16:\n",
      "D(x): 0.9972 D(G(z)): 0.2053 / 0.2053\n",
      "D(x): 0.9518 D(G(z)): 0.0820 / 0.0820\n",
      "Generator loss: 3.8667, Discriminator loss: 0.1294\n",
      "Epoch finished in 22.21s\n",
      "\n",
      "Epoch 17:\n",
      "D(x): 0.9860 D(G(z)): 0.0154 / 0.0154\n",
      "D(x): 0.9257 D(G(z)): 0.0731 / 0.0731\n",
      "Generator loss: 3.9629, Discriminator loss: 0.1136\n",
      "Epoch finished in 22.15s\n",
      "\n",
      "Epoch 18:\n",
      "D(x): 0.9773 D(G(z)): 0.0264 / 0.0264\n",
      "D(x): 0.8496 D(G(z)): 0.0208 / 0.0208\n",
      "Generator loss: 3.9061, Discriminator loss: 0.1254\n",
      "Epoch finished in 21.63s\n",
      "\n",
      "Epoch 19:\n",
      "D(x): 0.9947 D(G(z)): 0.1188 / 0.1188\n",
      "D(x): 0.9805 D(G(z)): 0.1594 / 0.1594\n",
      "Generator loss: 4.0045, Discriminator loss: 0.1290\n",
      "Epoch finished in 22.14s\n",
      "\n",
      "Epoch 20:\n",
      "D(x): 0.9732 D(G(z)): 0.1540 / 0.1540\n",
      "D(x): 0.9749 D(G(z)): 0.1671 / 0.1671\n",
      "Generator loss: 3.8022, Discriminator loss: 0.1404\n",
      "Epoch finished in 22.22s\n",
      "\n",
      "Epoch 21:\n",
      "D(x): 0.9043 D(G(z)): 0.0249 / 0.0249\n",
      "D(x): 0.9605 D(G(z)): 0.0384 / 0.0384\n",
      "Generator loss: 4.0226, Discriminator loss: 0.1095\n",
      "Epoch finished in 22.01s\n",
      "\n",
      "Epoch 22:\n",
      "D(x): 0.8955 D(G(z)): 0.0347 / 0.0347\n",
      "D(x): 0.9820 D(G(z)): 0.0578 / 0.0578\n",
      "Generator loss: 3.9725, Discriminator loss: 0.1084\n",
      "Epoch finished in 21.77s\n",
      "\n",
      "Epoch 23:\n",
      "D(x): 0.9864 D(G(z)): 0.1977 / 0.1977\n",
      "D(x): 0.9222 D(G(z)): 0.0759 / 0.0759\n",
      "Generator loss: 4.0744, Discriminator loss: 0.1164\n",
      "Epoch finished in 22.20s\n",
      "\n",
      "Epoch 24:\n",
      "D(x): 0.9273 D(G(z)): 0.0611 / 0.0611\n",
      "D(x): 0.9915 D(G(z)): 0.1020 / 0.1020\n",
      "Generator loss: 4.0485, Discriminator loss: 0.1092\n",
      "Epoch finished in 21.55s\n",
      "\n",
      "Epoch 25:\n",
      "D(x): 0.9401 D(G(z)): 0.0458 / 0.0458\n",
      "D(x): 0.8653 D(G(z)): 0.0252 / 0.0252\n",
      "Generator loss: 4.1178, Discriminator loss: 0.1050\n",
      "Epoch finished in 21.60s\n",
      "\n",
      "Epoch 26:\n",
      "D(x): 0.9940 D(G(z)): 0.2011 / 0.2011\n",
      "D(x): 0.8258 D(G(z)): 0.0352 / 0.0352\n",
      "Generator loss: 4.2007, Discriminator loss: 0.1138\n",
      "Epoch finished in 23.29s\n",
      "\n",
      "Epoch 27:\n",
      "D(x): 0.9068 D(G(z)): 0.2767 / 0.2767\n",
      "D(x): 0.9708 D(G(z)): 0.1007 / 0.1007\n",
      "Generator loss: 4.1658, Discriminator loss: 0.1081\n",
      "Epoch finished in 23.10s\n",
      "\n",
      "Epoch 28:\n",
      "D(x): 0.9994 D(G(z)): 0.3656 / 0.3656\n",
      "D(x): 0.9932 D(G(z)): 0.0248 / 0.0248\n",
      "Generator loss: 4.1959, Discriminator loss: 0.0877\n",
      "Epoch finished in 23.39s\n",
      "\n",
      "Epoch 29:\n",
      "D(x): 0.9957 D(G(z)): 0.1577 / 0.1577\n",
      "D(x): 0.9337 D(G(z)): 0.0276 / 0.0276\n",
      "Generator loss: 4.1197, Discriminator loss: 0.1308\n",
      "Epoch finished in 22.92s\n",
      "\n",
      "Epoch 30:\n",
      "D(x): 0.9999 D(G(z)): 0.7200 / 0.7200\n",
      "D(x): 0.9661 D(G(z)): 0.0455 / 0.0455\n",
      "Generator loss: 4.0710, Discriminator loss: 0.1223\n",
      "Epoch finished in 22.36s\n",
      "\n",
      "Epoch 31:\n",
      "D(x): 0.9401 D(G(z)): 0.0033 / 0.0033\n",
      "D(x): 0.8018 D(G(z)): 0.0097 / 0.0097\n",
      "Generator loss: 4.1745, Discriminator loss: 0.1081\n",
      "Epoch finished in 22.12s\n",
      "\n",
      "Epoch 32:\n",
      "D(x): 0.9852 D(G(z)): 0.1129 / 0.1129\n",
      "D(x): 0.9758 D(G(z)): 0.1045 / 0.1045\n",
      "Generator loss: 4.2480, Discriminator loss: 0.0996\n",
      "Epoch finished in 22.12s\n",
      "\n",
      "Epoch 33:\n",
      "D(x): 0.9938 D(G(z)): 0.0990 / 0.0990\n",
      "D(x): 0.2597 D(G(z)): 0.0001 / 0.0001\n",
      "Generator loss: 4.1831, Discriminator loss: 0.1014\n",
      "Epoch finished in 21.62s\n",
      "\n",
      "Epoch 34:\n",
      "D(x): 0.9742 D(G(z)): 0.0213 / 0.0213\n",
      "D(x): 0.8525 D(G(z)): 0.0038 / 0.0038\n",
      "Generator loss: 4.2902, Discriminator loss: 0.1011\n",
      "Epoch finished in 22.69s\n",
      "\n",
      "Epoch 35:\n",
      "D(x): 0.9619 D(G(z)): 0.0546 / 0.0546\n",
      "D(x): 0.8949 D(G(z)): 0.0544 / 0.0544\n",
      "Generator loss: 4.2931, Discriminator loss: 0.1287\n",
      "Epoch finished in 23.12s\n",
      "\n",
      "Epoch 36:\n",
      "D(x): 0.9747 D(G(z)): 0.1199 / 0.1199\n",
      "D(x): 0.8433 D(G(z)): 0.0091 / 0.0091\n",
      "Generator loss: 4.2873, Discriminator loss: 0.0900\n",
      "Epoch finished in 23.24s\n",
      "\n",
      "Epoch 37:\n",
      "D(x): 0.9502 D(G(z)): 0.1329 / 0.1329\n",
      "D(x): 0.8566 D(G(z)): 0.0073 / 0.0073\n",
      "Generator loss: 4.2591, Discriminator loss: 0.1325\n",
      "Epoch finished in 22.55s\n",
      "\n",
      "Epoch 38:\n",
      "D(x): 0.9990 D(G(z)): 0.5572 / 0.5572\n",
      "D(x): 0.9592 D(G(z)): 0.0687 / 0.0687\n",
      "Generator loss: 4.0569, Discriminator loss: 0.1503\n",
      "Epoch finished in 22.28s\n",
      "\n",
      "Epoch 39:\n",
      "D(x): 0.9966 D(G(z)): 0.0182 / 0.0182\n",
      "D(x): 0.7969 D(G(z)): 0.0220 / 0.0220\n",
      "Generator loss: 4.2677, Discriminator loss: 0.1044\n",
      "Epoch finished in 21.64s\n",
      "\n",
      "Epoch 40:\n",
      "D(x): 0.9713 D(G(z)): 0.0078 / 0.0078\n",
      "D(x): 0.9713 D(G(z)): 0.0473 / 0.0473\n",
      "Generator loss: 4.2423, Discriminator loss: 0.0811\n",
      "Epoch finished in 21.86s\n",
      "\n",
      "Epoch 41:\n",
      "D(x): 0.9257 D(G(z)): 0.0093 / 0.0093\n",
      "D(x): 0.9882 D(G(z)): 0.0830 / 0.0830\n",
      "Generator loss: 4.2712, Discriminator loss: 0.1124\n",
      "Epoch finished in 22.12s\n",
      "\n",
      "Epoch 42:\n",
      "D(x): 0.9625 D(G(z)): 0.0093 / 0.0093\n",
      "D(x): 0.9483 D(G(z)): 0.0324 / 0.0324\n",
      "Generator loss: 4.3332, Discriminator loss: 0.0874\n",
      "Epoch finished in 21.92s\n",
      "\n",
      "Epoch 43:\n",
      "D(x): 0.9926 D(G(z)): 0.0451 / 0.0451\n",
      "D(x): 0.9677 D(G(z)): 0.0074 / 0.0074\n",
      "Generator loss: 4.3275, Discriminator loss: 0.1054\n",
      "Epoch finished in 22.10s\n",
      "\n",
      "Epoch 44:\n",
      "D(x): 1.0000 D(G(z)): 0.9853 / 0.9853\n",
      "D(x): 0.9638 D(G(z)): 0.0193 / 0.0193\n",
      "Generator loss: 4.1688, Discriminator loss: 0.1330\n",
      "Epoch finished in 21.81s\n",
      "\n",
      "Epoch 45:\n",
      "D(x): 0.9936 D(G(z)): 0.0556 / 0.0556\n",
      "D(x): 0.9507 D(G(z)): 0.0337 / 0.0337\n",
      "Generator loss: 4.3327, Discriminator loss: 0.1085\n",
      "Epoch finished in 22.29s\n",
      "\n",
      "Epoch 46:\n",
      "D(x): 0.9967 D(G(z)): 0.7018 / 0.7018\n",
      "D(x): 0.9575 D(G(z)): 0.0179 / 0.0179\n",
      "Generator loss: 4.3057, Discriminator loss: 0.1156\n",
      "Epoch finished in 22.24s\n",
      "\n",
      "Epoch 47:\n",
      "D(x): 0.9925 D(G(z)): 0.2932 / 0.2932\n",
      "D(x): 0.9077 D(G(z)): 0.0313 / 0.0313\n",
      "Generator loss: 4.3567, Discriminator loss: 0.0704\n",
      "Epoch finished in 21.71s\n",
      "\n",
      "Epoch 48:\n",
      "D(x): 0.9605 D(G(z)): 0.0039 / 0.0039\n",
      "D(x): 0.7419 D(G(z)): 0.0146 / 0.0146\n",
      "Generator loss: 4.1605, Discriminator loss: 0.1761\n",
      "Epoch finished in 21.57s\n",
      "\n",
      "Epoch 49:\n",
      "D(x): 0.8637 D(G(z)): 0.2361 / 0.2361\n",
      "D(x): 0.9608 D(G(z)): 0.0237 / 0.0237\n",
      "Generator loss: 4.2872, Discriminator loss: 0.0933\n",
      "Epoch finished in 21.63s\n",
      "\n",
      "==================================================\n",
      "==> Optimization finished in 1121.72s!\n"
     ]
    }
   ],
   "source": [
    "# some hyperparameters\n",
    "# total number of training epochs\n",
    "start_epoch = 0\n",
    "\n",
    "# start the training/validation process\n",
    "best_loss_g = 1e20\n",
    "best_loss_d = 1e20\n",
    "\n",
    "start = time.time()\n",
    "print(\"==> Training starts!\")\n",
    "print(\"=\"*50)\n",
    "\n",
    "# store loss learning curve\n",
    "g_loss_lst = []\n",
    "d_loss_lst = []\n",
    "\n",
    "fixed_random_z = torch.randn(params.batch_size, params.latent_dim).to(device)\n",
    "\n",
    "for i in range(start_epoch, params.n_epochs):\n",
    "    epoch_start = time.time()\n",
    "    print(\"Epoch %d:\" %i)\n",
    "    # this help you compute the training accuracy\n",
    "    total_examples = 0\n",
    "    correct_examples = 0\n",
    "\n",
    "    g_loss = []\n",
    "    d_loss = []\n",
    "    \n",
    "    # Train the model for 1 epoch.\n",
    "    for batch_idx, (inputs, targets) in enumerate(dataloader):\n",
    "        \n",
    "        inputs = inputs.float().to(device)\n",
    "        batch_size = inputs.size(0)\n",
    "        \n",
    "        real_labels = torch.full((batch_size,1), 1.0).to(device)\n",
    "        fake_labels = torch.full((batch_size,1), 0.0).to(device)\n",
    "        \n",
    "        ####################################\n",
    "        # Train Generator\n",
    "        ###################################\n",
    "        # maximize generator's ability to fool discriminator\n",
    "        z = torch.randn(batch_size, params.latent_dim).to(device)\n",
    "        gen_imgs = generator(z)\n",
    "        fake_outputs = discriminator(gen_imgs)\n",
    "        loss_G = criterion(fake_outputs, real_labels)\n",
    "        \n",
    "        # zero the gradient\n",
    "        optimizerG.zero_grad()\n",
    "        # backpropagation\n",
    "        loss_G.backward()\n",
    "        # apply gradient and update the weights\n",
    "        optimizerG.step()\n",
    "\n",
    "        # calculate percentage of confidence\n",
    "        G_z = fake_outputs.mean().item()\n",
    "        g_loss.append(loss_G.cpu().detach().numpy())\n",
    "        ####################################\n",
    "        \n",
    "        ####################################\n",
    "        # Train Discriminator\n",
    "        ###################################\n",
    "        # train to recog real image\n",
    "        real_outputs = discriminator(inputs)\n",
    "        loss_real = criterion(real_outputs, real_labels)\n",
    "        \n",
    "        ###################################\n",
    "        # train to recog fake image\n",
    "        fake_outputs = discriminator(gen_imgs.detach())\n",
    "        loss_fake = criterion(fake_outputs, fake_labels)\n",
    "        \n",
    "        # sum loss\n",
    "        loss_D = (loss_fake + loss_real) / 2\n",
    "        # zero the gradient\n",
    "        optimizerD.zero_grad()\n",
    "        # backpropagation\n",
    "        loss_D.backward()\n",
    "        # apply gradient and update the weights\n",
    "        optimizerD.step()\n",
    "\n",
    "        # calculate percentage of confidence\n",
    "        D_x = real_outputs.mean().item()\n",
    "        D_z = fake_outputs.mean().item()\n",
    "        d_loss.append(loss_D.cpu().detach().numpy())\n",
    "        \n",
    "        ####################################\n",
    "        \n",
    "        if (batch_idx % params.sample_interval == 0): \n",
    "            batches_done = i * len(dataloader) + batch_idx\n",
    "            save_image(generator(fixed_random_z).data[:40], os.path.join(params.imgsave_path, \"%d.png\" % batches_done), nrow=5, normalize=True)\n",
    "            print(\"D(x): %.4f D(G(z)): %.4f / %.4f\"%(D_x, D_z, G_z))\n",
    "        \n",
    "    avg_loss_g = np.sum(np.asarray(g_loss)) / len(g_loss)\n",
    "    avg_loss_d = np.sum(np.asarray(d_loss)) / len(d_loss)\n",
    "    print(\"Generator loss: %.4f, Discriminator loss: %.4f\"%(avg_loss_g, avg_loss_d))\n",
    "    \n",
    "    g_loss_lst.append(avg_loss_g)\n",
    "    d_loss_lst.append(avg_loss_d)\n",
    "    \n",
    "    # save the model checkpoint\n",
    "    state_G = generator.state_dict()\n",
    "    torch.save(state_G, os.path.join(params.CHECKPOINT_FOLDER, 'generator.pth'))\n",
    "    state_D = discriminator.state_dict()\n",
    "    torch.save(state_D, os.path.join(params.CHECKPOINT_FOLDER, 'discriminator.pth'))\n",
    "    print(f\"Epoch finished in {time.time() - epoch_start:.2f}s\")\n",
    "    print(\"\")\n",
    "\n",
    "print(\"=\"*50)\n",
    "print(f\"==> Optimization finished in {time.time() - start:.2f}s!\")"
   ]
  },
  {
   "cell_type": "code",
   "execution_count": 8,
   "metadata": {
    "pycharm": {
     "name": "#%%\n"
    },
    "scrolled": true
   },
   "outputs": [
    {
     "data": {
      "image/png": "[encoded data removed]",
      "text/plain": [
       "<Figure size 432x288 with 1 Axes>"
      ]
     },
     "metadata": {
      "needs_background": "light"
     },
     "output_type": "display_data"
    }
   ],
   "source": [
    "plt.plot(g_loss_lst, label='Generator Error')\n",
    "plt.plot(d_loss_lst, label='Discriminator Error')\n",
    "plt.title(\"GAN Learning Curve\")\n",
    "plt.legend()\n",
    "plt.xlabel('epoch')\n",
    "plt.ylabel('loss')\n",
    "plt.show()"
   ]
  }
 ],
 "metadata": {
  "kernelspec": {
   "display_name": "pytorch",
   "language": "python",
   "name": "python3"
  },
  "language_info": {
   "codemirror_mode": {
    "name": "ipython",
    "version": 3
   },
   "file_extension": ".py",
   "mimetype": "text/x-python",
   "name": "python",
   "nbconvert_exporter": "python",
   "pygments_lexer": "ipython3",
   "version": "3.9.12"
  },
  "vscode": {
   "interpreter": {
    "hash": "f31c482ab17bade3ad7dd22987cd1455bbf7ad8d1d61cc36c352d0bbb68b2b79"
   }
  }
 },
 "nbformat": 4,
 "nbformat_minor": 4
}
