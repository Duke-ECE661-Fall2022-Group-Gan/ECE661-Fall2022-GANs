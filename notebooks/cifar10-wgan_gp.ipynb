{
 "cells": [
  {
   "cell_type": "markdown",
   "metadata": {
    "pycharm": {
     "name": "#%% md\n"
    }
   },
   "source": [
    "# Training Vanilla GAN on CIFAR-10"
   ]
  },
  {
   "cell_type": "code",
   "execution_count": 1,
   "metadata": {
    "pycharm": {
     "name": "#%%\n"
    }
   },
   "outputs": [
    {
     "name": "stdout",
     "output_type": "stream",
     "text": [
      "Requirement already satisfied: torch-summary in c:\\users\\warre\\anaconda3\\envs\\pytorch\\lib\\site-packages (1.4.5)\n"
     ]
    }
   ],
   "source": [
    "# import necessary dependencies\n",
    "import argparse\n",
    "import os, sys\n",
    "import time\n",
    "import datetime\n",
    "import numpy as np\n",
    "import matplotlib.pyplot as plt\n",
    "from tqdm import tqdm_notebook as tqdm\n",
    "\n",
    "import torch\n",
    "\n",
    "import torch.nn as nn\n",
    "import torch.nn.functional as F\n",
    "from torch.autograd import Variable\n",
    "!pip install torch-summary\n",
    "from torchsummary import summary\n",
    "from torchvision.utils import save_image\n",
    "\n",
    "import gitpath\n",
    "HOME_PATH = gitpath.root()\n",
    "sys.path.append(HOME_PATH)\n",
    "\n",
    "from models.WGAN import *"
   ]
  },
  {
   "cell_type": "code",
   "execution_count": 2,
   "metadata": {},
   "outputs": [],
   "source": [
    "class HyperParams:\n",
    "    def __init__(self):\n",
    "        # Constance hyperparameters. They have been tested and don't need to be tuned.\n",
    "        self.n_epochs = 50\n",
    "        self.batch_size = 64\n",
    "        self.lr = 0.0001\n",
    "        self.b1 = 0.0\n",
    "        self.b2 = 0.9\n",
    "        self.n_critic = 5\n",
    "        self.Lipschitz_mode = 'gp'\n",
    "        self.clip_value = 0.01\n",
    "        self.n_workers = 8\n",
    "        self.latent_dim = 100\n",
    "        self.img_size = 32\n",
    "        self.channels = 3\n",
    "        self.sample_interval = 500\n",
    "        self.imgsave_path = os.path.join(HOME_PATH, 'images', 'wgan1_'+self.Lipschitz_mode)\n",
    "        self.CHECKPOINT_FOLDER = os.path.join(HOME_PATH, 'saved_model', 'wgan1_'+self.Lipschitz_mode)\n",
    "        \n",
    "params = HyperParams()\n",
    "os.makedirs(params.imgsave_path, exist_ok=True)\n",
    "os.makedirs(params.CHECKPOINT_FOLDER, exist_ok=True)"
   ]
  },
  {
   "cell_type": "markdown",
   "metadata": {
    "pycharm": {
     "name": "#%% md\n"
    }
   },
   "source": [
    "## Step 1: Set up preprocessing functions"
   ]
  },
  {
   "cell_type": "code",
   "execution_count": 3,
   "metadata": {
    "pycharm": {
     "name": "#%%\n"
    }
   },
   "outputs": [],
   "source": [
    "# useful libraries\n",
    "import torchvision\n",
    "import torchvision.transforms as transforms\n",
    "\n",
    "transform = transforms.Compose([\n",
    "        transforms.ToTensor(),\n",
    "        transforms.Normalize(mean=(0.4914, 0.4822, 0.4465), std=(0.2023, 0.1994, 0.2010))\n",
    "        ])"
   ]
  },
  {
   "cell_type": "code",
   "execution_count": 4,
   "metadata": {
    "pycharm": {
     "name": "#%%\n"
    }
   },
   "outputs": [
    {
     "name": "stdout",
     "output_type": "stream",
     "text": [
      "Files already downloaded and verified\n"
     ]
    }
   ],
   "source": [
    "# do NOT change these\n",
    "import torchvision.datasets as dset\n",
    "from torch.utils.data import DataLoader\n",
    "\n",
    "# a few arguments, do NOT change these\n",
    "DATA_ROOT = os.path.join(HOME_PATH, \"data\")\n",
    "\n",
    "# construct dataset\n",
    "dataset = dset.CIFAR10(\n",
    "    root=DATA_ROOT,\n",
    "    train=True,\n",
    "    download=True,\n",
    "    transform=transform \n",
    ")\n",
    "\n",
    "# construct dataloader\n",
    "dataloader = DataLoader(\n",
    "    dataset, \n",
    "    batch_size=params.batch_size,  # your code\n",
    "    shuffle=True,\n",
    "    drop_last=True,     # your code\n",
    "    num_workers=params.n_workers\n",
    ")"
   ]
  },
  {
   "cell_type": "markdown",
   "metadata": {
    "pycharm": {
     "name": "#%% md\n"
    }
   },
   "source": [
    "## Step 3: Instantiate your SimpleNN model and deploy it to GPU devices."
   ]
  },
  {
   "cell_type": "code",
   "execution_count": 5,
   "metadata": {
    "pycharm": {
     "name": "#%%\n"
    }
   },
   "outputs": [
    {
     "name": "stdout",
     "output_type": "stream",
     "text": [
      "Run on GPU...\n"
     ]
    }
   ],
   "source": [
    "# specify the device for computation\n",
    "\n",
    "# GPU check                \n",
    "device = 'cuda' if torch.cuda.is_available() else 'cpu'\n",
    "if device =='cuda':\n",
    "    print(\"Run on GPU...\")\n",
    "else:\n",
    "    print(\"Run on CPU...\")\n",
    "\n",
    "# Model Definition  \n",
    "generator = Generator(params.latent_dim).to(device)\n",
    "discriminator = Discriminator().to(device)\n",
    "\n",
    "# Check if on GPU\n",
    "assert(next(generator.parameters()).is_cuda)\n",
    "assert(next(discriminator.parameters()).is_cuda)"
   ]
  },
  {
   "cell_type": "markdown",
   "metadata": {
    "pycharm": {
     "name": "#%% md\n"
    }
   },
   "source": [
    "## Step 4: Set up the loss function and optimizer"
   ]
  },
  {
   "cell_type": "code",
   "execution_count": 6,
   "metadata": {
    "pycharm": {
     "name": "#%%\n"
    }
   },
   "outputs": [],
   "source": [
    "import torch.nn as nn\n",
    "import torch.optim as optim\n",
    "\n",
    "# Add optimizer\n",
    "optimizerG = optim.RMSprop(generator.parameters(), lr=params.lr)\n",
    "optimizerD = optim.RMSprop(discriminator.parameters(), lr=params.lr)\n",
    "if params.Lipschitz_mode == 'gp':\n",
    "    optimizerG = optim.Adam(generator.parameters(), lr=params.lr, betas=(params.b1, params.b2))\n",
    "    optimizerD = optim.Adam(discriminator.parameters(), lr=params.lr, betas=(params.b1, params.b2))"
   ]
  },
  {
   "cell_type": "markdown",
   "metadata": {
    "pycharm": {
     "name": "#%% md\n"
    }
   },
   "source": [
    "## Step 5: Start the training process.\n"
   ]
  },
  {
   "cell_type": "code",
   "execution_count": 7,
   "metadata": {
    "pycharm": {
     "name": "#%%\n"
    },
    "scrolled": true
   },
   "outputs": [
    {
     "name": "stdout",
     "output_type": "stream",
     "text": [
      "==> Training starts!\n",
      "==================================================\n",
      "Epoch 0:\n",
      "tensor([0.0006, 0.0006, 0.0005, 0.0006, 0.0006, 0.0006, 0.0006, 0.0006, 0.0006,\n",
      "        0.0006], device='cuda:0', grad_fn=<SliceBackward0>)\n",
      "tensor(0.9989, device='cuda:0', grad_fn=<MeanBackward0>)\n",
      "tensor([0.0113, 0.0107, 0.0106, 0.0118, 0.0116, 0.0108, 0.0107, 0.0114, 0.0113,\n",
      "        0.0111], device='cuda:0', grad_fn=<SliceBackward0>)\n",
      "tensor(0.9777, device='cuda:0', grad_fn=<MeanBackward0>)\n",
      "Generator loss: -0.1328, Discriminator loss: -0.0009\n",
      "Epoch finished in 33.15s\n",
      "\n",
      "Epoch 1:\n",
      "tensor([0.0604, 0.0605, 0.0591, 0.0639, 0.0623, 0.0599, 0.0619, 0.0613, 0.0615,\n",
      "        0.0578], device='cuda:0', grad_fn=<SliceBackward0>)\n",
      "tensor(0.8806, device='cuda:0', grad_fn=<MeanBackward0>)\n",
      "tensor([0.8169, 0.7767, 0.8128, 0.7747, 0.7612, 0.7569, 0.7992, 0.7672, 0.7723,\n",
      "        0.7709], device='cuda:0', grad_fn=<SliceBackward0>)\n",
      "tensor(0.0472, device='cuda:0', grad_fn=<MeanBackward0>)\n",
      "Generator loss: -0.9377, Discriminator loss: -0.1501\n",
      "Epoch finished in 26.61s\n",
      "\n",
      "Epoch 2:\n",
      "tensor([0.9260, 0.8826, 0.8148, 0.8017, 0.8586, 0.9489, 0.8676, 0.9244, 0.8351,\n",
      "        0.9308], device='cuda:0', grad_fn=<SliceBackward0>)\n",
      "tensor(0.0142, device='cuda:0', grad_fn=<MeanBackward0>)\n",
      "tensor([0.8965, 0.8321, 0.8886, 0.9419, 0.9214, 0.8421, 0.9745, 1.0022, 0.9697,\n",
      "        0.9998], device='cuda:0', grad_fn=<SliceBackward0>)\n",
      "tensor(0.0093, device='cuda:0', grad_fn=<MeanBackward0>)\n",
      "Generator loss: -1.0392, Discriminator loss: -0.2277\n",
      "Epoch finished in 27.35s\n",
      "\n",
      "Epoch 3:\n",
      "tensor([0.9655, 0.9845, 1.0016, 1.0764, 0.9266, 0.9227, 1.1065, 1.0973, 1.0864,\n",
      "        1.0566], device='cuda:0', grad_fn=<SliceBackward0>)\n",
      "tensor(0.0048, device='cuda:0', grad_fn=<MeanBackward0>)\n",
      "tensor([1.0643, 0.8728, 0.8532, 0.9506, 0.8944, 0.9533, 1.0638, 1.1090, 1.0029,\n",
      "        1.0172], device='cuda:0', grad_fn=<SliceBackward0>)\n",
      "tensor(0.0110, device='cuda:0', grad_fn=<MeanBackward0>)\n"
     ]
    }
   ],
   "source": [
    "# some hyperparameters\n",
    "# total number of training epochs\n",
    "start_epoch = 0\n",
    "\n",
    "# start the training/validation process\n",
    "best_loss_g = 1e20\n",
    "best_loss_d = 1e20\n",
    "\n",
    "start = time.time()\n",
    "print(\"==> Training starts!\")\n",
    "print(\"=\"*50)\n",
    "\n",
    "# store loss learning curve\n",
    "g_loss_lst = []\n",
    "d_loss_lst = []\n",
    "\n",
    "fixed_random_z = torch.randn(params.batch_size, params.latent_dim).to(device)\n",
    "\n",
    "for i in range(start_epoch, params.n_epochs):\n",
    "    epoch_start = time.time()\n",
    "    print(\"Epoch %d:\" %i)\n",
    "    # this help you compute the training accuracy\n",
    "    total_examples = 0\n",
    "    correct_examples = 0\n",
    "\n",
    "    g_loss = []\n",
    "    d_loss = []\n",
    "    \n",
    "    # Train the model for 1 epoch.\n",
    "    for batch_idx, (inputs, targets) in enumerate(dataloader):\n",
    "        \n",
    "        inputs = inputs.float().to(device)\n",
    "        batch_size = inputs.size(0)\n",
    "        \n",
    "        # generate fake images\n",
    "        z = torch.randn(batch_size, params.latent_dim).to(device)\n",
    "        gen_imgs = generator(z)\n",
    "        \n",
    "        ####################################\n",
    "        # Train Discriminator\n",
    "        ###################################\n",
    "        # Ref: WGAN paper page 8 Algo 1\n",
    "        \n",
    "        # satisfy Lipschitz constraint\n",
    "        if params.Lipschitz_mode == 'clipping':\n",
    "            for p in discriminator.parameters():\n",
    "                p.data.clamp_(-params.clip_value, params.clip_value)\n",
    "            loss_real = torch.mean(discriminator(inputs))\n",
    "            loss_fake = -torch.mean(discriminator(gen_imgs.detach()))\n",
    "            loss_D = loss_fake + loss_real\n",
    "\n",
    "            # backpropagation\n",
    "            optimizerD.zero_grad()\n",
    "            loss_D.backward()\n",
    "            optimizerD.step()\n",
    "\n",
    "        if params.Lipschitz_mode == 'gp':\n",
    "            from torch import autograd\n",
    "            # Ref: WGAN-GP paper Algo 1\n",
    "            # Ref: https://github.com/caogang/wgan-gp.git\n",
    "            GP_LAMBDA = 10\n",
    "\n",
    "            inputs = torch.randn(64,3,32,32).to(device)\n",
    "            gen_imgs = torch.randn(64,3,32,32).to(device)\n",
    "\n",
    "            epi = torch.rand(batch_size, 1, 1, 1).expand_as(inputs).type_as(inputs).to(device)\n",
    "            # epi = epi.expand(params.batch_size, params.channels * params.img_size**2).contiguous().view(params.batch_size, 3, 32, 32).to(device)\n",
    "\n",
    "            # print(epi.shape, inputs.shape, gen_imgs.shape)\n",
    "\n",
    "            interpolates = (epi * inputs + ((1 - epi) * gen_imgs)).to(device)\n",
    "            # interpolates.requires_grad_()\n",
    "            interpolates = autograd.Variable(interpolates, requires_grad=True)\n",
    "            \n",
    "            # Compute Wasserstein Loss against perturbed data\n",
    "            loss_inter = torch.mean(discriminator(interpolates))\n",
    "            grad_outputs = torch.ones(loss_inter.size()).type_as(loss_inter.data)\n",
    "            \n",
    "            # # # Compute gradients\n",
    "            # loss_inter.backward(retain_graph=True)\n",
    "            # gradients = interpolates.grad.data\n",
    "            gradients = autograd.grad(\n",
    "                            outputs=loss_inter,\n",
    "                            inputs=interpolates,\n",
    "                            grad_outputs=grad_outputs,\n",
    "                            create_graph=True,\n",
    "                            only_inputs=True)[0]\n",
    "\n",
    "            gradients = gradients.view(gradients.size(0), -1)\n",
    "            gradient_penalty = GP_LAMBDA * ((gradients.norm(2, dim=1) - 1) ** 2).mean()\n",
    "\n",
    "            loss_real = torch.mean(discriminator(inputs))\n",
    "            loss_fake = torch.mean(discriminator(gen_imgs.detach()))\n",
    "            loss_D_gp = -loss_fake + loss_real - gradient_penalty\n",
    "\n",
    "            if (batch_idx % params.sample_interval == 0): \n",
    "                print(gradients.norm(2, dim=1)[0:10])\n",
    "                print(((gradients.norm(2, dim=1) - 1) ** 2).mean())\n",
    "\n",
    "            # backpropagation\n",
    "            optimizerD.zero_grad()\n",
    "            loss_D_gp.backward()\n",
    "            optimizerD.step()\n",
    "            \n",
    "            loss_D = -loss_fake + loss_real\n",
    "\n",
    "        # calculate percentage of confidence\n",
    "        d_loss.append(loss_D.cpu().detach().numpy())\n",
    "\n",
    "        ####################################\n",
    "        \n",
    "        if batch_idx + 1 % params.n_critic == 0:\n",
    "            ####################################\n",
    "            # Train Generator\n",
    "            ###################################\n",
    "            # maximize generator's ability to fool discriminator\n",
    "\n",
    "            # compute loss\n",
    "            loss_G = torch.mean(discriminator(gen_imgs))\n",
    "            \n",
    "            # backpropagation\n",
    "            optimizerG.zero_grad()\n",
    "            loss_G.backward()\n",
    "            optimizerG.step()\n",
    "\n",
    "            # calculate percentage of confidence\n",
    "            g_loss.append(loss_G.cpu().detach().numpy())\n",
    "            ####################################\n",
    "        \n",
    "        if (batch_idx % params.sample_interval == 0): \n",
    "            batches_done = i * len(dataloader) + batch_idx\n",
    "            save_image(generator(fixed_random_z).data[:40], os.path.join(params.imgsave_path, \"%d.png\" % batches_done), nrow=5, normalize=True)\n",
    "        \n",
    "    avg_loss_g = np.sum(np.asarray(g_loss)) / len(g_loss)\n",
    "    avg_loss_d = np.sum(np.asarray(d_loss)) / len(d_loss)\n",
    "    print(\"Generator loss: %.4f, Discriminator loss: %.4f\"%(avg_loss_g, avg_loss_d))\n",
    "    \n",
    "    g_loss_lst.append(avg_loss_g)\n",
    "    d_loss_lst.append(avg_loss_d)\n",
    "    \n",
    "    # save the model checkpoint\n",
    "    state_G = generator.state_dict()\n",
    "    torch.save(state_G, os.path.join(params.CHECKPOINT_FOLDER, 'generator.pth'))\n",
    "    state_D = discriminator.state_dict()\n",
    "    torch.save(state_D, os.path.join(params.CHECKPOINT_FOLDER, 'discriminator.pth'))\n",
    "    print(f\"Epoch finished in {time.time() - epoch_start:.2f}s\")\n",
    "    print(\"\")\n",
    "\n",
    "print(\"=\"*50)\n",
    "print(f\"==> Optimization finished in {time.time() - start:.2f}s!\")"
   ]
  },
  {
   "cell_type": "code",
   "execution_count": null,
   "metadata": {
    "pycharm": {
     "name": "#%%\n"
    },
    "scrolled": true
   },
   "outputs": [
    {
     "data": {
      "image/png": "[encoded data removed]",
      "text/plain": [
       "<Figure size 432x288 with 1 Axes>"
      ]
     },
     "metadata": {
      "needs_background": "light"
     },
     "output_type": "display_data"
    }
   ],
   "source": [
    "plt.plot(g_loss_lst, label='Generator Error')\n",
    "plt.plot(d_loss_lst, label='Discriminator Error')\n",
    "plt.title(\"GAN Learning Curve\")\n",
    "plt.legend()\n",
    "plt.xlabel('epoch')\n",
    "plt.ylabel('loss')\n",
    "plt.show()"
   ]
  }
 ],
 "metadata": {
  "kernelspec": {
   "display_name": "pytorch3d",
   "language": "python",
   "name": "python3"
  },
  "language_info": {
   "codemirror_mode": {
    "name": "ipython",
    "version": 3
   },
   "file_extension": ".py",
   "mimetype": "text/x-python",
   "name": "python",
   "nbconvert_exporter": "python",
   "pygments_lexer": "ipython3",
   "version": "3.9.13 (main, Aug 25 2022, 23:26:10) \n[GCC 11.2.0]"
  },
  "vscode": {
   "interpreter": {
    "hash": "d7f2a7996328504c9da638a538617e092c5f6c113e142544f6d693b60dd4d365"
   }
  }
 },
 "nbformat": 4,
 "nbformat_minor": 4
}
