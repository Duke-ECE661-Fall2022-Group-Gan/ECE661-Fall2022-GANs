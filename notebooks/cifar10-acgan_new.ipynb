{
 "cells": [
  {
   "cell_type": "markdown",
   "metadata": {
    "pycharm": {
     "name": "#%% md\n"
    }
   },
   "source": [
    "# Training Vanilla GAN on CIFAR-10"
   ]
  },
  {
   "cell_type": "code",
   "execution_count": 1,
   "metadata": {
    "pycharm": {
     "name": "#%%\n"
    }
   },
   "outputs": [
    {
     "name": "stdout",
     "output_type": "stream",
     "text": [
      "Requirement already satisfied: torch-summary in c:\\users\\warre\\anaconda3\\envs\\pytorch\\lib\\site-packages (1.4.5)\n"
     ]
    }
   ],
   "source": [
    "# import necessary dependencies\n",
    "import argparse\n",
    "import os, sys\n",
    "import time\n",
    "import datetime\n",
    "import numpy as np\n",
    "import matplotlib.pyplot as plt\n",
    "from tqdm import tqdm_notebook as tqdm\n",
    "\n",
    "import torch\n",
    "\n",
    "import torch.nn as nn\n",
    "import torch.nn.functional as F\n",
    "from torch.autograd import Variable\n",
    "!pip install torch-summary\n",
    "from torchsummary import summary\n",
    "from torchvision.utils import save_image\n",
    "\n",
    "import gitpath\n",
    "HOME_PATH = gitpath.root()\n",
    "sys.path.append(HOME_PATH)\n",
    "\n",
    "from models.ACGAN_new import *"
   ]
  },
  {
   "cell_type": "code",
   "execution_count": 2,
   "metadata": {},
   "outputs": [],
   "source": [
    "class HyperParams:\n",
    "    def __init__(self):\n",
    "        # Constance hyperparameters. They have been tested and don't need to be tuned.\n",
    "        self.n_epochs = 50\n",
    "        self.batch_size = 64\n",
    "        self.lr = 0.0002\n",
    "        self.b1 = 0.5\n",
    "        self.b2 = 0.999\n",
    "        self.n_workers = 8\n",
    "        self.latent_dim = 100\n",
    "        self.num_classes = 10\n",
    "        self.img_size = 32\n",
    "        self.channels = 3\n",
    "        self.sample_interval = 500\n",
    "        self.imgsave_path = os.path.join(HOME_PATH, 'images', 'acgan')\n",
    "        self.CHECKPOINT_FOLDER = os.path.join(HOME_PATH, 'saved_model', 'acgan')\n",
    "        \n",
    "params = HyperParams()\n",
    "os.makedirs(params.imgsave_path, exist_ok=True)\n",
    "os.makedirs(params.CHECKPOINT_FOLDER, exist_ok=True)"
   ]
  },
  {
   "cell_type": "markdown",
   "metadata": {
    "pycharm": {
     "name": "#%% md\n"
    }
   },
   "source": [
    "## Step 1: Set up preprocessing functions"
   ]
  },
  {
   "cell_type": "code",
   "execution_count": 3,
   "metadata": {
    "pycharm": {
     "name": "#%%\n"
    }
   },
   "outputs": [],
   "source": [
    "# useful libraries\n",
    "import torchvision\n",
    "import torchvision.transforms as transforms\n",
    "\n",
    "transform = transforms.Compose([\n",
    "        transforms.ToTensor(),\n",
    "        transforms.Normalize(mean=(0.4914, 0.4822, 0.4465), std=(0.2023, 0.1994, 0.2010))\n",
    "        ])"
   ]
  },
  {
   "cell_type": "code",
   "execution_count": 4,
   "metadata": {
    "pycharm": {
     "name": "#%%\n"
    }
   },
   "outputs": [
    {
     "name": "stdout",
     "output_type": "stream",
     "text": [
      "Files already downloaded and verified\n"
     ]
    }
   ],
   "source": [
    "# do NOT change these\n",
    "import torchvision.datasets as dset\n",
    "from torch.utils.data import DataLoader\n",
    "\n",
    "# a few arguments, do NOT change these\n",
    "DATA_ROOT = os.path.join(HOME_PATH, \"data\")\n",
    "\n",
    "# construct dataset\n",
    "dataset = dset.CIFAR10(\n",
    "    root=DATA_ROOT,\n",
    "    train=True,\n",
    "    download=True,\n",
    "    transform=transform \n",
    ")\n",
    "\n",
    "# construct dataloader\n",
    "dataloader = DataLoader(\n",
    "    dataset, \n",
    "    batch_size=params.batch_size,  # your code\n",
    "    shuffle=True,     # your code\n",
    "    num_workers=params.n_workers\n",
    ")"
   ]
  },
  {
   "cell_type": "markdown",
   "metadata": {
    "pycharm": {
     "name": "#%% md\n"
    }
   },
   "source": [
    "## Step 3: Instantiate your SimpleNN model and deploy it to GPU devices."
   ]
  },
  {
   "cell_type": "code",
   "execution_count": 5,
   "metadata": {
    "pycharm": {
     "name": "#%%\n"
    }
   },
   "outputs": [
    {
     "name": "stdout",
     "output_type": "stream",
     "text": [
      "Run on GPU...\n"
     ]
    }
   ],
   "source": [
    "# specify the device for computation\n",
    "\n",
    "# GPU check                \n",
    "device = 'cuda' if torch.cuda.is_available() else 'cpu'\n",
    "if device =='cuda':\n",
    "    print(\"Run on GPU...\")\n",
    "else:\n",
    "    print(\"Run on CPU...\")\n",
    "\n",
    "# Model Definition  \n",
    "generator = Generator(params.latent_dim + params.num_classes).to(device) # add ten in latent space to encode class info\n",
    "discriminator = Discriminator(params.num_classes).to(device)\n",
    "\n",
    "# Check if on GPU\n",
    "assert(next(generator.parameters()).is_cuda)\n",
    "assert(next(discriminator.parameters()).is_cuda)"
   ]
  },
  {
   "cell_type": "markdown",
   "metadata": {
    "pycharm": {
     "name": "#%% md\n"
    }
   },
   "source": [
    "## Step 4: Set up the loss function and optimizer"
   ]
  },
  {
   "cell_type": "code",
   "execution_count": 6,
   "metadata": {
    "pycharm": {
     "name": "#%%\n"
    }
   },
   "outputs": [],
   "source": [
    "import torch.nn as nn\n",
    "import torch.optim as optim\n",
    "\n",
    "# hyperparameters according to ResNet paper section 4.2\n",
    "\n",
    "# create loss function\n",
    "discrimination_loss = nn.BCELoss().to(device)\n",
    "classification_loss = nn.CrossEntropyLoss().to(device)\n",
    "\n",
    "# Add optimizer\n",
    "optimizerG = optim.Adam(generator.parameters(), lr=params.lr, betas=(params.b1, params.b2))\n",
    "optimizerD = optim.Adam(discriminator.parameters(), lr=params.lr, betas=(params.b1, params.b2))"
   ]
  },
  {
   "cell_type": "markdown",
   "metadata": {
    "pycharm": {
     "name": "#%% md\n"
    }
   },
   "source": [
    "## Step 5: Start the training process.\n"
   ]
  },
  {
   "cell_type": "code",
   "execution_count": 7,
   "metadata": {
    "pycharm": {
     "name": "#%%\n"
    },
    "scrolled": true
   },
   "outputs": [
    {
     "name": "stdout",
     "output_type": "stream",
     "text": [
      "==> Training starts!\n",
      "==================================================\n",
      "Epoch 0:\n"
     ]
    },
    {
     "name": "stderr",
     "output_type": "stream",
     "text": [
      "c:\\Users\\Warre\\anaconda3\\envs\\pytorch\\lib\\site-packages\\torch\\nn\\modules\\container.py:139: UserWarning: Implicit dimension choice for softmax has been deprecated. Change the call to include dim=X as an argument.\n",
      "  input = module(input)\n"
     ]
    },
    {
     "name": "stdout",
     "output_type": "stream",
     "text": [
      "D(x): 0.4977 D(G(z)): 0.4925 / 0.5074\n",
      "D(x): 0.5120 D(G(z)): 0.5015 / 0.4754\n",
      "Generator loss: 1.6312, Discriminator loss: 1.4451\n",
      "Epoch finished in 34.09s\n",
      "\n",
      "Epoch 1:\n",
      "D(x): 0.4680 D(G(z)): 0.3404 / 0.3318\n",
      "D(x): 0.5113 D(G(z)): 0.4214 / 0.4156\n",
      "Generator loss: 1.2128, Discriminator loss: 1.2694\n",
      "Epoch finished in 30.36s\n",
      "\n",
      "Epoch 2:\n",
      "D(x): 0.5509 D(G(z)): 0.5504 / 0.4781\n",
      "D(x): 0.4840 D(G(z)): 0.3500 / 0.3466\n",
      "Generator loss: 1.1897, Discriminator loss: 1.2299\n",
      "Epoch finished in 30.75s\n",
      "\n",
      "Epoch 3:\n",
      "D(x): 0.4191 D(G(z)): 0.2822 / 0.3421\n",
      "D(x): 0.5192 D(G(z)): 0.3788 / 0.3723\n",
      "Generator loss: 1.2087, Discriminator loss: 1.2231\n",
      "Epoch finished in 29.86s\n",
      "\n",
      "Epoch 4:\n",
      "D(x): 0.5076 D(G(z)): 0.4859 / 0.4267\n",
      "D(x): 0.5413 D(G(z)): 0.4050 / 0.4124\n",
      "Generator loss: 1.2070, Discriminator loss: 1.2205\n",
      "Epoch finished in 30.58s\n",
      "\n",
      "Epoch 5:\n",
      "D(x): 0.5516 D(G(z)): 0.5371 / 0.5817\n",
      "D(x): 0.6406 D(G(z)): 0.4996 / 0.5457\n",
      "Generator loss: 1.2457, Discriminator loss: 1.2069\n",
      "Epoch finished in 31.01s\n",
      "\n",
      "Epoch 6:\n",
      "D(x): 0.6163 D(G(z)): 0.5016 / 0.5017\n",
      "D(x): 0.4233 D(G(z)): 0.2507 / 0.3281\n",
      "Generator loss: 1.2754, Discriminator loss: 1.1951\n",
      "Epoch finished in 31.24s\n",
      "\n",
      "Epoch 7:\n",
      "D(x): 0.8065 D(G(z)): 0.5271 / 0.5084\n",
      "D(x): 0.5019 D(G(z)): 0.3796 / 0.3490\n",
      "Generator loss: 1.2734, Discriminator loss: 1.1972\n",
      "Epoch finished in 29.86s\n",
      "\n",
      "Epoch 8:\n",
      "D(x): 0.7306 D(G(z)): 0.7392 / 0.6617\n",
      "D(x): 0.6991 D(G(z)): 0.5100 / 0.4924\n",
      "Generator loss: 1.2639, Discriminator loss: 1.1956\n",
      "Epoch finished in 29.34s\n",
      "\n",
      "Epoch 9:\n",
      "D(x): 0.4905 D(G(z)): 0.3159 / 0.2732\n",
      "D(x): 0.7261 D(G(z)): 0.4465 / 0.3694\n",
      "Generator loss: 1.2564, Discriminator loss: 1.1982\n",
      "Epoch finished in 31.15s\n",
      "\n",
      "Epoch 10:\n",
      "D(x): 0.5644 D(G(z)): 0.4984 / 0.5564\n",
      "D(x): 0.7444 D(G(z)): 0.6682 / 0.5637\n",
      "Generator loss: 1.2435, Discriminator loss: 1.1964\n",
      "Epoch finished in 30.19s\n",
      "\n",
      "Epoch 11:\n",
      "D(x): 0.4715 D(G(z)): 0.4234 / 0.4429\n",
      "D(x): 0.4831 D(G(z)): 0.4022 / 0.3413\n",
      "Generator loss: 1.2430, Discriminator loss: 1.1940\n",
      "Epoch finished in 29.99s\n",
      "\n",
      "Epoch 12:\n",
      "D(x): 0.4902 D(G(z)): 0.3879 / 0.3490\n",
      "D(x): 0.4675 D(G(z)): 0.3675 / 0.3936\n",
      "Generator loss: 1.2541, Discriminator loss: 1.1896\n",
      "Epoch finished in 30.38s\n",
      "\n",
      "Epoch 13:\n",
      "D(x): 0.7016 D(G(z)): 0.5846 / 0.6462\n",
      "D(x): 0.4758 D(G(z)): 0.3616 / 0.3222\n",
      "Generator loss: 1.2673, Discriminator loss: 1.1887\n",
      "Epoch finished in 28.02s\n",
      "\n",
      "Epoch 14:\n",
      "D(x): 0.4767 D(G(z)): 0.5116 / 0.4177\n",
      "D(x): 0.4001 D(G(z)): 0.3868 / 0.4858\n",
      "Generator loss: 1.2705, Discriminator loss: 1.1802\n",
      "Epoch finished in 28.59s\n",
      "\n",
      "Epoch 15:\n",
      "D(x): 0.6821 D(G(z)): 0.4847 / 0.4349\n",
      "D(x): 0.4576 D(G(z)): 0.5494 / 0.3845\n",
      "Generator loss: 1.2716, Discriminator loss: 1.1850\n",
      "Epoch finished in 28.19s\n",
      "\n",
      "Epoch 16:\n",
      "D(x): 0.5336 D(G(z)): 0.2767 / 0.2595\n",
      "D(x): 0.4389 D(G(z)): 0.4084 / 0.4393\n",
      "Generator loss: 1.2846, Discriminator loss: 1.1792\n",
      "Epoch finished in 27.99s\n",
      "\n",
      "Epoch 17:\n",
      "D(x): 0.4751 D(G(z)): 0.4237 / 0.3893\n",
      "D(x): 0.8423 D(G(z)): 0.6032 / 0.5569\n",
      "Generator loss: 1.3007, Discriminator loss: 1.1741\n",
      "Epoch finished in 27.77s\n",
      "\n",
      "Epoch 18:\n",
      "D(x): 0.7537 D(G(z)): 0.5367 / 0.5046\n",
      "D(x): 0.8289 D(G(z)): 0.5139 / 0.4890\n",
      "Generator loss: 1.3231, Discriminator loss: 1.1736\n",
      "Epoch finished in 28.03s\n",
      "\n",
      "Epoch 19:\n",
      "D(x): 0.4666 D(G(z)): 0.2200 / 0.1725\n",
      "D(x): 0.5012 D(G(z)): 0.2612 / 0.4555\n",
      "Generator loss: 1.3397, Discriminator loss: 1.1671\n",
      "Epoch finished in 28.19s\n",
      "\n",
      "Epoch 20:\n",
      "D(x): 0.5914 D(G(z)): 0.1977 / 0.3249\n",
      "D(x): 0.6671 D(G(z)): 0.2411 / 0.2756\n",
      "Generator loss: 1.3435, Discriminator loss: 1.1651\n",
      "Epoch finished in 28.13s\n",
      "\n",
      "Epoch 21:\n",
      "D(x): 0.6792 D(G(z)): 0.4862 / 0.3903\n",
      "D(x): 0.6182 D(G(z)): 0.2495 / 0.3489\n",
      "Generator loss: 1.3608, Discriminator loss: 1.1576\n",
      "Epoch finished in 28.83s\n",
      "\n",
      "Epoch 22:\n",
      "D(x): 0.6513 D(G(z)): 0.4492 / 0.5717\n",
      "D(x): 0.5834 D(G(z)): 0.5985 / 0.4285\n",
      "Generator loss: 1.3679, Discriminator loss: 1.1637\n",
      "Epoch finished in 30.14s\n",
      "\n",
      "Epoch 23:\n",
      "D(x): 0.6693 D(G(z)): 0.4028 / 0.3748\n",
      "D(x): 0.7737 D(G(z)): 0.3278 / 0.3625\n",
      "Generator loss: 1.3822, Discriminator loss: 1.1561\n",
      "Epoch finished in 29.79s\n",
      "\n",
      "Epoch 24:\n",
      "D(x): 0.7311 D(G(z)): 0.5283 / 0.6307\n",
      "D(x): 0.7221 D(G(z)): 0.4399 / 0.3596\n",
      "Generator loss: 1.3927, Discriminator loss: 1.1595\n",
      "Epoch finished in 30.38s\n",
      "\n",
      "Epoch 25:\n",
      "D(x): 0.8635 D(G(z)): 0.4656 / 0.5292\n",
      "D(x): 0.5232 D(G(z)): 0.2645 / 0.4100\n",
      "Generator loss: 1.4040, Discriminator loss: 1.1536\n",
      "Epoch finished in 30.71s\n",
      "\n",
      "Epoch 26:\n",
      "D(x): 0.7603 D(G(z)): 0.3649 / 0.3167\n",
      "D(x): 0.4853 D(G(z)): 0.3126 / 0.2912\n",
      "Generator loss: 1.3809, Discriminator loss: 1.1518\n",
      "Epoch finished in 35.54s\n",
      "\n",
      "Epoch 27:\n",
      "D(x): 0.6196 D(G(z)): 0.1751 / 0.1095\n",
      "D(x): 0.8888 D(G(z)): 0.4594 / 0.7648\n",
      "Generator loss: 1.3948, Discriminator loss: 1.1551\n",
      "Epoch finished in 30.20s\n",
      "\n",
      "Epoch 28:\n",
      "D(x): 0.6450 D(G(z)): 0.4276 / 0.5156\n",
      "D(x): 0.7762 D(G(z)): 0.4708 / 0.3838\n",
      "Generator loss: 1.3952, Discriminator loss: 1.1575\n",
      "Epoch finished in 29.94s\n",
      "\n",
      "Epoch 29:\n",
      "D(x): 0.8554 D(G(z)): 0.6325 / 0.4861\n",
      "D(x): 0.5244 D(G(z)): 0.2208 / 0.3080\n",
      "Generator loss: 1.4044, Discriminator loss: 1.1499\n",
      "Epoch finished in 29.28s\n",
      "\n",
      "Epoch 30:\n",
      "D(x): 0.7428 D(G(z)): 0.5050 / 0.2637\n",
      "D(x): 0.5748 D(G(z)): 0.1851 / 0.1164\n",
      "Generator loss: 1.4221, Discriminator loss: 1.1491\n",
      "Epoch finished in 30.10s\n",
      "\n",
      "Epoch 31:\n",
      "D(x): 0.5701 D(G(z)): 0.2139 / 0.1929\n",
      "D(x): 0.7438 D(G(z)): 0.3983 / 0.4547\n",
      "Generator loss: 1.4065, Discriminator loss: 1.1529\n",
      "Epoch finished in 29.27s\n",
      "\n",
      "Epoch 32:\n",
      "D(x): 0.8610 D(G(z)): 0.5823 / 0.6706\n",
      "D(x): 0.7876 D(G(z)): 0.5264 / 0.4445\n",
      "Generator loss: 1.4086, Discriminator loss: 1.1493\n",
      "Epoch finished in 28.83s\n",
      "\n",
      "Epoch 33:\n",
      "D(x): 0.9100 D(G(z)): 0.7855 / 0.5939\n",
      "D(x): 0.7898 D(G(z)): 0.1882 / 0.3243\n",
      "Generator loss: 1.4286, Discriminator loss: 1.1495\n",
      "Epoch finished in 28.74s\n",
      "\n",
      "Epoch 34:\n",
      "D(x): 0.7349 D(G(z)): 0.3424 / 0.2982\n",
      "D(x): 0.7715 D(G(z)): 0.6889 / 0.5265\n",
      "Generator loss: 1.4318, Discriminator loss: 1.1449\n",
      "Epoch finished in 30.03s\n",
      "\n",
      "Epoch 35:\n",
      "D(x): 0.7218 D(G(z)): 0.6093 / 0.5489\n",
      "D(x): 0.4956 D(G(z)): 0.1796 / 0.1816\n",
      "Generator loss: 1.4459, Discriminator loss: 1.1425\n",
      "Epoch finished in 29.68s\n",
      "\n",
      "Epoch 36:\n",
      "D(x): 0.4256 D(G(z)): 0.0597 / 0.0907\n",
      "D(x): 0.3478 D(G(z)): 0.1721 / 0.3208\n",
      "Generator loss: 1.4386, Discriminator loss: 1.1428\n",
      "Epoch finished in 28.66s\n",
      "\n",
      "Epoch 37:\n",
      "D(x): 0.8098 D(G(z)): 0.5636 / 0.4887\n",
      "D(x): 0.8535 D(G(z)): 0.6684 / 0.4438\n",
      "Generator loss: 1.4391, Discriminator loss: 1.1426\n",
      "Epoch finished in 29.20s\n",
      "\n",
      "Epoch 38:\n",
      "D(x): 0.4591 D(G(z)): 0.3840 / 0.2887\n",
      "D(x): 0.5996 D(G(z)): 0.1106 / 0.2778\n",
      "Generator loss: 1.4546, Discriminator loss: 1.1392\n",
      "Epoch finished in 29.12s\n",
      "\n",
      "Epoch 39:\n",
      "D(x): 0.6945 D(G(z)): 0.2636 / 0.2410\n",
      "D(x): 0.6670 D(G(z)): 0.2236 / 0.3174\n",
      "Generator loss: 1.4537, Discriminator loss: 1.1363\n",
      "Epoch finished in 29.14s\n",
      "\n",
      "Epoch 40:\n",
      "D(x): 0.7119 D(G(z)): 0.3397 / 0.3788\n",
      "D(x): 0.8194 D(G(z)): 0.4311 / 0.3386\n",
      "Generator loss: 1.4682, Discriminator loss: 1.1404\n",
      "Epoch finished in 29.55s\n",
      "\n",
      "Epoch 41:\n",
      "D(x): 0.7801 D(G(z)): 0.3926 / 0.4662\n",
      "D(x): 0.6925 D(G(z)): 0.4115 / 0.5026\n",
      "Generator loss: 1.4648, Discriminator loss: 1.1421\n",
      "Epoch finished in 29.34s\n",
      "\n",
      "Epoch 42:\n",
      "D(x): 0.3829 D(G(z)): 0.2504 / 0.4950\n",
      "D(x): 0.6801 D(G(z)): 0.2825 / 0.2450\n",
      "Generator loss: 1.4588, Discriminator loss: 1.1403\n",
      "Epoch finished in 29.14s\n",
      "\n",
      "Epoch 43:\n",
      "D(x): 0.9232 D(G(z)): 0.5439 / 0.6466\n",
      "D(x): 0.4403 D(G(z)): 0.1208 / 0.1980\n",
      "Generator loss: 1.4426, Discriminator loss: 1.1432\n",
      "Epoch finished in 28.92s\n",
      "\n",
      "Epoch 44:\n",
      "D(x): 0.7852 D(G(z)): 0.2796 / 0.3318\n",
      "D(x): 0.6461 D(G(z)): 0.1893 / 0.2343\n",
      "Generator loss: 1.4559, Discriminator loss: 1.1368\n",
      "Epoch finished in 30.54s\n",
      "\n",
      "Epoch 45:\n",
      "D(x): 0.7188 D(G(z)): 0.5096 / 0.5533\n",
      "D(x): 0.6749 D(G(z)): 0.4220 / 0.4866\n",
      "Generator loss: 1.4647, Discriminator loss: 1.1333\n",
      "Epoch finished in 29.15s\n",
      "\n",
      "Epoch 46:\n",
      "D(x): 0.4088 D(G(z)): 0.2247 / 0.1506\n",
      "D(x): 0.5239 D(G(z)): 0.3254 / 0.2747\n",
      "Generator loss: 1.4608, Discriminator loss: 1.1332\n",
      "Epoch finished in 29.25s\n",
      "\n",
      "Epoch 47:\n",
      "D(x): 0.8564 D(G(z)): 0.5792 / 0.3589\n",
      "D(x): 0.7903 D(G(z)): 0.3330 / 0.3372\n",
      "Generator loss: 1.4994, Discriminator loss: 1.1312\n",
      "Epoch finished in 29.15s\n",
      "\n",
      "Epoch 48:\n",
      "D(x): 0.4906 D(G(z)): 0.0702 / 0.1551\n",
      "D(x): 0.5663 D(G(z)): 0.2128 / 0.1761\n",
      "Generator loss: 1.4807, Discriminator loss: 1.1347\n",
      "Epoch finished in 29.32s\n",
      "\n",
      "Epoch 49:\n",
      "D(x): 0.3774 D(G(z)): 0.3627 / 0.2744\n",
      "D(x): 0.7609 D(G(z)): 0.3897 / 0.2543\n",
      "Generator loss: 1.4751, Discriminator loss: 1.1370\n",
      "Epoch finished in 29.62s\n",
      "\n",
      "==================================================\n",
      "==> Optimization finished in 1485.32s!\n"
     ]
    }
   ],
   "source": [
    "# some hyperparameters\n",
    "# total number of training epochs\n",
    "start_epoch = 0\n",
    "\n",
    "# start the training/validation process\n",
    "best_loss_g = 1e20\n",
    "best_loss_d = 1e20\n",
    "\n",
    "start = time.time()\n",
    "print(\"==> Training starts!\")\n",
    "print(\"=\"*50)\n",
    "\n",
    "# store loss learning curve\n",
    "g_loss_lst = []\n",
    "d_loss_lst = []\n",
    "\n",
    "fixed_random_z = torch.randn(params.batch_size, params.latent_dim).to(device)\n",
    "\n",
    "for i in range(start_epoch, params.n_epochs):\n",
    "    epoch_start = time.time()\n",
    "    print(\"Epoch %d:\" %i)\n",
    "    # this help you compute the training accuracy\n",
    "    total_examples = 0\n",
    "    correct_examples = 0\n",
    "\n",
    "    g_loss = []\n",
    "    d_loss = []\n",
    "    \n",
    "    # Train the model for 1 epoch.\n",
    "    for batch_idx, (inputs, targets) in enumerate(dataloader):\n",
    "        \n",
    "        inputs = inputs.float().to(device)\n",
    "        batch_size = inputs.size(0)\n",
    "        targets = targets.type(torch.LongTensor)\n",
    "        targets = targets.to(device)\n",
    "        \n",
    "        real_labels = torch.full((batch_size,1), 1.0).to(device)\n",
    "        fake_labels = torch.full((batch_size,1), 0.0).to(device)\n",
    "        \n",
    "        ####################################\n",
    "        # Train Generator\n",
    "        ###################################\n",
    "        # maximize generator's ability to fool discriminator\n",
    "        # generate input random vector with encoded class information\n",
    "        z = torch.randn(batch_size, params.latent_dim)\n",
    "        gen_class = np.random.randint(0, params.num_classes, batch_size)\n",
    "        z_labels = torch.zeros(batch_size, params.num_classes)\n",
    "        z_labels[np.arange(batch_size), gen_class] = 1.0\n",
    "        z = torch.concat((z, z_labels), 1).to(device)\n",
    "        gen_class = torch.from_numpy(gen_class).type(torch.LongTensor).to(device)\n",
    "\n",
    "        gen_imgs = generator(z)\n",
    "        fake_outputs, pred_fake_class = discriminator(gen_imgs)\n",
    "        loss_G_dis = discrimination_loss(fake_outputs, real_labels)\n",
    "        loss_G_cls = classification_loss(pred_fake_class, gen_class)\n",
    "        loss_G = (loss_G_dis + loss_G_cls) / 2\n",
    "        \n",
    "        # zero the gradient\n",
    "        optimizerG.zero_grad()\n",
    "        # backpropagation\n",
    "        loss_G.backward()\n",
    "        # apply gradient and update the weights\n",
    "        optimizerG.step()\n",
    "\n",
    "        # calculate percentage of confidence\n",
    "        G_z = fake_outputs.mean().item()\n",
    "        g_loss.append(loss_G.cpu().detach().numpy())\n",
    "        ####################################\n",
    "        \n",
    "        ####################################\n",
    "        # Train Discriminator\n",
    "        ###################################\n",
    "        # train to recog real image\n",
    "        real_outputs, pred_real_class = discriminator(inputs)\n",
    "        loss_real_dis = discrimination_loss(real_outputs, real_labels)\n",
    "        loss_real_cls = classification_loss(pred_real_class, targets)\n",
    "        loss_real = (loss_real_dis + loss_real_cls) / 2\n",
    "        \n",
    "        ###################################\n",
    "        # train to recog fake image\n",
    "        fake_outputs, pred_fake_class = discriminator(gen_imgs.detach())\n",
    "        loss_fake_dis = discrimination_loss(fake_outputs, fake_labels)\n",
    "        loss_fake_cls = classification_loss(pred_fake_class, gen_class)\n",
    "        loss_fake = (loss_fake_dis + loss_fake_cls) / 2\n",
    "        \n",
    "        # sum loss\n",
    "        loss_D = (loss_fake + loss_real) / 2\n",
    "        # zero the gradient\n",
    "        optimizerD.zero_grad()\n",
    "        # backpropagation\n",
    "        loss_D.backward()\n",
    "        # apply gradient and update the weights\n",
    "        optimizerD.step()\n",
    "\n",
    "        # calculate percentage of confidence\n",
    "        D_x = real_outputs.mean().item()\n",
    "        D_z = fake_outputs.mean().item()\n",
    "        d_loss.append(loss_D.cpu().detach().numpy())\n",
    "        \n",
    "        ####################################\n",
    "        \n",
    "        if (batch_idx % params.sample_interval == 0): \n",
    "            batches_done = i * len(dataloader) + batch_idx\n",
    "            save_image(generator(fixed_random_z).data[:40], os.path.join(params.imgsave_path, \"%d.png\" % batches_done), nrow=5, normalize=True)\n",
    "            print(\"D(x): %.4f D(G(z)): %.4f / %.4f\"%(D_x, D_z, G_z))\n",
    "        \n",
    "    avg_loss_g = np.sum(np.asarray(g_loss)) / len(g_loss)\n",
    "    avg_loss_d = np.sum(np.asarray(d_loss)) / len(d_loss)\n",
    "    print(\"Generator loss: %.4f, Discriminator loss: %.4f\"%(avg_loss_g, avg_loss_d))\n",
    "    \n",
    "    g_loss_lst.append(avg_loss_g)\n",
    "    d_loss_lst.append(avg_loss_d)\n",
    "    \n",
    "    # save the model checkpoint\n",
    "    state_G = generator.state_dict()\n",
    "    torch.save(state_G, os.path.join(params.CHECKPOINT_FOLDER, 'generator.pth'))\n",
    "    state_D = discriminator.state_dict()\n",
    "    torch.save(state_D, os.path.join(params.CHECKPOINT_FOLDER, 'discriminator.pth'))\n",
    "    print(f\"Epoch finished in {time.time() - epoch_start:.2f}s\")\n",
    "    print(\"\")\n",
    "\n",
    "print(\"=\"*50)\n",
    "print(f\"==> Optimization finished in {time.time() - start:.2f}s!\")"
   ]
  },
  {
   "cell_type": "code",
   "execution_count": 8,
   "metadata": {
    "pycharm": {
     "name": "#%%\n"
    },
    "scrolled": true
   },
   "outputs": [
    {
     "data": {
      "image/png": "[encoded data removed]",
      "text/plain": [
       "<Figure size 432x288 with 1 Axes>"
      ]
     },
     "metadata": {
      "needs_background": "light"
     },
     "output_type": "display_data"
    }
   ],
   "source": [
    "plt.plot(g_loss_lst, label='Generator Error')\n",
    "plt.plot(d_loss_lst, label='Discriminator Error')\n",
    "plt.title(\"AC-GAN Learning Curve\")\n",
    "plt.legend()\n",
    "plt.xlabel('epoch')\n",
    "plt.ylabel('loss')\n",
    "plt.show()"
   ]
  }
 ],
 "metadata": {
  "kernelspec": {
   "display_name": "Python 3.9.10 64-bit",
   "language": "python",
   "name": "python3"
  },
  "language_info": {
   "codemirror_mode": {
    "name": "ipython",
    "version": 3
   },
   "file_extension": ".py",
   "mimetype": "text/x-python",
   "name": "python",
   "nbconvert_exporter": "python",
   "pygments_lexer": "ipython3",
   "version": "3.9.10"
  },
  "vscode": {
   "interpreter": {
    "hash": "55bddd02603dad7cae9250e67c4f06c2e526a4aeb2bdb15aa8db98b2d78ddb6c"
   }
  }
 },
 "nbformat": 4,
 "nbformat_minor": 4
}
