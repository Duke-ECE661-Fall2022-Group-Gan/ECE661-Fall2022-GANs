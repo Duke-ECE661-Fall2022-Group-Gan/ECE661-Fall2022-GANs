{
 "cells": [
  {
   "cell_type": "markdown",
   "metadata": {
    "pycharm": {
     "name": "#%% md\n"
    }
   },
   "source": [
    "# Training Vanilla GAN on CIFAR-10"
   ]
  },
  {
   "cell_type": "code",
   "execution_count": 1,
   "metadata": {
    "pycharm": {
     "name": "#%%\n"
    }
   },
   "outputs": [
    {
     "name": "stdout",
     "output_type": "stream",
     "text": [
      "Requirement already satisfied: torch-summary in c:\\users\\warre\\anaconda3\\envs\\pytorch\\lib\\site-packages (1.4.5)\n"
     ]
    }
   ],
   "source": [
    "# import necessary dependencies\n",
    "import argparse\n",
    "import os, sys\n",
    "import time\n",
    "import datetime\n",
    "import numpy as np\n",
    "import matplotlib.pyplot as plt\n",
    "from tqdm import tqdm_notebook as tqdm\n",
    "\n",
    "import torch\n",
    "\n",
    "import torch.nn as nn\n",
    "import torch.nn.functional as F\n",
    "from torch.autograd import Variable\n",
    "!pip install torch-summary\n",
    "from torchsummary import summary\n",
    "from torchvision.utils import save_image\n",
    "\n",
    "import gitpath\n",
    "HOME_PATH = gitpath.root()\n",
    "sys.path.append(HOME_PATH)\n",
    "\n",
    "from models.WGAN import *"
   ]
  },
  {
   "cell_type": "code",
   "execution_count": 2,
   "metadata": {},
   "outputs": [],
   "source": [
    "class HyperParams:\n",
    "    def __init__(self):\n",
    "        # Constance hyperparameters. They have been tested and don't need to be tuned.\n",
    "        self.n_epochs = 50\n",
    "        self.batch_size = 64\n",
    "        self.lr = 0.0002\n",
    "        self.n_critic = 5\n",
    "        self.Lipschitz_mode = 'clipping'\n",
    "        self.n_workers = 8\n",
    "        self.latent_dim = 100\n",
    "        self.img_size = 32\n",
    "        self.channels = 3\n",
    "        self.sample_interval = 500\n",
    "        self.imgsave_path = os.path.join(HOME_PATH, 'images', 'wgan_'+self.Lipschitz_mode)\n",
    "        self.CHECKPOINT_FOLDER = os.path.join(HOME_PATH, 'saved_model', 'wgan_'+self.Lipschitz_mode)\n",
    "        \n",
    "params = HyperParams()\n",
    "os.makedirs(params.imgsave_path, exist_ok=True)\n",
    "os.makedirs(params.CHECKPOINT_FOLDER, exist_ok=True)"
   ]
  },
  {
   "cell_type": "markdown",
   "metadata": {
    "pycharm": {
     "name": "#%% md\n"
    }
   },
   "source": [
    "## Step 1: Set up preprocessing functions"
   ]
  },
  {
   "cell_type": "code",
   "execution_count": 3,
   "metadata": {
    "pycharm": {
     "name": "#%%\n"
    }
   },
   "outputs": [],
   "source": [
    "# useful libraries\n",
    "import torchvision\n",
    "import torchvision.transforms as transforms\n",
    "\n",
    "transform = transforms.Compose([\n",
    "        transforms.ToTensor(),\n",
    "        transforms.Normalize(mean=(0.4914, 0.4822, 0.4465), std=(0.2023, 0.1994, 0.2010))\n",
    "        ])"
   ]
  },
  {
   "cell_type": "code",
   "execution_count": 4,
   "metadata": {
    "pycharm": {
     "name": "#%%\n"
    }
   },
   "outputs": [
    {
     "name": "stdout",
     "output_type": "stream",
     "text": [
      "Files already downloaded and verified\n"
     ]
    }
   ],
   "source": [
    "# do NOT change these\n",
    "import torchvision.datasets as dset\n",
    "from torch.utils.data import DataLoader\n",
    "\n",
    "# a few arguments, do NOT change these\n",
    "DATA_ROOT = os.path.join(HOME_PATH, \"data\")\n",
    "\n",
    "# construct dataset\n",
    "dataset = dset.CIFAR10(\n",
    "    root=DATA_ROOT,\n",
    "    train=True,\n",
    "    download=True,\n",
    "    transform=transform \n",
    ")\n",
    "\n",
    "# construct dataloader\n",
    "dataloader = DataLoader(\n",
    "    dataset, \n",
    "    batch_size=params.batch_size,  # your code\n",
    "    shuffle=True,     # your code\n",
    "    num_workers=params.n_workers\n",
    ")"
   ]
  },
  {
   "cell_type": "markdown",
   "metadata": {
    "pycharm": {
     "name": "#%% md\n"
    }
   },
   "source": [
    "## Step 3: Instantiate your SimpleNN model and deploy it to GPU devices."
   ]
  },
  {
   "cell_type": "code",
   "execution_count": null,
   "metadata": {
    "pycharm": {
     "name": "#%%\n"
    }
   },
   "outputs": [
    {
     "name": "stdout",
     "output_type": "stream",
     "text": [
      "Run on GPU...\n"
     ]
    }
   ],
   "source": [
    "# specify the device for computation\n",
    "\n",
    "# GPU check                \n",
    "device = 'cuda' if torch.cuda.is_available() else 'cpu'\n",
    "if device =='cuda':\n",
    "    print(\"Run on GPU...\")\n",
    "else:\n",
    "    print(\"Run on CPU...\")\n",
    "\n",
    "# Model Definition  \n",
    "generator = Generator(params.latent_dim).to(device)\n",
    "discriminator = Discriminator().to(device)\n",
    "\n",
    "# Check if on GPU\n",
    "assert(next(generator.parameters()).is_cuda)\n",
    "assert(next(discriminator.parameters()).is_cuda)"
   ]
  },
  {
   "cell_type": "markdown",
   "metadata": {
    "pycharm": {
     "name": "#%% md\n"
    }
   },
   "source": [
    "## Step 4: Set up the loss function and optimizer"
   ]
  },
  {
   "cell_type": "code",
   "execution_count": null,
   "metadata": {
    "pycharm": {
     "name": "#%%\n"
    }
   },
   "outputs": [],
   "source": [
    "import torch.nn as nn\n",
    "import torch.optim as optim\n",
    "\n",
    "# Add optimizer\n",
    "optimizerG = optim.RMSprop(generator.parameters(), lr=params.lr)\n",
    "optimizerD = optim.RMSprop(discriminator.parameters(), lr=params.lr)"
   ]
  },
  {
   "cell_type": "markdown",
   "metadata": {
    "pycharm": {
     "name": "#%% md\n"
    }
   },
   "source": [
    "## Step 5: Start the training process.\n"
   ]
  },
  {
   "cell_type": "code",
   "execution_count": null,
   "metadata": {
    "pycharm": {
     "name": "#%%\n"
    },
    "scrolled": true
   },
   "outputs": [
    {
     "name": "stdout",
     "output_type": "stream",
     "text": [
      "==> Training starts!\n",
      "==================================================\n",
      "Epoch 0:\n",
      "Generator loss: 0.2309, Discriminator loss: -0.4027\n",
      "Epoch finished in 24.39s\n",
      "\n",
      "Epoch 1:\n",
      "Generator loss: 0.2205, Discriminator loss: -0.4147\n",
      "Epoch finished in 19.38s\n",
      "\n",
      "Epoch 2:\n",
      "Generator loss: 0.2484, Discriminator loss: -0.5088\n",
      "Epoch finished in 19.17s\n",
      "\n",
      "Epoch 3:\n",
      "Generator loss: 0.2593, Discriminator loss: -0.5459\n",
      "Epoch finished in 19.68s\n",
      "\n",
      "Epoch 4:\n",
      "Generator loss: 0.2434, Discriminator loss: -0.5233\n",
      "Epoch finished in 19.32s\n",
      "\n",
      "Epoch 5:\n",
      "Generator loss: 0.2290, Discriminator loss: -0.4657\n",
      "Epoch finished in 19.17s\n",
      "\n",
      "Epoch 6:\n",
      "Generator loss: 0.2141, Discriminator loss: -0.4310\n",
      "Epoch finished in 19.22s\n",
      "\n",
      "Epoch 7:\n",
      "Generator loss: 0.2045, Discriminator loss: -0.3983\n",
      "Epoch finished in 19.36s\n",
      "\n",
      "Epoch 8:\n",
      "Generator loss: 0.1761, Discriminator loss: -0.3273\n",
      "Epoch finished in 19.54s\n",
      "\n",
      "Epoch 9:\n",
      "Generator loss: 0.1504, Discriminator loss: -0.2639\n",
      "Epoch finished in 19.23s\n",
      "\n",
      "Epoch 10:\n",
      "Generator loss: 0.1394, Discriminator loss: -0.2235\n",
      "Epoch finished in 19.46s\n",
      "\n",
      "Epoch 11:\n",
      "Generator loss: 0.1596, Discriminator loss: -0.2904\n",
      "Epoch finished in 19.68s\n",
      "\n",
      "Epoch 12:\n",
      "Generator loss: 0.1492, Discriminator loss: -0.2682\n",
      "Epoch finished in 18.97s\n",
      "\n",
      "Epoch 13:\n",
      "Generator loss: 0.1506, Discriminator loss: -0.2743\n",
      "Epoch finished in 19.18s\n",
      "\n",
      "Epoch 14:\n",
      "Generator loss: 0.1510, Discriminator loss: -0.2721\n",
      "Epoch finished in 18.96s\n",
      "\n",
      "Epoch 15:\n",
      "Generator loss: 0.1424, Discriminator loss: -0.2539\n",
      "Epoch finished in 19.30s\n",
      "\n",
      "Epoch 16:\n",
      "Generator loss: 0.1398, Discriminator loss: -0.2375\n",
      "Epoch finished in 19.15s\n",
      "\n",
      "Epoch 17:\n",
      "Generator loss: 0.1261, Discriminator loss: -0.2186\n",
      "Epoch finished in 19.00s\n",
      "\n",
      "Epoch 18:\n",
      "Generator loss: 0.1235, Discriminator loss: -0.2078\n",
      "Epoch finished in 19.10s\n",
      "\n",
      "Epoch 19:\n",
      "Generator loss: 0.1229, Discriminator loss: -0.1957\n",
      "Epoch finished in 19.13s\n",
      "\n",
      "Epoch 20:\n",
      "Generator loss: 0.1164, Discriminator loss: -0.1850\n",
      "Epoch finished in 19.52s\n",
      "\n",
      "Epoch 21:\n",
      "Generator loss: 0.1183, Discriminator loss: -0.1784\n",
      "Epoch finished in 19.74s\n",
      "\n",
      "Epoch 22:\n",
      "Generator loss: 0.1120, Discriminator loss: -0.1755\n",
      "Epoch finished in 19.73s\n",
      "\n",
      "Epoch 23:\n",
      "Generator loss: 0.1099, Discriminator loss: -0.1633\n",
      "Epoch finished in 18.79s\n",
      "\n",
      "Epoch 24:\n",
      "Generator loss: 0.1001, Discriminator loss: -0.1585\n",
      "Epoch finished in 18.75s\n",
      "\n",
      "Epoch 25:\n",
      "Generator loss: 0.1044, Discriminator loss: -0.1496\n",
      "Epoch finished in 18.89s\n",
      "\n",
      "Epoch 26:\n",
      "Generator loss: 0.0906, Discriminator loss: -0.1469\n",
      "Epoch finished in 19.49s\n",
      "\n",
      "Epoch 27:\n",
      "Generator loss: 0.0915, Discriminator loss: -0.1461\n",
      "Epoch finished in 19.83s\n",
      "\n",
      "Epoch 28:\n",
      "Generator loss: 0.0914, Discriminator loss: -0.1457\n",
      "Epoch finished in 19.84s\n",
      "\n",
      "Epoch 29:\n",
      "Generator loss: 0.0865, Discriminator loss: -0.1276\n",
      "Epoch finished in 19.65s\n",
      "\n",
      "Epoch 30:\n",
      "Generator loss: 0.0691, Discriminator loss: -0.1332\n",
      "Epoch finished in 20.13s\n",
      "\n",
      "Epoch 31:\n",
      "Generator loss: 0.0803, Discriminator loss: -0.1283\n",
      "Epoch finished in 20.10s\n",
      "\n",
      "Epoch 32:\n",
      "Generator loss: 0.0840, Discriminator loss: -0.1263\n",
      "Epoch finished in 19.45s\n",
      "\n",
      "Epoch 33:\n",
      "Generator loss: 0.0896, Discriminator loss: -0.1248\n",
      "Epoch finished in 18.88s\n",
      "\n",
      "Epoch 34:\n",
      "Generator loss: 0.0988, Discriminator loss: -0.1241\n",
      "Epoch finished in 19.28s\n",
      "\n",
      "Epoch 35:\n",
      "Generator loss: 0.0817, Discriminator loss: -0.1277\n",
      "Epoch finished in 20.04s\n",
      "\n",
      "Epoch 36:\n",
      "Generator loss: 0.0962, Discriminator loss: -0.1333\n",
      "Epoch finished in 20.13s\n",
      "\n",
      "Epoch 37:\n",
      "Generator loss: 0.0950, Discriminator loss: -0.1339\n",
      "Epoch finished in 19.99s\n",
      "\n",
      "Epoch 38:\n",
      "Generator loss: 0.0857, Discriminator loss: -0.1340\n",
      "Epoch finished in 19.44s\n",
      "\n",
      "Epoch 39:\n",
      "Generator loss: 0.0886, Discriminator loss: -0.1321\n",
      "Epoch finished in 19.74s\n",
      "\n",
      "Epoch 40:\n",
      "Generator loss: 0.0912, Discriminator loss: -0.1305\n",
      "Epoch finished in 19.42s\n",
      "\n",
      "Epoch 41:\n",
      "Generator loss: 0.0858, Discriminator loss: -0.1290\n",
      "Epoch finished in 19.23s\n",
      "\n",
      "Epoch 42:\n",
      "Generator loss: 0.0854, Discriminator loss: -0.1275\n",
      "Epoch finished in 18.57s\n",
      "\n",
      "Epoch 43:\n",
      "Generator loss: 0.0658, Discriminator loss: -0.1187\n",
      "Epoch finished in 19.33s\n",
      "\n",
      "Epoch 44:\n",
      "Generator loss: 0.0864, Discriminator loss: -0.1162\n",
      "Epoch finished in 19.47s\n",
      "\n",
      "Epoch 45:\n",
      "Generator loss: 0.1010, Discriminator loss: -0.1260\n",
      "Epoch finished in 19.40s\n",
      "\n",
      "Epoch 46:\n",
      "Generator loss: 0.0886, Discriminator loss: -0.1270\n",
      "Epoch finished in 18.40s\n",
      "\n",
      "Epoch 47:\n",
      "Generator loss: 0.0762, Discriminator loss: -0.1147\n",
      "Epoch finished in 18.21s\n",
      "\n",
      "Epoch 48:\n",
      "Generator loss: 0.0737, Discriminator loss: -0.1133\n",
      "Epoch finished in 18.14s\n",
      "\n",
      "Epoch 49:\n",
      "Generator loss: 0.0855, Discriminator loss: -0.1157\n",
      "Epoch finished in 18.60s\n",
      "\n",
      "==================================================\n",
      "==> Optimization finished in 970.58s!\n"
     ]
    }
   ],
   "source": [
    "# some hyperparameters\n",
    "# total number of training epochs\n",
    "start_epoch = 0\n",
    "\n",
    "# start the training/validation process\n",
    "best_loss_g = 1e20\n",
    "best_loss_d = 1e20\n",
    "\n",
    "start = time.time()\n",
    "print(\"==> Training starts!\")\n",
    "print(\"=\"*50)\n",
    "\n",
    "# store loss learning curve\n",
    "g_loss_lst = []\n",
    "d_loss_lst = []\n",
    "\n",
    "fixed_random_z = torch.randn(params.batch_size, params.latent_dim).to(device)\n",
    "\n",
    "for i in range(start_epoch, params.n_epochs):\n",
    "    epoch_start = time.time()\n",
    "    print(\"Epoch %d:\" %i)\n",
    "    # this help you compute the training accuracy\n",
    "    total_examples = 0\n",
    "    correct_examples = 0\n",
    "\n",
    "    g_loss = []\n",
    "    d_loss = []\n",
    "    \n",
    "    # Train the model for 1 epoch.\n",
    "    for batch_idx, (inputs, targets) in enumerate(dataloader):\n",
    "        \n",
    "        inputs = inputs.float().to(device)\n",
    "        batch_size = inputs.size(0)\n",
    "        \n",
    "        # generate fake images\n",
    "        z = torch.randn(batch_size, params.latent_dim).to(device)\n",
    "        gen_imgs = generator(z)\n",
    "        \n",
    "        ####################################\n",
    "        # Train Discriminator\n",
    "        ###################################\n",
    "        # Ref: WGAN paper page 8 Algo 1\n",
    "\n",
    "        loss_real = torch.mean(discriminator(inputs))\n",
    "        loss_fake = -torch.mean(discriminator(gen_imgs.detach()))\n",
    "        loss_D = loss_fake + loss_real\n",
    "        \n",
    "        # satisfy Lipschitz constraint\n",
    "        if params.Lipschitz_mode == 'clipping':\n",
    "            CLIP_VALUE = 0.01\n",
    "            for p in discriminator.parameters():\n",
    "                p.data.clamp_(-CLIP_VALUE, CLIP_VALUE)\n",
    "        if params.Lipschitz_mode == 'gp':\n",
    "            from torch import autograd\n",
    "            # Ref: WGAN-GP paper Algo 1\n",
    "            # Ref: https://github.com/caogang/wgan-gp.git\n",
    "            GP_LAMBDA = 10\n",
    "\n",
    "            alpha = torch.rand(batch_size, 1, 1, 1)\n",
    "            alpha = alpha.expand_as(inputs)\n",
    "            alpha = alpha.type_as(inputs)\n",
    "\n",
    "            interp_data = alpha * inputs + ((1 - alpha) * gen_imgs)\n",
    "            interp_data = autograd.Variable(interp_data, requires_grad=True)\n",
    "\n",
    "            disc_out = discriminator(interp_data)\n",
    "            grad_outputs = torch.ones(disc_out.size()).type_as(disc_out.data)\n",
    "\n",
    "            gradients = autograd.grad(\n",
    "                outputs=disc_out,\n",
    "                inputs=interp_data,\n",
    "                grad_outputs=grad_outputs,\n",
    "                create_graph=True,\n",
    "                only_inputs=True)[0]\n",
    "\n",
    "            gradients = gradients.view(batch_size, -1)\n",
    "\n",
    "            gradient_penalty = GP_LAMBDA * ((gradients.norm(2, dim=1) - 1) ** 2).mean()\n",
    "            if (batch_idx % params.sample_interval == 0): \n",
    "                print((gradients.norm(2, dim=1)))\n",
    "                print(((gradients.norm(2, dim=1) - 1) ** 2).mean())\n",
    "        \n",
    "        # backpropagation\n",
    "        \n",
    "        optimizerD.zero_grad()\n",
    "        loss_D.backward()\n",
    "        optimizerD.step()\n",
    "\n",
    "        # calculate percentage of confidence\n",
    "        d_loss.append(loss_D.cpu().detach().numpy())\n",
    "\n",
    "        ####################################\n",
    "        \n",
    "        if batch_idx % params.n_critic == 0:\n",
    "            ####################################\n",
    "            # Train Generator\n",
    "            ###################################\n",
    "            # maximize generator's ability to fool discriminator\n",
    "\n",
    "            # compute loss\n",
    "            loss_G = torch.mean(discriminator(gen_imgs))\n",
    "            \n",
    "            # backpropagation\n",
    "            optimizerG.zero_grad()\n",
    "            loss_G.backward()\n",
    "            optimizerG.step()\n",
    "\n",
    "            # calculate percentage of confidence\n",
    "            g_loss.append(loss_G.cpu().detach().numpy())\n",
    "            ####################################\n",
    "        \n",
    "        if (batch_idx % params.sample_interval == 0): \n",
    "            batches_done = i * len(dataloader) + batch_idx\n",
    "            save_image(generator(fixed_random_z).data[:40], os.path.join(params.imgsave_path, \"%d.png\" % batches_done), nrow=5, normalize=True)\n",
    "        \n",
    "    avg_loss_g = np.sum(np.asarray(g_loss)) / len(g_loss)\n",
    "    avg_loss_d = np.sum(np.asarray(d_loss)) / len(d_loss)\n",
    "    print(\"Generator loss: %.4f, Discriminator loss: %.4f\"%(avg_loss_g, avg_loss_d))\n",
    "    \n",
    "    g_loss_lst.append(avg_loss_g)\n",
    "    d_loss_lst.append(avg_loss_d)\n",
    "    \n",
    "    # save the model checkpoint\n",
    "    state_G = generator.state_dict()\n",
    "    torch.save(state_G, os.path.join(params.CHECKPOINT_FOLDER, 'generator.pth'))\n",
    "    state_D = discriminator.state_dict()\n",
    "    torch.save(state_D, os.path.join(params.CHECKPOINT_FOLDER, 'discriminator.pth'))\n",
    "    print(f\"Epoch finished in {time.time() - epoch_start:.2f}s\")\n",
    "    print(\"\")\n",
    "\n",
    "print(\"=\"*50)\n",
    "print(f\"==> Optimization finished in {time.time() - start:.2f}s!\")"
   ]
  },
  {
   "cell_type": "code",
   "execution_count": null,
   "metadata": {
    "pycharm": {
     "name": "#%%\n"
    },
    "scrolled": true
   },
   "outputs": [
    {
     "data": {
      "image/png": "[encoded data removed]",
      "text/plain": [
       "<Figure size 432x288 with 1 Axes>"
      ]
     },
     "metadata": {
      "needs_background": "light"
     },
     "output_type": "display_data"
    }
   ],
   "source": [
    "plt.plot(g_loss_lst, label='Generator Error')\n",
    "plt.plot(d_loss_lst, label='Discriminator Error')\n",
    "plt.title(\"GAN Learning Curve\")\n",
    "plt.legend()\n",
    "plt.xlabel('epoch')\n",
    "plt.ylabel('loss')\n",
    "plt.show()"
   ]
  }
 ],
 "metadata": {
  "kernelspec": {
   "display_name": "pytorch",
   "language": "python",
   "name": "python3"
  },
  "language_info": {
   "codemirror_mode": {
    "name": "ipython",
    "version": 3
   },
   "file_extension": ".py",
   "mimetype": "text/x-python",
   "name": "python",
   "nbconvert_exporter": "python",
   "pygments_lexer": "ipython3",
   "version": "3.9.12 (main, Apr  4 2022, 05:22:27) [MSC v.1916 64 bit (AMD64)]"
  },
  "vscode": {
   "interpreter": {
    "hash": "f31c482ab17bade3ad7dd22987cd1455bbf7ad8d1d61cc36c352d0bbb68b2b79"
   }
  }
 },
 "nbformat": 4,
 "nbformat_minor": 4
}
