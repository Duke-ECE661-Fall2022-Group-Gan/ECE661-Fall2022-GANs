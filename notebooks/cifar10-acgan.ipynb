{
 "cells": [
  {
   "cell_type": "markdown",
   "metadata": {
    "pycharm": {
     "name": "#%% md\n"
    }
   },
   "source": [
    "# Training Vanilla GAN on CIFAR-10"
   ]
  },
  {
   "cell_type": "code",
   "execution_count": 1,
   "metadata": {
    "pycharm": {
     "name": "#%%\n"
    }
   },
   "outputs": [
    {
     "name": "stdout",
     "output_type": "stream",
     "text": [
      "Requirement already satisfied: torch-summary in c:\\users\\warre\\anaconda3\\envs\\pytorch\\lib\\site-packages (1.4.5)\n"
     ]
    }
   ],
   "source": [
    "# import necessary dependencies\n",
    "import argparse\n",
    "import os, sys\n",
    "import time\n",
    "import datetime\n",
    "import numpy as np\n",
    "import matplotlib.pyplot as plt\n",
    "from tqdm import tqdm_notebook as tqdm\n",
    "\n",
    "import torch\n",
    "\n",
    "import torch.nn as nn\n",
    "import torch.nn.functional as F\n",
    "from torch.autograd import Variable\n",
    "!pip install torch-summary\n",
    "from torchsummary import summary\n",
    "from torchvision.utils import save_image\n",
    "\n",
    "import gitpath\n",
    "HOME_PATH = gitpath.root()\n",
    "sys.path.append(HOME_PATH)\n",
    "\n",
    "from models.ACGAN import *"
   ]
  },
  {
   "cell_type": "code",
   "execution_count": 2,
   "metadata": {},
   "outputs": [],
   "source": [
    "class HyperParams:\n",
    "    def __init__(self):\n",
    "        # Constance hyperparameters. They have been tested and don't need to be tuned.\n",
    "        self.n_epochs = 50\n",
    "        self.batch_size = 64\n",
    "        self.lr = 0.0002\n",
    "        self.b1 = 0.5\n",
    "        self.b2 = 0.999\n",
    "        self.n_workers = 8\n",
    "        self.latent_dim = 100\n",
    "        self.num_classes = 10\n",
    "        self.img_size = 32\n",
    "        self.channels = 3\n",
    "        self.sample_interval = 500\n",
    "        self.imgsave_path = os.path.join(HOME_PATH, 'images', 'acgan')\n",
    "        self.CHECKPOINT_FOLDER = os.path.join(HOME_PATH, 'saved_model', 'acgan')\n",
    "        \n",
    "params = HyperParams()\n",
    "os.makedirs(params.imgsave_path, exist_ok=True)\n",
    "os.makedirs(params.CHECKPOINT_FOLDER, exist_ok=True)"
   ]
  },
  {
   "cell_type": "markdown",
   "metadata": {
    "pycharm": {
     "name": "#%% md\n"
    }
   },
   "source": [
    "## Step 1: Set up preprocessing functions"
   ]
  },
  {
   "cell_type": "code",
   "execution_count": 3,
   "metadata": {
    "pycharm": {
     "name": "#%%\n"
    }
   },
   "outputs": [],
   "source": [
    "# useful libraries\n",
    "import torchvision\n",
    "import torchvision.transforms as transforms\n",
    "\n",
    "transform = transforms.Compose([\n",
    "        transforms.ToTensor(),\n",
    "        transforms.Normalize(mean=(0.4914, 0.4822, 0.4465), std=(0.2023, 0.1994, 0.2010))\n",
    "        ])"
   ]
  },
  {
   "cell_type": "code",
   "execution_count": 4,
   "metadata": {
    "pycharm": {
     "name": "#%%\n"
    }
   },
   "outputs": [
    {
     "name": "stdout",
     "output_type": "stream",
     "text": [
      "Files already downloaded and verified\n"
     ]
    }
   ],
   "source": [
    "# do NOT change these\n",
    "import torchvision.datasets as dset\n",
    "from torch.utils.data import DataLoader\n",
    "\n",
    "# a few arguments, do NOT change these\n",
    "DATA_ROOT = os.path.join(HOME_PATH, \"data\")\n",
    "\n",
    "# construct dataset\n",
    "dataset = dset.CIFAR10(\n",
    "    root=DATA_ROOT,\n",
    "    train=True,\n",
    "    download=True,\n",
    "    transform=transform \n",
    ")\n",
    "\n",
    "# construct dataloader\n",
    "dataloader = DataLoader(\n",
    "    dataset, \n",
    "    batch_size=params.batch_size,  # your code\n",
    "    shuffle=True,     # your code\n",
    "    num_workers=params.n_workers\n",
    ")"
   ]
  },
  {
   "cell_type": "markdown",
   "metadata": {
    "pycharm": {
     "name": "#%% md\n"
    }
   },
   "source": [
    "## Step 3: Instantiate your SimpleNN model and deploy it to GPU devices."
   ]
  },
  {
   "cell_type": "code",
   "execution_count": 5,
   "metadata": {
    "pycharm": {
     "name": "#%%\n"
    }
   },
   "outputs": [
    {
     "name": "stdout",
     "output_type": "stream",
     "text": [
      "Run on GPU...\n"
     ]
    }
   ],
   "source": [
    "# specify the device for computation\n",
    "\n",
    "# GPU check                \n",
    "device = 'cuda' if torch.cuda.is_available() else 'cpu'\n",
    "if device =='cuda':\n",
    "    print(\"Run on GPU...\")\n",
    "else:\n",
    "    print(\"Run on CPU...\")\n",
    "\n",
    "# Model Definition  \n",
    "generator = Generator(params.latent_dim + params.num_classes).to(device) # add ten in latent space to encode class info\n",
    "discriminator = Discriminator(params.num_classes).to(device)\n",
    "\n",
    "# Check if on GPU\n",
    "assert(next(generator.parameters()).is_cuda)\n",
    "assert(next(discriminator.parameters()).is_cuda)"
   ]
  },
  {
   "cell_type": "markdown",
   "metadata": {
    "pycharm": {
     "name": "#%% md\n"
    }
   },
   "source": [
    "## Step 4: Set up the loss function and optimizer"
   ]
  },
  {
   "cell_type": "code",
   "execution_count": 6,
   "metadata": {
    "pycharm": {
     "name": "#%%\n"
    }
   },
   "outputs": [],
   "source": [
    "import torch.nn as nn\n",
    "import torch.optim as optim\n",
    "\n",
    "# hyperparameters according to ResNet paper section 4.2\n",
    "\n",
    "# create loss function\n",
    "discrimination_loss = nn.BCELoss().to(device)\n",
    "classification_loss = nn.CrossEntropyLoss().to(device)\n",
    "\n",
    "# Add optimizer\n",
    "optimizerG = optim.Adam(generator.parameters(), lr=params.lr, betas=(params.b1, params.b2))\n",
    "optimizerD = optim.Adam(discriminator.parameters(), lr=params.lr, betas=(params.b1, params.b2))"
   ]
  },
  {
   "cell_type": "markdown",
   "metadata": {
    "pycharm": {
     "name": "#%% md\n"
    }
   },
   "source": [
    "## Step 5: Start the training process.\n"
   ]
  },
  {
   "cell_type": "code",
   "execution_count": 7,
   "metadata": {
    "pycharm": {
     "name": "#%%\n"
    },
    "scrolled": true
   },
   "outputs": [
    {
     "name": "stdout",
     "output_type": "stream",
     "text": [
      "==> Training starts!\n",
      "==================================================\n",
      "Epoch 0:\n"
     ]
    },
    {
     "name": "stderr",
     "output_type": "stream",
     "text": [
      "c:\\Users\\Warre\\anaconda3\\envs\\pytorch\\lib\\site-packages\\torch\\nn\\modules\\container.py:139: UserWarning: Implicit dimension choice for softmax has been deprecated. Change the call to include dim=X as an argument.\n",
      "  input = module(input)\n"
     ]
    },
    {
     "name": "stdout",
     "output_type": "stream",
     "text": [
      "D(x): 0.5698 D(G(z)): 0.6117 / 0.6117\n",
      "D(x): 0.8480 D(G(z)): 0.2577 / 0.2577\n",
      "Generator loss: 2.6369, Discriminator loss: 1.1491\n",
      "Epoch finished in 29.06s\n",
      "\n",
      "Epoch 1:\n",
      "D(x): 0.9613 D(G(z)): 0.1658 / 0.1658\n",
      "D(x): 0.9410 D(G(z)): 0.0445 / 0.0445\n",
      "Generator loss: 2.3199, Discriminator loss: 0.9806\n",
      "Epoch finished in 25.84s\n",
      "\n",
      "Epoch 2:\n",
      "D(x): 0.8502 D(G(z)): 0.0827 / 0.0827\n",
      "D(x): 0.9043 D(G(z)): 0.0781 / 0.0781\n",
      "Generator loss: 2.3334, Discriminator loss: 0.9374\n",
      "Epoch finished in 25.18s\n",
      "\n",
      "Epoch 3:\n",
      "D(x): 0.8223 D(G(z)): 0.1167 / 0.1167\n",
      "D(x): 0.9332 D(G(z)): 0.0366 / 0.0366\n",
      "Generator loss: 2.3549, Discriminator loss: 0.9312\n",
      "Epoch finished in 25.45s\n",
      "\n",
      "Epoch 4:\n",
      "D(x): 0.9732 D(G(z)): 0.1294 / 0.1294\n",
      "D(x): 0.3957 D(G(z)): 0.0002 / 0.0002\n",
      "Generator loss: 2.4454, Discriminator loss: 0.9220\n",
      "Epoch finished in 24.82s\n",
      "\n",
      "Epoch 5:\n",
      "D(x): 0.8895 D(G(z)): 0.2585 / 0.2585\n",
      "D(x): 0.8034 D(G(z)): 0.0279 / 0.0279\n",
      "Generator loss: 2.4714, Discriminator loss: 0.9085\n",
      "Epoch finished in 25.55s\n",
      "\n",
      "Epoch 6:\n",
      "D(x): 0.9466 D(G(z)): 0.2666 / 0.2666\n",
      "D(x): 0.9012 D(G(z)): 0.1901 / 0.1901\n",
      "Generator loss: 2.4291, Discriminator loss: 0.9117\n",
      "Epoch finished in 25.40s\n",
      "\n",
      "Epoch 7:\n",
      "D(x): 0.9547 D(G(z)): 0.1354 / 0.1354\n",
      "D(x): 0.8069 D(G(z)): 0.0416 / 0.0416\n",
      "Generator loss: 2.5542, Discriminator loss: 0.8870\n",
      "Epoch finished in 26.50s\n",
      "\n",
      "Epoch 8:\n",
      "D(x): 0.9278 D(G(z)): 0.0061 / 0.0061\n",
      "D(x): 0.9333 D(G(z)): 0.4971 / 0.4971\n",
      "Generator loss: 2.5529, Discriminator loss: 0.8974\n",
      "Epoch finished in 27.03s\n",
      "\n",
      "Epoch 9:\n",
      "D(x): 0.9879 D(G(z)): 0.0550 / 0.0550\n",
      "D(x): 0.9316 D(G(z)): 0.1080 / 0.1080\n",
      "Generator loss: 2.5763, Discriminator loss: 0.8893\n",
      "Epoch finished in 28.08s\n",
      "\n",
      "Epoch 10:\n",
      "D(x): 0.9994 D(G(z)): 0.4730 / 0.4730\n",
      "D(x): 0.9650 D(G(z)): 0.0333 / 0.0333\n",
      "Generator loss: 2.6230, Discriminator loss: 0.8893\n",
      "Epoch finished in 27.67s\n",
      "\n",
      "Epoch 11:\n",
      "D(x): 0.6837 D(G(z)): 0.0065 / 0.0065\n",
      "D(x): 0.9791 D(G(z)): 0.1245 / 0.1245\n",
      "Generator loss: 2.6054, Discriminator loss: 0.8682\n",
      "Epoch finished in 26.79s\n",
      "\n",
      "Epoch 12:\n",
      "D(x): 0.9800 D(G(z)): 0.1992 / 0.1992\n",
      "D(x): 0.9697 D(G(z)): 0.0131 / 0.0131\n",
      "Generator loss: 2.7070, Discriminator loss: 0.8715\n",
      "Epoch finished in 26.22s\n",
      "\n",
      "Epoch 13:\n",
      "D(x): 0.8915 D(G(z)): 0.0427 / 0.0427\n",
      "D(x): 0.9326 D(G(z)): 0.0275 / 0.0275\n",
      "Generator loss: 2.6673, Discriminator loss: 0.8765\n",
      "Epoch finished in 26.53s\n",
      "\n",
      "Epoch 14:\n",
      "D(x): 0.7198 D(G(z)): 0.0247 / 0.0247\n",
      "D(x): 0.9123 D(G(z)): 0.0824 / 0.0824\n",
      "Generator loss: 2.6867, Discriminator loss: 0.8688\n",
      "Epoch finished in 26.32s\n",
      "\n",
      "Epoch 15:\n",
      "D(x): 0.8013 D(G(z)): 0.2363 / 0.2363\n",
      "D(x): 0.9803 D(G(z)): 0.0251 / 0.0251\n",
      "Generator loss: 2.6767, Discriminator loss: 0.8621\n",
      "Epoch finished in 26.13s\n",
      "\n",
      "Epoch 16:\n",
      "D(x): 0.9690 D(G(z)): 0.0321 / 0.0321\n",
      "D(x): 0.9006 D(G(z)): 0.0464 / 0.0464\n",
      "Generator loss: 2.8105, Discriminator loss: 0.8536\n",
      "Epoch finished in 27.43s\n",
      "\n",
      "Epoch 17:\n",
      "D(x): 0.8962 D(G(z)): 0.0062 / 0.0062\n",
      "D(x): 0.9952 D(G(z)): 0.0204 / 0.0204\n",
      "Generator loss: 2.8145, Discriminator loss: 0.8524\n",
      "Epoch finished in 25.33s\n",
      "\n",
      "Epoch 18:\n",
      "D(x): 0.9767 D(G(z)): 0.0311 / 0.0311\n",
      "D(x): 0.9662 D(G(z)): 0.0237 / 0.0237\n",
      "Generator loss: 2.7887, Discriminator loss: 0.8535\n",
      "Epoch finished in 27.79s\n",
      "\n",
      "Epoch 19:\n",
      "D(x): 0.9831 D(G(z)): 0.0441 / 0.0441\n",
      "D(x): 0.9601 D(G(z)): 0.0438 / 0.0438\n",
      "Generator loss: 2.7761, Discriminator loss: 0.8578\n",
      "Epoch finished in 26.08s\n",
      "\n",
      "Epoch 20:\n",
      "D(x): 0.9397 D(G(z)): 0.0038 / 0.0038\n",
      "D(x): 0.9513 D(G(z)): 0.0413 / 0.0413\n",
      "Generator loss: 2.8275, Discriminator loss: 0.8539\n",
      "Epoch finished in 26.22s\n",
      "\n",
      "Epoch 21:\n",
      "D(x): 0.9159 D(G(z)): 0.1346 / 0.1346\n",
      "D(x): 0.9172 D(G(z)): 0.0123 / 0.0123\n",
      "Generator loss: 2.7875, Discriminator loss: 0.8428\n",
      "Epoch finished in 26.42s\n",
      "\n",
      "Epoch 22:\n",
      "D(x): 0.9786 D(G(z)): 0.1263 / 0.1263\n",
      "D(x): 0.9679 D(G(z)): 0.0308 / 0.0308\n",
      "Generator loss: 2.8422, Discriminator loss: 0.8530\n",
      "Epoch finished in 24.80s\n",
      "\n",
      "Epoch 23:\n",
      "D(x): 0.9895 D(G(z)): 0.2539 / 0.2539\n",
      "D(x): 0.9603 D(G(z)): 0.0524 / 0.0524\n",
      "Generator loss: 2.8361, Discriminator loss: 0.8292\n",
      "Epoch finished in 25.36s\n",
      "\n",
      "Epoch 24:\n",
      "D(x): 0.9842 D(G(z)): 0.0951 / 0.0951\n",
      "D(x): 0.9209 D(G(z)): 0.0087 / 0.0087\n",
      "Generator loss: 2.8791, Discriminator loss: 0.8372\n",
      "Epoch finished in 26.31s\n",
      "\n",
      "Epoch 25:\n",
      "D(x): 0.9159 D(G(z)): 0.0452 / 0.0452\n",
      "D(x): 0.9848 D(G(z)): 0.0535 / 0.0535\n",
      "Generator loss: 2.9037, Discriminator loss: 0.8383\n",
      "Epoch finished in 27.56s\n",
      "\n",
      "Epoch 26:\n",
      "D(x): 0.9873 D(G(z)): 0.0373 / 0.0373\n",
      "D(x): 0.9426 D(G(z)): 0.0131 / 0.0131\n",
      "Generator loss: 2.8565, Discriminator loss: 0.8541\n",
      "Epoch finished in 25.77s\n",
      "\n",
      "Epoch 27:\n",
      "D(x): 0.8811 D(G(z)): 0.0089 / 0.0089\n",
      "D(x): 0.9365 D(G(z)): 0.0047 / 0.0047\n",
      "Generator loss: 2.8952, Discriminator loss: 0.8419\n",
      "Epoch finished in 27.44s\n",
      "\n",
      "Epoch 28:\n",
      "D(x): 0.9936 D(G(z)): 0.2825 / 0.2825\n",
      "D(x): 0.9339 D(G(z)): 0.2575 / 0.2575\n",
      "Generator loss: 2.8892, Discriminator loss: 0.8348\n",
      "Epoch finished in 26.58s\n",
      "\n",
      "Epoch 29:\n",
      "D(x): 0.9578 D(G(z)): 0.0168 / 0.0168\n",
      "D(x): 0.9408 D(G(z)): 0.0243 / 0.0243\n",
      "Generator loss: 2.9234, Discriminator loss: 0.8283\n",
      "Epoch finished in 26.87s\n",
      "\n",
      "Epoch 30:\n",
      "D(x): 0.9886 D(G(z)): 0.0061 / 0.0061\n",
      "D(x): 0.9838 D(G(z)): 0.0694 / 0.0694\n",
      "Generator loss: 2.8973, Discriminator loss: 0.8388\n",
      "Epoch finished in 28.09s\n",
      "\n",
      "Epoch 31:\n",
      "D(x): 0.9850 D(G(z)): 0.0286 / 0.0286\n",
      "D(x): 0.9779 D(G(z)): 0.0341 / 0.0341\n",
      "Generator loss: 2.9307, Discriminator loss: 0.8372\n",
      "Epoch finished in 24.99s\n",
      "\n",
      "Epoch 32:\n",
      "D(x): 0.9721 D(G(z)): 0.0237 / 0.0237\n",
      "D(x): 0.9667 D(G(z)): 0.0346 / 0.0346\n",
      "Generator loss: 2.9328, Discriminator loss: 0.8350\n",
      "Epoch finished in 28.09s\n",
      "\n",
      "Epoch 33:\n",
      "D(x): 0.9993 D(G(z)): 0.4419 / 0.4419\n",
      "D(x): 0.9598 D(G(z)): 0.0282 / 0.0282\n",
      "Generator loss: 2.9844, Discriminator loss: 0.8355\n",
      "Epoch finished in 26.08s\n",
      "\n",
      "Epoch 34:\n",
      "D(x): 0.9239 D(G(z)): 0.0673 / 0.0673\n",
      "D(x): 0.9508 D(G(z)): 0.0344 / 0.0344\n",
      "Generator loss: 2.9588, Discriminator loss: 0.8332\n",
      "Epoch finished in 27.50s\n",
      "\n",
      "Epoch 35:\n",
      "D(x): 0.9944 D(G(z)): 0.4010 / 0.4010\n",
      "D(x): 0.9842 D(G(z)): 0.0343 / 0.0343\n",
      "Generator loss: 2.9168, Discriminator loss: 0.8206\n",
      "Epoch finished in 24.52s\n",
      "\n",
      "Epoch 36:\n",
      "D(x): 0.9907 D(G(z)): 0.0233 / 0.0233\n",
      "D(x): 0.9325 D(G(z)): 0.0060 / 0.0060\n",
      "Generator loss: 2.9813, Discriminator loss: 0.8316\n",
      "Epoch finished in 24.18s\n",
      "\n",
      "Epoch 37:\n",
      "D(x): 0.9941 D(G(z)): 0.2606 / 0.2606\n",
      "D(x): 0.9831 D(G(z)): 0.0209 / 0.0209\n",
      "Generator loss: 2.9614, Discriminator loss: 0.8352\n",
      "Epoch finished in 24.25s\n",
      "\n",
      "Epoch 38:\n",
      "D(x): 0.9936 D(G(z)): 0.3007 / 0.3007\n",
      "D(x): 0.9599 D(G(z)): 0.0285 / 0.0285\n",
      "Generator loss: 3.0116, Discriminator loss: 0.8058\n",
      "Epoch finished in 23.69s\n",
      "\n",
      "Epoch 39:\n",
      "D(x): 0.9984 D(G(z)): 0.3092 / 0.3092\n",
      "D(x): 0.9898 D(G(z)): 0.0606 / 0.0606\n",
      "Generator loss: 2.9843, Discriminator loss: 0.8266\n",
      "Epoch finished in 23.59s\n",
      "\n",
      "Epoch 40:\n",
      "D(x): 0.9693 D(G(z)): 0.0082 / 0.0082\n",
      "D(x): 0.9619 D(G(z)): 0.0439 / 0.0439\n",
      "Generator loss: 2.9423, Discriminator loss: 0.8440\n",
      "Epoch finished in 23.69s\n",
      "\n",
      "Epoch 41:\n",
      "D(x): 0.9979 D(G(z)): 0.2906 / 0.2906\n",
      "D(x): 0.9744 D(G(z)): 0.0747 / 0.0747\n",
      "Generator loss: 3.0478, Discriminator loss: 0.8227\n",
      "Epoch finished in 23.73s\n",
      "\n",
      "Epoch 42:\n",
      "D(x): 0.9995 D(G(z)): 0.7476 / 0.7476\n",
      "D(x): 0.9860 D(G(z)): 0.0573 / 0.0573\n",
      "Generator loss: 2.9984, Discriminator loss: 0.8128\n",
      "Epoch finished in 23.97s\n",
      "\n",
      "Epoch 43:\n",
      "D(x): 0.9996 D(G(z)): 0.3523 / 0.3523\n",
      "D(x): 0.9281 D(G(z)): 0.0426 / 0.0426\n",
      "Generator loss: 3.0294, Discriminator loss: 0.8122\n",
      "Epoch finished in 23.60s\n",
      "\n",
      "Epoch 44:\n",
      "D(x): 0.9932 D(G(z)): 0.1180 / 0.1180\n",
      "D(x): 0.9168 D(G(z)): 0.0428 / 0.0428\n",
      "Generator loss: 2.9805, Discriminator loss: 0.8351\n",
      "Epoch finished in 23.81s\n",
      "\n",
      "Epoch 45:\n",
      "D(x): 0.9704 D(G(z)): 0.0047 / 0.0047\n",
      "D(x): 0.9763 D(G(z)): 0.0493 / 0.0493\n",
      "Generator loss: 2.9822, Discriminator loss: 0.8321\n",
      "Epoch finished in 23.45s\n",
      "\n",
      "Epoch 46:\n",
      "D(x): 0.9966 D(G(z)): 0.1376 / 0.1376\n",
      "D(x): 0.9691 D(G(z)): 0.0298 / 0.0298\n",
      "Generator loss: 3.0248, Discriminator loss: 0.8106\n",
      "Epoch finished in 24.51s\n",
      "\n",
      "Epoch 47:\n",
      "D(x): 0.7483 D(G(z)): 0.0062 / 0.0062\n",
      "D(x): 0.9987 D(G(z)): 0.1952 / 0.1952\n",
      "Generator loss: 3.0346, Discriminator loss: 0.8391\n",
      "Epoch finished in 24.96s\n",
      "\n",
      "Epoch 48:\n",
      "D(x): 0.9963 D(G(z)): 0.1512 / 0.1512\n",
      "D(x): 0.9813 D(G(z)): 0.0083 / 0.0083\n",
      "Generator loss: 3.0051, Discriminator loss: 0.8144\n",
      "Epoch finished in 24.59s\n",
      "\n",
      "Epoch 49:\n",
      "D(x): 0.9967 D(G(z)): 0.2766 / 0.2766\n",
      "D(x): 0.9817 D(G(z)): 0.0250 / 0.0250\n",
      "Generator loss: 3.0672, Discriminator loss: 0.8162\n",
      "Epoch finished in 27.23s\n",
      "\n",
      "==================================================\n",
      "==> Optimization finished in 1291.06s!\n"
     ]
    }
   ],
   "source": [
    "# some hyperparameters\n",
    "# total number of training epochs\n",
    "start_epoch = 0\n",
    "\n",
    "# start the training/validation process\n",
    "best_loss_g = 1e20\n",
    "best_loss_d = 1e20\n",
    "\n",
    "start = time.time()\n",
    "print(\"==> Training starts!\")\n",
    "print(\"=\"*50)\n",
    "\n",
    "# store loss learning curve\n",
    "g_loss_lst = []\n",
    "d_loss_lst = []\n",
    "\n",
    "fixed_random_z = torch.randn(params.batch_size, params.latent_dim)\n",
    "gen_class = np.random.randint(0, params.num_classes, params.batch_size)\n",
    "z_labels = torch.zeros(params.batch_size, params.num_classes)\n",
    "z_labels[np.arange(params.batch_size), gen_class] = 1.0\n",
    "fixed_random_z = torch.concat((fixed_random_z, z_labels), 1).to(device)\n",
    "\n",
    "for i in range(start_epoch, params.n_epochs):\n",
    "    epoch_start = time.time()\n",
    "    print(\"Epoch %d:\" %i)\n",
    "    # this help you compute the training accuracy\n",
    "    total_examples = 0\n",
    "    correct_examples = 0\n",
    "\n",
    "    g_loss = []\n",
    "    d_loss = []\n",
    "    \n",
    "    # Train the model for 1 epoch.\n",
    "    for batch_idx, (inputs, targets) in enumerate(dataloader):\n",
    "        \n",
    "        inputs = inputs.float().to(device)\n",
    "        batch_size = inputs.size(0)\n",
    "        targets = targets.type(torch.LongTensor)\n",
    "        targets = targets.to(device)\n",
    "        \n",
    "        real_labels = torch.full((batch_size,1), 1.0).to(device)\n",
    "        fake_labels = torch.full((batch_size,1), 0.0).to(device)\n",
    "        \n",
    "        ####################################\n",
    "        # Train Generator\n",
    "        ###################################\n",
    "        # maximize generator's ability to fool discriminator\n",
    "        # generate input random vector with encoded class information\n",
    "        z = torch.randn(batch_size, params.latent_dim)\n",
    "        gen_class = np.random.randint(0, params.num_classes, batch_size)\n",
    "        z_labels = torch.zeros(batch_size, params.num_classes)\n",
    "        z_labels[np.arange(batch_size), gen_class] = 1.0\n",
    "        z = torch.concat((z, z_labels), 1).to(device)\n",
    "        gen_class = torch.from_numpy(gen_class).type(torch.LongTensor).to(device)\n",
    "\n",
    "        gen_imgs = generator(z)\n",
    "        fake_outputs, pred_fake_class = discriminator(gen_imgs)\n",
    "        loss_G_dis = discrimination_loss(fake_outputs, real_labels)\n",
    "        loss_G_cls = classification_loss(pred_fake_class, gen_class)\n",
    "        loss_G = (loss_G_dis + loss_G_cls) / 2\n",
    "        \n",
    "        # zero the gradient\n",
    "        optimizerG.zero_grad()\n",
    "        # backpropagation\n",
    "        loss_G.backward()\n",
    "        # apply gradient and update the weights\n",
    "        optimizerG.step()\n",
    "\n",
    "        # calculate percentage of confidence\n",
    "        G_z = fake_outputs.mean().item()\n",
    "        g_loss.append(loss_G.cpu().detach().numpy())\n",
    "        ####################################\n",
    "        \n",
    "        ####################################\n",
    "        # Train Discriminator\n",
    "        ###################################\n",
    "        # train to recog real image\n",
    "        real_outputs, pred_real_class = discriminator(inputs)\n",
    "        loss_real_dis = discrimination_loss(real_outputs, real_labels)\n",
    "        loss_real_cls = classification_loss(pred_real_class, targets)\n",
    "        loss_real = (loss_real_dis + loss_real_cls) / 2\n",
    "        \n",
    "        ###################################\n",
    "        # train to recog fake image\n",
    "        fake_outputs, pred_fake_class = discriminator(gen_imgs.detach())\n",
    "        loss_fake_dis = discrimination_loss(fake_outputs, fake_labels)\n",
    "        loss_fake_cls = classification_loss(pred_fake_class, gen_class)\n",
    "        loss_fake = (loss_fake_dis + loss_fake_cls) / 2\n",
    "        \n",
    "        # sum loss\n",
    "        loss_D = (loss_fake + loss_real) / 2\n",
    "        # zero the gradient\n",
    "        optimizerD.zero_grad()\n",
    "        # backpropagation\n",
    "        loss_D.backward()\n",
    "        # apply gradient and update the weights\n",
    "        optimizerD.step()\n",
    "\n",
    "        # calculate percentage of confidence\n",
    "        D_x = real_outputs.mean().item()\n",
    "        D_z = fake_outputs.mean().item()\n",
    "        d_loss.append(loss_D.cpu().detach().numpy())\n",
    "        \n",
    "        ####################################\n",
    "        \n",
    "        if (batch_idx % params.sample_interval == 0): \n",
    "            batches_done = i * len(dataloader) + batch_idx\n",
    "            save_image(generator(fixed_random_z).data[:40], os.path.join(params.imgsave_path, \"%d.png\" % batches_done), nrow=5, normalize=True)\n",
    "            print(\"D(x): %.4f D(G(z)): %.4f / %.4f\"%(D_x, D_z, G_z))\n",
    "        \n",
    "    avg_loss_g = np.sum(np.asarray(g_loss)) / len(g_loss)\n",
    "    avg_loss_d = np.sum(np.asarray(d_loss)) / len(d_loss)\n",
    "    print(\"Generator loss: %.4f, Discriminator loss: %.4f\"%(avg_loss_g, avg_loss_d))\n",
    "    \n",
    "    g_loss_lst.append(avg_loss_g)\n",
    "    d_loss_lst.append(avg_loss_d)\n",
    "    \n",
    "    # save the model checkpoint\n",
    "    state_G = generator.state_dict()\n",
    "    torch.save(state_G, os.path.join(params.CHECKPOINT_FOLDER, 'generator.pth'))\n",
    "    state_D = discriminator.state_dict()\n",
    "    torch.save(state_D, os.path.join(params.CHECKPOINT_FOLDER, 'discriminator.pth'))\n",
    "    print(f\"Epoch finished in {time.time() - epoch_start:.2f}s\")\n",
    "    print(\"\")\n",
    "\n",
    "print(\"=\"*50)\n",
    "print(f\"==> Optimization finished in {time.time() - start:.2f}s!\")"
   ]
  },
  {
   "cell_type": "code",
   "execution_count": 8,
   "metadata": {
    "pycharm": {
     "name": "#%%\n"
    },
    "scrolled": true
   },
   "outputs": [
    {
     "data": {
      "image/png": "[encoded data removed]",
      "text/plain": [
       "<Figure size 432x288 with 1 Axes>"
      ]
     },
     "metadata": {
      "needs_background": "light"
     },
     "output_type": "display_data"
    }
   ],
   "source": [
    "plt.plot(g_loss_lst, label='Generator Error')\n",
    "plt.plot(d_loss_lst, label='Discriminator Error')\n",
    "plt.title(\"AC-GAN Learning Curve\")\n",
    "plt.legend()\n",
    "plt.xlabel('epoch')\n",
    "plt.ylabel('loss')\n",
    "plt.show()"
   ]
  }
 ],
 "metadata": {
  "kernelspec": {
   "display_name": "pytorch",
   "language": "python",
   "name": "python3"
  },
  "language_info": {
   "codemirror_mode": {
    "name": "ipython",
    "version": 3
   },
   "file_extension": ".py",
   "mimetype": "text/x-python",
   "name": "python",
   "nbconvert_exporter": "python",
   "pygments_lexer": "ipython3",
   "version": "3.9.12 (main, Apr  4 2022, 05:22:27) [MSC v.1916 64 bit (AMD64)]"
  },
  "vscode": {
   "interpreter": {
    "hash": "f31c482ab17bade3ad7dd22987cd1455bbf7ad8d1d61cc36c352d0bbb68b2b79"
   }
  }
 },
 "nbformat": 4,
 "nbformat_minor": 4
}
