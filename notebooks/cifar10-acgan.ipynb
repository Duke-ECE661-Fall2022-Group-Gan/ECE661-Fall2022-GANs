{
 "cells": [
  {
   "cell_type": "markdown",
   "metadata": {
    "pycharm": {
     "name": "#%% md\n"
    }
   },
   "source": [
    "# Training Vanilla GAN on CIFAR-10"
   ]
  },
  {
   "cell_type": "code",
   "execution_count": 1,
   "metadata": {
    "pycharm": {
     "name": "#%%\n"
    }
   },
   "outputs": [
    {
     "name": "stdout",
     "output_type": "stream",
     "text": [
      "Requirement already satisfied: torch-summary in c:\\users\\warre\\anaconda3\\envs\\pytorch\\lib\\site-packages (1.4.5)\n"
     ]
    }
   ],
   "source": [
    "# import necessary dependencies\n",
    "import argparse\n",
    "import os, sys\n",
    "import time\n",
    "import datetime\n",
    "import numpy as np\n",
    "import matplotlib.pyplot as plt\n",
    "from tqdm import tqdm_notebook as tqdm\n",
    "\n",
    "import torch\n",
    "\n",
    "import torch.nn as nn\n",
    "import torch.nn.functional as F\n",
    "from torch.autograd import Variable\n",
    "!pip install torch-summary\n",
    "from torchsummary import summary\n",
    "from torchvision.utils import save_image\n",
    "\n",
    "# from Vanilla_GAN import *\n",
    "# from DCGAN import *\n",
    "from ACGAN import *"
   ]
  },
  {
   "cell_type": "code",
   "execution_count": 2,
   "metadata": {},
   "outputs": [],
   "source": [
    "class HyperParams:\n",
    "    def __init__(self):\n",
    "        # Constance hyperparameters. They have been tested and don't need to be tuned.\n",
    "        self.n_epochs = 50\n",
    "        self.batch_size = 64\n",
    "        self.lr = 0.0002\n",
    "        self.b1 = 0.5\n",
    "        self.b2 = 0.999\n",
    "        self.n_workers = 8\n",
    "        self.latent_dim = 100\n",
    "        self.num_classes = 10\n",
    "        self.img_size = 32\n",
    "        self.channels = 3\n",
    "        self.sample_interval = 500\n",
    "        self.imgsave_path = './images/acgan/'\n",
    "        self.CHECKPOINT_FOLDER = './saved_model/acgan/'\n",
    "        \n",
    "params = HyperParams()\n",
    "os.makedirs(params.imgsave_path, exist_ok=True)\n",
    "os.makedirs(params.CHECKPOINT_FOLDER, exist_ok=True)"
   ]
  },
  {
   "cell_type": "markdown",
   "metadata": {
    "pycharm": {
     "name": "#%% md\n"
    }
   },
   "source": [
    "## Step 1: Set up preprocessing functions"
   ]
  },
  {
   "cell_type": "code",
   "execution_count": 3,
   "metadata": {
    "pycharm": {
     "name": "#%%\n"
    }
   },
   "outputs": [],
   "source": [
    "# useful libraries\n",
    "import torchvision\n",
    "import torchvision.transforms as transforms\n",
    "\n",
    "transform = transforms.Compose([\n",
    "        transforms.ToTensor(),\n",
    "        transforms.Normalize(mean=(0.4914, 0.4822, 0.4465), std=(0.2023, 0.1994, 0.2010))\n",
    "        ])"
   ]
  },
  {
   "cell_type": "code",
   "execution_count": 4,
   "metadata": {
    "pycharm": {
     "name": "#%%\n"
    }
   },
   "outputs": [
    {
     "name": "stdout",
     "output_type": "stream",
     "text": [
      "Files already downloaded and verified\n"
     ]
    }
   ],
   "source": [
    "# do NOT change these\n",
    "import torchvision.datasets as dset\n",
    "from torch.utils.data import DataLoader\n",
    "\n",
    "# a few arguments, do NOT change these\n",
    "DATA_ROOT = \"./data\"\n",
    "\n",
    "# construct dataset\n",
    "dataset = dset.CIFAR10(\n",
    "    root=DATA_ROOT,\n",
    "    train=True,\n",
    "    download=True,\n",
    "    transform=transform \n",
    ")\n",
    "\n",
    "# construct dataloader\n",
    "dataloader = DataLoader(\n",
    "    dataset, \n",
    "    batch_size=params.batch_size,  # your code\n",
    "    shuffle=True,     # your code\n",
    "    num_workers=params.n_workers\n",
    ")"
   ]
  },
  {
   "cell_type": "markdown",
   "metadata": {
    "pycharm": {
     "name": "#%% md\n"
    }
   },
   "source": [
    "## Step 3: Instantiate your SimpleNN model and deploy it to GPU devices."
   ]
  },
  {
   "cell_type": "code",
   "execution_count": 5,
   "metadata": {
    "pycharm": {
     "name": "#%%\n"
    }
   },
   "outputs": [
    {
     "name": "stdout",
     "output_type": "stream",
     "text": [
      "Run on GPU...\n"
     ]
    }
   ],
   "source": [
    "# specify the device for computation\n",
    "\n",
    "# GPU check                \n",
    "device = 'cuda' if torch.cuda.is_available() else 'cpu'\n",
    "if device =='cuda':\n",
    "    print(\"Run on GPU...\")\n",
    "else:\n",
    "    print(\"Run on CPU...\")\n",
    "\n",
    "# Model Definition  \n",
    "generator = Generator(params.latent_dim + params.num_classes).to(device) # add ten in latent space to encode class info\n",
    "discriminator = Discriminator(params.num_classes).to(device)\n",
    "\n",
    "# Check if on GPU\n",
    "assert(next(generator.parameters()).is_cuda)\n",
    "assert(next(discriminator.parameters()).is_cuda)"
   ]
  },
  {
   "cell_type": "markdown",
   "metadata": {
    "pycharm": {
     "name": "#%% md\n"
    }
   },
   "source": [
    "## Step 4: Set up the loss function and optimizer"
   ]
  },
  {
   "cell_type": "code",
   "execution_count": 6,
   "metadata": {
    "pycharm": {
     "name": "#%%\n"
    }
   },
   "outputs": [],
   "source": [
    "import torch.nn as nn\n",
    "import torch.optim as optim\n",
    "\n",
    "# hyperparameters according to ResNet paper section 4.2\n",
    "\n",
    "# create loss function\n",
    "discrimination_loss = nn.BCELoss().to(device)\n",
    "classification_loss = nn.CrossEntropyLoss().to(device)\n",
    "\n",
    "# Add optimizer\n",
    "optimizerG = optim.Adam(generator.parameters(), lr=params.lr, betas=(params.b1, params.b2))\n",
    "optimizerD = optim.Adam(discriminator.parameters(), lr=params.lr, betas=(params.b1, params.b2))"
   ]
  },
  {
   "cell_type": "markdown",
   "metadata": {
    "pycharm": {
     "name": "#%% md\n"
    }
   },
   "source": [
    "## Step 5: Start the training process.\n"
   ]
  },
  {
   "cell_type": "code",
   "execution_count": 7,
   "metadata": {
    "pycharm": {
     "name": "#%%\n"
    },
    "scrolled": true
   },
   "outputs": [
    {
     "name": "stdout",
     "output_type": "stream",
     "text": [
      "==> Training starts!\n",
      "==================================================\n",
      "Epoch 0:\n"
     ]
    },
    {
     "name": "stderr",
     "output_type": "stream",
     "text": [
      "C:\\Users\\Warre\\anaconda3\\envs\\pytorch\\lib\\site-packages\\torch\\nn\\modules\\container.py:139: UserWarning: Implicit dimension choice for softmax has been deprecated. Change the call to include dim=X as an argument.\n",
      "  input = module(input)\n"
     ]
    },
    {
     "name": "stdout",
     "output_type": "stream",
     "text": [
      "D(x): 0.4973 D(G(z)): 0.4928 / 0.4928\n",
      "D(x): 0.8647 D(G(z)): 0.0274 / 0.0274\n",
      "Generator loss: 2.5765, Discriminator loss: 1.1440\n",
      "Epoch finished in 26.98s\n",
      "\n",
      "Epoch 1:\n",
      "D(x): 0.7434 D(G(z)): 0.1020 / 0.1020\n",
      "D(x): 0.8886 D(G(z)): 0.0766 / 0.0766\n",
      "Generator loss: 2.2324, Discriminator loss: 0.9886\n",
      "Epoch finished in 23.60s\n",
      "\n",
      "Epoch 2:\n",
      "D(x): 0.9692 D(G(z)): 0.1141 / 0.1141\n",
      "D(x): 0.9578 D(G(z)): 0.1632 / 0.1632\n",
      "Generator loss: 2.3474, Discriminator loss: 0.9436\n",
      "Epoch finished in 23.66s\n",
      "\n",
      "Epoch 3:\n",
      "D(x): 0.9982 D(G(z)): 0.7213 / 0.7213\n",
      "D(x): 0.7982 D(G(z)): 0.1524 / 0.1524\n",
      "Generator loss: 2.3114, Discriminator loss: 0.9406\n",
      "Epoch finished in 23.63s\n",
      "\n",
      "Epoch 4:\n",
      "D(x): 0.6269 D(G(z)): 0.0189 / 0.0189\n",
      "D(x): 0.9572 D(G(z)): 0.0674 / 0.0674\n",
      "Generator loss: 2.4477, Discriminator loss: 0.9218\n",
      "Epoch finished in 23.72s\n",
      "\n",
      "Epoch 5:\n",
      "D(x): 0.9069 D(G(z)): 0.1154 / 0.1154\n",
      "D(x): 0.9856 D(G(z)): 0.0996 / 0.0996\n",
      "Generator loss: 2.4074, Discriminator loss: 0.9153\n",
      "Epoch finished in 23.69s\n",
      "\n",
      "Epoch 6:\n",
      "D(x): 0.9733 D(G(z)): 0.3916 / 0.3916\n",
      "D(x): 0.2803 D(G(z)): 0.0003 / 0.0003\n",
      "Generator loss: 2.4627, Discriminator loss: 0.8963\n",
      "Epoch finished in 24.31s\n",
      "\n",
      "Epoch 7:\n",
      "D(x): 0.9619 D(G(z)): 0.0230 / 0.0230\n",
      "D(x): 0.9285 D(G(z)): 0.0291 / 0.0291\n",
      "Generator loss: 2.5102, Discriminator loss: 0.8944\n",
      "Epoch finished in 25.15s\n",
      "\n",
      "Epoch 8:\n",
      "D(x): 0.9889 D(G(z)): 0.0946 / 0.0946\n",
      "D(x): 0.9681 D(G(z)): 0.1791 / 0.1791\n",
      "Generator loss: 2.5265, Discriminator loss: 0.8969\n",
      "Epoch finished in 24.78s\n",
      "\n",
      "Epoch 9:\n",
      "D(x): 0.9700 D(G(z)): 0.1505 / 0.1505\n",
      "D(x): 0.9022 D(G(z)): 0.0637 / 0.0637\n",
      "Generator loss: 2.6076, Discriminator loss: 0.8872\n",
      "Epoch finished in 26.39s\n",
      "\n",
      "Epoch 10:\n",
      "D(x): 0.9844 D(G(z)): 0.0553 / 0.0553\n",
      "D(x): 0.9488 D(G(z)): 0.1364 / 0.1364\n",
      "Generator loss: 2.6354, Discriminator loss: 0.8799\n",
      "Epoch finished in 25.77s\n",
      "\n",
      "Epoch 11:\n",
      "D(x): 0.9408 D(G(z)): 0.1593 / 0.1593\n",
      "D(x): 0.9795 D(G(z)): 0.1064 / 0.1064\n",
      "Generator loss: 2.6384, Discriminator loss: 0.8695\n",
      "Epoch finished in 26.56s\n",
      "\n",
      "Epoch 12:\n",
      "D(x): 0.8814 D(G(z)): 0.0202 / 0.0202\n",
      "D(x): 0.9192 D(G(z)): 0.0506 / 0.0506\n",
      "Generator loss: 2.6566, Discriminator loss: 0.8733\n",
      "Epoch finished in 27.80s\n",
      "\n",
      "Epoch 13:\n",
      "D(x): 0.9906 D(G(z)): 0.0973 / 0.0973\n",
      "D(x): 0.9106 D(G(z)): 0.0547 / 0.0547\n",
      "Generator loss: 2.6514, Discriminator loss: 0.8730\n",
      "Epoch finished in 25.97s\n",
      "\n",
      "Epoch 14:\n",
      "D(x): 0.9810 D(G(z)): 0.0645 / 0.0645\n",
      "D(x): 0.9035 D(G(z)): 0.0342 / 0.0342\n",
      "Generator loss: 2.7055, Discriminator loss: 0.8732\n",
      "Epoch finished in 26.04s\n",
      "\n",
      "Epoch 15:\n",
      "D(x): 0.9925 D(G(z)): 0.7209 / 0.7209\n",
      "D(x): 0.8256 D(G(z)): 0.0161 / 0.0161\n",
      "Generator loss: 2.6677, Discriminator loss: 0.8675\n",
      "Epoch finished in 28.92s\n",
      "\n",
      "Epoch 16:\n",
      "D(x): 0.8256 D(G(z)): 0.0128 / 0.0128\n",
      "D(x): 0.9463 D(G(z)): 0.0298 / 0.0298\n",
      "Generator loss: 2.6983, Discriminator loss: 0.8602\n",
      "Epoch finished in 28.03s\n",
      "\n",
      "Epoch 17:\n",
      "D(x): 0.9992 D(G(z)): 0.4911 / 0.4911\n",
      "D(x): 0.9844 D(G(z)): 0.0154 / 0.0154\n",
      "Generator loss: 2.7551, Discriminator loss: 0.8633\n",
      "Epoch finished in 25.97s\n",
      "\n",
      "Epoch 18:\n",
      "D(x): 0.9759 D(G(z)): 0.1773 / 0.1773\n",
      "D(x): 0.9927 D(G(z)): 0.0359 / 0.0359\n",
      "Generator loss: 2.6968, Discriminator loss: 0.8507\n",
      "Epoch finished in 26.94s\n",
      "\n",
      "Epoch 19:\n",
      "D(x): 0.9972 D(G(z)): 0.3149 / 0.3149\n",
      "D(x): 0.9589 D(G(z)): 0.0134 / 0.0134\n",
      "Generator loss: 2.6813, Discriminator loss: 0.8696\n",
      "Epoch finished in 26.80s\n",
      "\n",
      "Epoch 20:\n",
      "D(x): 1.0000 D(G(z)): 0.7024 / 0.7024\n",
      "D(x): 0.9625 D(G(z)): 0.0057 / 0.0057\n",
      "Generator loss: 2.7857, Discriminator loss: 0.8544\n",
      "Epoch finished in 26.45s\n",
      "\n",
      "Epoch 21:\n",
      "D(x): 0.8860 D(G(z)): 0.0282 / 0.0282\n",
      "D(x): 0.9353 D(G(z)): 0.0813 / 0.0813\n",
      "Generator loss: 2.7378, Discriminator loss: 0.8596\n",
      "Epoch finished in 26.91s\n",
      "\n",
      "Epoch 22:\n",
      "D(x): 0.9762 D(G(z)): 0.2178 / 0.2178\n",
      "D(x): 0.8915 D(G(z)): 0.1187 / 0.1187\n",
      "Generator loss: 2.7894, Discriminator loss: 0.8450\n",
      "Epoch finished in 27.08s\n",
      "\n",
      "Epoch 23:\n",
      "D(x): 0.9804 D(G(z)): 0.0276 / 0.0276\n",
      "D(x): 0.9892 D(G(z)): 0.2299 / 0.2299\n",
      "Generator loss: 2.8046, Discriminator loss: 0.8535\n",
      "Epoch finished in 26.06s\n",
      "\n",
      "Epoch 24:\n",
      "D(x): 0.9855 D(G(z)): 0.1292 / 0.1292\n",
      "D(x): 0.9401 D(G(z)): 0.0493 / 0.0493\n",
      "Generator loss: 2.8204, Discriminator loss: 0.8522\n",
      "Epoch finished in 27.06s\n",
      "\n",
      "Epoch 25:\n",
      "D(x): 0.9698 D(G(z)): 0.0435 / 0.0435\n",
      "D(x): 0.9547 D(G(z)): 0.0548 / 0.0548\n",
      "Generator loss: 2.8221, Discriminator loss: 0.8472\n",
      "Epoch finished in 28.52s\n",
      "\n",
      "Epoch 26:\n",
      "D(x): 0.9739 D(G(z)): 0.0311 / 0.0311\n",
      "D(x): 0.9028 D(G(z)): 0.0405 / 0.0405\n",
      "Generator loss: 2.8467, Discriminator loss: 0.8396\n",
      "Epoch finished in 26.94s\n",
      "\n",
      "Epoch 27:\n",
      "D(x): 0.9998 D(G(z)): 0.5041 / 0.5041\n",
      "D(x): 0.7353 D(G(z)): 0.0327 / 0.0327\n",
      "Generator loss: 2.8551, Discriminator loss: 0.8545\n",
      "Epoch finished in 27.08s\n",
      "\n",
      "Epoch 28:\n",
      "D(x): 0.9855 D(G(z)): 0.2362 / 0.2362\n",
      "D(x): 0.9601 D(G(z)): 0.0895 / 0.0895\n",
      "Generator loss: 2.8518, Discriminator loss: 0.8403\n",
      "Epoch finished in 27.45s\n",
      "\n",
      "Epoch 29:\n",
      "D(x): 0.8922 D(G(z)): 0.0097 / 0.0097\n",
      "D(x): 0.8209 D(G(z)): 0.0038 / 0.0038\n",
      "Generator loss: 2.8588, Discriminator loss: 0.8405\n",
      "Epoch finished in 26.23s\n",
      "\n",
      "Epoch 30:\n",
      "D(x): 0.9959 D(G(z)): 0.0294 / 0.0294\n",
      "D(x): 0.9911 D(G(z)): 0.0920 / 0.0920\n",
      "Generator loss: 2.8130, Discriminator loss: 0.8567\n",
      "Epoch finished in 26.80s\n",
      "\n",
      "Epoch 31:\n",
      "D(x): 0.9971 D(G(z)): 0.1334 / 0.1334\n",
      "D(x): 0.9711 D(G(z)): 0.1633 / 0.1633\n",
      "Generator loss: 2.8236, Discriminator loss: 0.8468\n",
      "Epoch finished in 27.03s\n",
      "\n",
      "Epoch 32:\n",
      "D(x): 0.9991 D(G(z)): 0.4633 / 0.4633\n",
      "D(x): 0.9394 D(G(z)): 0.0188 / 0.0188\n",
      "Generator loss: 2.8537, Discriminator loss: 0.8512\n",
      "Epoch finished in 27.56s\n",
      "\n",
      "Epoch 33:\n",
      "D(x): 0.9286 D(G(z)): 0.0163 / 0.0163\n",
      "D(x): 0.8957 D(G(z)): 0.0437 / 0.0437\n",
      "Generator loss: 2.8425, Discriminator loss: 0.8379\n",
      "Epoch finished in 26.98s\n",
      "\n",
      "Epoch 34:\n",
      "D(x): 0.9430 D(G(z)): 0.0318 / 0.0318\n",
      "D(x): 0.9328 D(G(z)): 0.0717 / 0.0717\n",
      "Generator loss: 2.8731, Discriminator loss: 0.8475\n",
      "Epoch finished in 28.85s\n",
      "\n",
      "Epoch 35:\n",
      "D(x): 0.9146 D(G(z)): 0.0253 / 0.0253\n",
      "D(x): 0.9844 D(G(z)): 0.0803 / 0.0803\n",
      "Generator loss: 2.8124, Discriminator loss: 0.8408\n",
      "Epoch finished in 26.73s\n",
      "\n",
      "Epoch 36:\n",
      "D(x): 0.9980 D(G(z)): 0.4834 / 0.4834\n",
      "D(x): 0.9457 D(G(z)): 0.0274 / 0.0274\n",
      "Generator loss: 2.8207, Discriminator loss: 0.8556\n",
      "Epoch finished in 26.70s\n",
      "\n",
      "Epoch 37:\n",
      "D(x): 0.8738 D(G(z)): 0.0436 / 0.0436\n",
      "D(x): 0.9650 D(G(z)): 0.0196 / 0.0196\n",
      "Generator loss: 2.8238, Discriminator loss: 0.8447\n",
      "Epoch finished in 29.70s\n",
      "\n",
      "Epoch 38:\n",
      "D(x): 0.9500 D(G(z)): 0.0349 / 0.0349\n",
      "D(x): 0.9853 D(G(z)): 0.0268 / 0.0268\n",
      "Generator loss: 2.8172, Discriminator loss: 0.8425\n",
      "Epoch finished in 27.54s\n",
      "\n",
      "Epoch 39:\n",
      "D(x): 0.9782 D(G(z)): 0.0522 / 0.0522\n",
      "D(x): 0.9872 D(G(z)): 0.2754 / 0.2754\n",
      "Generator loss: 2.8643, Discriminator loss: 0.8385\n",
      "Epoch finished in 26.34s\n",
      "\n",
      "Epoch 40:\n",
      "D(x): 0.8660 D(G(z)): 0.0215 / 0.0215\n",
      "D(x): 0.9524 D(G(z)): 0.0187 / 0.0187\n",
      "Generator loss: 2.8398, Discriminator loss: 0.8452\n",
      "Epoch finished in 25.92s\n",
      "\n",
      "Epoch 41:\n",
      "D(x): 0.9366 D(G(z)): 0.0693 / 0.0693\n",
      "D(x): 0.9430 D(G(z)): 0.1749 / 0.1749\n",
      "Generator loss: 2.8056, Discriminator loss: 0.8552\n",
      "Epoch finished in 26.41s\n",
      "\n",
      "Epoch 42:\n",
      "D(x): 0.9013 D(G(z)): 0.0133 / 0.0133\n",
      "D(x): 0.9225 D(G(z)): 0.0423 / 0.0423\n",
      "Generator loss: 2.8429, Discriminator loss: 0.8354\n",
      "Epoch finished in 26.40s\n",
      "\n",
      "Epoch 43:\n",
      "D(x): 0.9951 D(G(z)): 0.3577 / 0.3577\n",
      "D(x): 0.9907 D(G(z)): 0.1409 / 0.1409\n",
      "Generator loss: 2.8376, Discriminator loss: 0.8483\n",
      "Epoch finished in 26.19s\n",
      "\n",
      "Epoch 44:\n",
      "D(x): 0.9759 D(G(z)): 0.1034 / 0.1034\n",
      "D(x): 0.9273 D(G(z)): 0.0265 / 0.0265\n",
      "Generator loss: 2.8751, Discriminator loss: 0.8385\n",
      "Epoch finished in 26.66s\n",
      "\n",
      "Epoch 45:\n",
      "D(x): 0.8874 D(G(z)): 0.0812 / 0.0812\n",
      "D(x): 0.8711 D(G(z)): 0.0714 / 0.0714\n",
      "Generator loss: 2.8559, Discriminator loss: 0.8440\n",
      "Epoch finished in 27.55s\n",
      "\n",
      "Epoch 46:\n",
      "D(x): 0.9595 D(G(z)): 0.0925 / 0.0925\n",
      "D(x): 0.9103 D(G(z)): 0.0388 / 0.0388\n",
      "Generator loss: 2.8666, Discriminator loss: 0.8438\n",
      "Epoch finished in 27.11s\n",
      "\n",
      "Epoch 47:\n",
      "D(x): 0.9956 D(G(z)): 0.2237 / 0.2237\n",
      "D(x): 0.9598 D(G(z)): 0.0690 / 0.0690\n",
      "Generator loss: 2.8922, Discriminator loss: 0.8386\n",
      "Epoch finished in 27.45s\n",
      "\n",
      "Epoch 48:\n",
      "D(x): 0.9842 D(G(z)): 0.1688 / 0.1688\n",
      "D(x): 0.9717 D(G(z)): 0.0797 / 0.0797\n",
      "Generator loss: 2.8561, Discriminator loss: 0.8442\n",
      "Epoch finished in 31.24s\n",
      "\n",
      "Epoch 49:\n",
      "D(x): 0.8901 D(G(z)): 0.0382 / 0.0382\n",
      "D(x): 0.9947 D(G(z)): 0.2305 / 0.2305\n",
      "Generator loss: 2.8456, Discriminator loss: 0.8387\n",
      "Epoch finished in 28.56s\n",
      "\n",
      "==================================================\n",
      "==> Optimization finished in 1332.23s!\n"
     ]
    }
   ],
   "source": [
    "# some hyperparameters\n",
    "# total number of training epochs\n",
    "start_epoch = 0\n",
    "\n",
    "# start the training/validation process\n",
    "best_loss_g = 1e20\n",
    "best_loss_d = 1e20\n",
    "\n",
    "start = time.time()\n",
    "print(\"==> Training starts!\")\n",
    "print(\"=\"*50)\n",
    "\n",
    "# store loss learning curve\n",
    "g_loss_lst = []\n",
    "d_loss_lst = []\n",
    "\n",
    "for i in range(start_epoch, params.n_epochs):\n",
    "    epoch_start = time.time()\n",
    "    print(\"Epoch %d:\" %i)\n",
    "    # this help you compute the training accuracy\n",
    "    total_examples = 0\n",
    "    correct_examples = 0\n",
    "\n",
    "    g_loss = []\n",
    "    d_loss = []\n",
    "    \n",
    "    # Train the model for 1 epoch.\n",
    "    for batch_idx, (inputs, targets) in enumerate(dataloader):\n",
    "        \n",
    "        inputs = inputs.float().to(device)\n",
    "        batch_size = inputs.size(0)\n",
    "        targets = targets.type(torch.LongTensor)\n",
    "        targets = targets.to(device)\n",
    "        \n",
    "        real_labels = torch.full((batch_size,1), 1.0).to(device)\n",
    "        fake_labels = torch.full((batch_size,1), 0.0).to(device)\n",
    "        \n",
    "        ####################################\n",
    "        # Train Generator\n",
    "        ###################################\n",
    "        # maximize generator's ability to fool discriminator\n",
    "        # generate input random vector with encoded class information\n",
    "        z = torch.randn(batch_size, params.latent_dim)\n",
    "        gen_class = np.random.randint(0, params.num_classes, batch_size)\n",
    "        z_labels = torch.zeros(batch_size, params.num_classes)\n",
    "        z_labels[np.arange(batch_size), gen_class] = 1.0\n",
    "        z = torch.concat((z, z_labels), 1).to(device)\n",
    "        gen_class = torch.from_numpy(gen_class).type(torch.LongTensor).to(device)\n",
    "\n",
    "        gen_imgs = generator(z)\n",
    "        fake_outputs, pred_fake_class = discriminator(gen_imgs)\n",
    "        loss_G_dis = discrimination_loss(fake_outputs, real_labels)\n",
    "        loss_G_cls = classification_loss(pred_fake_class, gen_class)\n",
    "        loss_G = (loss_G_dis + loss_G_cls) / 2\n",
    "        \n",
    "        # zero the gradient\n",
    "        optimizerG.zero_grad()\n",
    "        # backpropagation\n",
    "        loss_G.backward()\n",
    "        # apply gradient and update the weights\n",
    "        optimizerG.step()\n",
    "\n",
    "        # calculate percentage of confidence\n",
    "        G_z = fake_outputs.mean().item()\n",
    "        g_loss.append(loss_G.cpu().detach().numpy())\n",
    "        ####################################\n",
    "        \n",
    "        ####################################\n",
    "        # Train Discriminator\n",
    "        ###################################\n",
    "        # train to recog real image\n",
    "        real_outputs, pred_real_class = discriminator(inputs)\n",
    "        loss_real_dis = discrimination_loss(real_outputs, real_labels)\n",
    "        loss_real_cls = classification_loss(pred_real_class, targets)\n",
    "        loss_real = (loss_real_dis + loss_real_cls) / 2\n",
    "        \n",
    "        ###################################\n",
    "        # train to recog fake image\n",
    "        fake_outputs, pred_fake_class = discriminator(gen_imgs.detach())\n",
    "        loss_fake_dis = discrimination_loss(fake_outputs, fake_labels)\n",
    "        loss_fake_cls = classification_loss(pred_fake_class, gen_class)\n",
    "        loss_fake = (loss_fake_dis + loss_fake_cls) / 2\n",
    "        \n",
    "        # sum loss\n",
    "        loss_D = (loss_fake + loss_real) / 2\n",
    "        # zero the gradient\n",
    "        optimizerD.zero_grad()\n",
    "        # backpropagation\n",
    "        loss_D.backward()\n",
    "        # apply gradient and update the weights\n",
    "        optimizerD.step()\n",
    "\n",
    "        # calculate percentage of confidence\n",
    "        D_x = real_outputs.mean().item()\n",
    "        D_z = fake_outputs.mean().item()\n",
    "        d_loss.append(loss_D.cpu().detach().numpy())\n",
    "        \n",
    "        ####################################\n",
    "        \n",
    "        if (batch_idx % params.sample_interval == 0): \n",
    "            batches_done = i * len(dataloader) + batch_idx\n",
    "            save_image(gen_imgs.data[:25], os.path.join(params.imgsave_path, \"%d.png\" % batches_done), nrow=5, normalize=True)\n",
    "            print(\"D(x): %.4f D(G(z)): %.4f / %.4f\"%(D_x, D_z, G_z))\n",
    "        \n",
    "    avg_loss_g = np.sum(np.asarray(g_loss)) / len(g_loss)\n",
    "    avg_loss_d = np.sum(np.asarray(d_loss)) / len(d_loss)\n",
    "    print(\"Generator loss: %.4f, Discriminator loss: %.4f\"%(avg_loss_g, avg_loss_d))\n",
    "    \n",
    "    g_loss_lst.append(avg_loss_g)\n",
    "    d_loss_lst.append(avg_loss_d)\n",
    "    \n",
    "    # save the model checkpoint\n",
    "    state_G = generator.state_dict()\n",
    "    torch.save(state_G, os.path.join(params.CHECKPOINT_FOLDER, 'generator.pth'))\n",
    "    state_D = discriminator.state_dict()\n",
    "    torch.save(state_D, os.path.join(params.CHECKPOINT_FOLDER, 'discriminator.pth'))\n",
    "    print(f\"Epoch finished in {time.time() - epoch_start:.2f}s\")\n",
    "    print(\"\")\n",
    "\n",
    "print(\"=\"*50)\n",
    "print(f\"==> Optimization finished in {time.time() - start:.2f}s!\")"
   ]
  },
  {
   "cell_type": "code",
   "execution_count": 8,
   "metadata": {
    "pycharm": {
     "name": "#%%\n"
    },
    "scrolled": true
   },
   "outputs": [
    {
     "data": {
      "image/png": "[encoded data removed]",
      "text/plain": [
       "<Figure size 432x288 with 1 Axes>"
      ]
     },
     "metadata": {
      "needs_background": "light"
     },
     "output_type": "display_data"
    }
   ],
   "source": [
    "plt.plot(g_loss_lst, label='Generator Error')\n",
    "plt.plot(d_loss_lst, label='Discriminator Error')\n",
    "plt.title(\"GAN Learning Curve\")\n",
    "plt.legend()\n",
    "plt.xlabel('epoch')\n",
    "plt.ylabel('loss')\n",
    "plt.show()"
   ]
  }
 ],
 "metadata": {
  "kernelspec": {
   "display_name": "Python 3 (ipykernel)",
   "language": "python",
   "name": "python3"
  },
  "language_info": {
   "codemirror_mode": {
    "name": "ipython",
    "version": 3
   },
   "file_extension": ".py",
   "mimetype": "text/x-python",
   "name": "python",
   "nbconvert_exporter": "python",
   "pygments_lexer": "ipython3",
   "version": "3.9.12"
  }
 },
 "nbformat": 4,
 "nbformat_minor": 4
}
