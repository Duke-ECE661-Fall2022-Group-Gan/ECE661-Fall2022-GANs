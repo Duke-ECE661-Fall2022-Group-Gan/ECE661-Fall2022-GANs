{
 "cells": [
  {
   "cell_type": "markdown",
   "metadata": {
    "pycharm": {
     "name": "#%% md\n"
    }
   },
   "source": [
    "# Training Vanilla GAN on CIFAR-10"
   ]
  },
  {
   "cell_type": "code",
   "execution_count": 1,
   "metadata": {
    "pycharm": {
     "name": "#%%\n"
    }
   },
   "outputs": [
    {
     "name": "stdout",
     "output_type": "stream",
     "text": [
      "Looking in indexes: https://repo.huaweicloud.com/repository/pypi/simple\n",
      "Requirement already satisfied: torch-summary in /root/miniconda3/lib/python3.8/site-packages (1.4.5)\n",
      "\u001b[33mWARNING: Running pip as the 'root' user can result in broken permissions and conflicting behaviour with the system package manager. It is recommended to use a virtual environment instead: https://pip.pypa.io/warnings/venv\u001b[0m\n"
     ]
    }
   ],
   "source": [
    "# import necessary dependencies\n",
    "import argparse\n",
    "import os, sys\n",
    "import time\n",
    "import datetime\n",
    "import numpy as np\n",
    "import matplotlib.pyplot as plt\n",
    "from tqdm import tqdm_notebook as tqdm\n",
    "\n",
    "import torch\n",
    "\n",
    "import torch.nn as nn\n",
    "import torch.nn.functional as F\n",
    "from torch.autograd import Variable\n",
    "!pip install torch-summary\n",
    "from torchsummary import summary\n",
    "from torchvision.utils import save_image\n",
    "\n",
    "import gitpath\n",
    "HOME_PATH = gitpath.root()\n",
    "sys.path.append(HOME_PATH)\n",
    "\n",
    "from models.DCGAN_new import *"
   ]
  },
  {
   "cell_type": "code",
   "execution_count": 2,
   "metadata": {},
   "outputs": [],
   "source": [
    "class HyperParams:\n",
    "    def __init__(self):\n",
    "        # Constance hyperparameters. They have been tested and don't need to be tuned.\n",
    "        self.n_epochs = 50\n",
    "        self.batch_size = 64\n",
    "        self.lr = 0.0002\n",
    "        self.b1 = 0.5\n",
    "        self.b2 = 0.999\n",
    "        self.n_workers = 8\n",
    "        self.latent_dim = 100\n",
    "        self.img_size = 32\n",
    "        self.channels = 3\n",
    "        self.sample_interval = 500\n",
    "        self.imgsave_path = os.path.join(HOME_PATH, 'images', 'dcgan_new')\n",
    "        self.CHECKPOINT_FOLDER = os.path.join(HOME_PATH, 'saved_model', 'dcgan_new')\n",
    "        \n",
    "params = HyperParams()\n",
    "os.makedirs(params.imgsave_path, exist_ok=True)\n",
    "os.makedirs(params.CHECKPOINT_FOLDER, exist_ok=True)"
   ]
  },
  {
   "cell_type": "markdown",
   "metadata": {
    "pycharm": {
     "name": "#%% md\n"
    }
   },
   "source": [
    "## Step 1: Set up preprocessing functions"
   ]
  },
  {
   "cell_type": "code",
   "execution_count": 3,
   "metadata": {
    "pycharm": {
     "name": "#%%\n"
    }
   },
   "outputs": [],
   "source": [
    "# useful libraries\n",
    "import torchvision\n",
    "import torchvision.transforms as transforms\n",
    "\n",
    "transform = transforms.Compose([\n",
    "        transforms.ToTensor(),\n",
    "        transforms.Normalize(mean=(0.4914, 0.4822, 0.4465), std=(0.2023, 0.1994, 0.2010))\n",
    "        ])"
   ]
  },
  {
   "cell_type": "code",
   "execution_count": 4,
   "metadata": {
    "pycharm": {
     "name": "#%%\n"
    }
   },
   "outputs": [
    {
     "name": "stdout",
     "output_type": "stream",
     "text": [
      "Files already downloaded and verified\n"
     ]
    }
   ],
   "source": [
    "# do NOT change these\n",
    "import torchvision.datasets as dset\n",
    "from torch.utils.data import DataLoader\n",
    "\n",
    "# a few arguments, do NOT change these\n",
    "DATA_ROOT = os.path.join(HOME_PATH, \"data\")\n",
    "\n",
    "# construct dataset\n",
    "dataset = dset.CIFAR10(\n",
    "    root=DATA_ROOT,\n",
    "    train=True,\n",
    "    download=True,\n",
    "    transform=transform \n",
    ")\n",
    "\n",
    "# construct dataloader\n",
    "dataloader = DataLoader(\n",
    "    dataset, \n",
    "    batch_size=params.batch_size,  # your code\n",
    "    shuffle=True,     # your code\n",
    "    num_workers=params.n_workers\n",
    ")"
   ]
  },
  {
   "cell_type": "markdown",
   "metadata": {
    "pycharm": {
     "name": "#%% md\n"
    }
   },
   "source": [
    "## Step 3: Instantiate your SimpleNN model and deploy it to GPU devices."
   ]
  },
  {
   "cell_type": "code",
   "execution_count": 5,
   "metadata": {
    "pycharm": {
     "name": "#%%\n"
    }
   },
   "outputs": [
    {
     "name": "stdout",
     "output_type": "stream",
     "text": [
      "Run on GPU...\n"
     ]
    }
   ],
   "source": [
    "# specify the device for computation\n",
    "\n",
    "# GPU check                \n",
    "device = 'cuda' if torch.cuda.is_available() else 'cpu'\n",
    "if device =='cuda':\n",
    "    print(\"Run on GPU...\")\n",
    "else:\n",
    "    print(\"Run on CPU...\")\n",
    "\n",
    "# Model Definition  \n",
    "generator = Generator(params.latent_dim).to(device)\n",
    "discriminator = Discriminator().to(device)\n",
    "\n",
    "# Check if on GPU\n",
    "assert(next(generator.parameters()).is_cuda)\n",
    "assert(next(discriminator.parameters()).is_cuda)"
   ]
  },
  {
   "cell_type": "markdown",
   "metadata": {
    "pycharm": {
     "name": "#%% md\n"
    }
   },
   "source": [
    "## Step 4: Set up the loss function and optimizer"
   ]
  },
  {
   "cell_type": "code",
   "execution_count": 6,
   "metadata": {
    "pycharm": {
     "name": "#%%\n"
    }
   },
   "outputs": [],
   "source": [
    "import torch.nn as nn\n",
    "import torch.optim as optim\n",
    "\n",
    "# hyperparameters according to ResNet paper section 4.2\n",
    "\n",
    "# create loss function\n",
    "criterion = nn.BCELoss().to(device)\n",
    "\n",
    "# Add optimizer\n",
    "optimizerG = optim.Adam(generator.parameters(), lr=params.lr, betas=(params.b1, params.b2))\n",
    "optimizerD = optim.Adam(discriminator.parameters(), lr=params.lr, betas=(params.b1, params.b2))"
   ]
  },
  {
   "cell_type": "markdown",
   "metadata": {
    "pycharm": {
     "name": "#%% md\n"
    }
   },
   "source": [
    "## Step 5: Start the training process.\n"
   ]
  },
  {
   "cell_type": "code",
   "execution_count": null,
   "metadata": {
    "pycharm": {
     "name": "#%%\n"
    },
    "scrolled": true,
    "tags": []
   },
   "outputs": [
    {
     "name": "stdout",
     "output_type": "stream",
     "text": [
      "==> Training starts!\n",
      "==================================================\n",
      "Epoch 0:\n",
      "D(x): 0.5139 D(G(z)): 0.5044 / 0.5194\n",
      "D(x): 0.5771 D(G(z)): 0.4493 / 0.4632\n",
      "Generator loss: 1.1054, Discriminator loss: 0.6020\n",
      "Epoch finished in 20.82s\n",
      "\n",
      "Epoch 1:\n",
      "D(x): 0.6096 D(G(z)): 0.4357 / 0.4698\n",
      "D(x): 0.4909 D(G(z)): 0.5513 / 0.5030\n",
      "Generator loss: 0.8642, Discriminator loss: 0.6656\n",
      "Epoch finished in 20.71s\n",
      "\n",
      "Epoch 2:\n",
      "D(x): 0.6126 D(G(z)): 0.4779 / 0.4298\n",
      "D(x): 0.6546 D(G(z)): 0.5323 / 0.4637\n",
      "Generator loss: 1.0225, Discriminator loss: 0.6141\n",
      "Epoch finished in 20.66s\n",
      "\n",
      "Epoch 3:\n",
      "D(x): 0.6815 D(G(z)): 0.4325 / 0.4746\n",
      "D(x): 0.7591 D(G(z)): 0.6680 / 0.6395\n",
      "Generator loss: 1.2121, Discriminator loss: 0.5697\n",
      "Epoch finished in 20.50s\n",
      "\n",
      "Epoch 4:\n",
      "D(x): 0.2795 D(G(z)): 0.0775 / 0.0761\n",
      "D(x): 0.7720 D(G(z)): 0.1799 / 0.3964\n",
      "Generator loss: 1.2273, Discriminator loss: 0.5573\n",
      "Epoch finished in 20.84s\n",
      "\n",
      "Epoch 5:\n",
      "D(x): 0.8643 D(G(z)): 0.8110 / 0.5990\n",
      "D(x): 0.6296 D(G(z)): 0.4568 / 0.3049\n",
      "Generator loss: 1.2503, Discriminator loss: 0.5619\n",
      "Epoch finished in 20.84s\n",
      "\n",
      "Epoch 6:\n",
      "D(x): 0.4062 D(G(z)): 0.2108 / 0.2336\n",
      "D(x): 0.7161 D(G(z)): 0.4176 / 0.3735\n",
      "Generator loss: 1.2537, Discriminator loss: 0.5508\n",
      "Epoch finished in 20.67s\n",
      "\n",
      "Epoch 7:\n",
      "D(x): 0.6658 D(G(z)): 0.4773 / 0.4495\n",
      "D(x): 0.7156 D(G(z)): 0.4718 / 0.4409\n",
      "Generator loss: 1.3324, Discriminator loss: 0.5390\n",
      "Epoch finished in 20.60s\n",
      "\n",
      "Epoch 8:\n",
      "D(x): 0.6595 D(G(z)): 0.3274 / 0.4277\n",
      "D(x): 0.8560 D(G(z)): 0.3578 / 0.4231\n",
      "Generator loss: 1.3381, Discriminator loss: 0.5399\n",
      "Epoch finished in 20.56s\n",
      "\n",
      "Epoch 9:\n",
      "D(x): 0.8547 D(G(z)): 0.6280 / 0.5566\n",
      "D(x): 0.8814 D(G(z)): 0.5825 / 0.6142\n",
      "Generator loss: 1.4070, Discriminator loss: 0.5249\n",
      "Epoch finished in 21.17s\n",
      "\n",
      "Epoch 10:\n",
      "D(x): 0.4921 D(G(z)): 0.2271 / 0.2214\n",
      "D(x): 0.5141 D(G(z)): 0.1271 / 0.2158\n",
      "Generator loss: 1.4372, Discriminator loss: 0.5128\n",
      "Epoch finished in 20.77s\n",
      "\n",
      "Epoch 11:\n",
      "D(x): 0.5834 D(G(z)): 0.1258 / 0.1585\n",
      "D(x): 0.6931 D(G(z)): 0.2434 / 0.2142\n",
      "Generator loss: 1.4398, Discriminator loss: 0.5204\n",
      "Epoch finished in 20.57s\n",
      "\n",
      "Epoch 12:\n",
      "D(x): 0.5765 D(G(z)): 0.2156 / 0.2767\n",
      "D(x): 0.4432 D(G(z)): 0.1795 / 0.2154\n",
      "Generator loss: 1.4437, Discriminator loss: 0.5161\n",
      "Epoch finished in 20.82s\n",
      "\n",
      "Epoch 13:\n",
      "D(x): 0.8398 D(G(z)): 0.2594 / 0.3254\n",
      "D(x): 0.3840 D(G(z)): 0.2592 / 0.1905\n",
      "Generator loss: 1.4565, Discriminator loss: 0.5177\n",
      "Epoch finished in 20.56s\n",
      "\n",
      "Epoch 14:\n",
      "D(x): 0.8560 D(G(z)): 0.3665 / 0.5233\n",
      "D(x): 0.4775 D(G(z)): 0.1698 / 0.2243\n",
      "Generator loss: 1.4507, Discriminator loss: 0.5267\n",
      "Epoch finished in 20.76s\n",
      "\n",
      "Epoch 15:\n",
      "D(x): 0.6079 D(G(z)): 0.2117 / 0.2558\n",
      "D(x): 0.4642 D(G(z)): 0.2680 / 0.3519\n",
      "Generator loss: 1.4209, Discriminator loss: 0.5260\n",
      "Epoch finished in 20.67s\n",
      "\n",
      "Epoch 16:\n",
      "D(x): 0.4630 D(G(z)): 0.1783 / 0.1635\n",
      "D(x): 0.6039 D(G(z)): 0.2091 / 0.1575\n",
      "Generator loss: 1.4223, Discriminator loss: 0.5180\n",
      "Epoch finished in 20.87s\n",
      "\n",
      "Epoch 17:\n",
      "D(x): 0.4913 D(G(z)): 0.3413 / 0.2908\n",
      "D(x): 0.3298 D(G(z)): 0.2419 / 0.1792\n",
      "Generator loss: 1.3893, Discriminator loss: 0.5377\n",
      "Epoch finished in 20.86s\n",
      "\n",
      "Epoch 18:\n",
      "D(x): 0.6755 D(G(z)): 0.6025 / 0.3789\n",
      "D(x): 0.7346 D(G(z)): 0.1029 / 0.3560\n",
      "Generator loss: 1.4303, Discriminator loss: 0.5196\n",
      "Epoch finished in 21.14s\n",
      "\n",
      "Epoch 19:\n",
      "D(x): 0.6151 D(G(z)): 0.1903 / 0.2841\n",
      "D(x): 0.7633 D(G(z)): 0.1648 / 0.3911\n",
      "Generator loss: 1.4338, Discriminator loss: 0.5242\n",
      "Epoch finished in 20.95s\n",
      "\n",
      "Epoch 20:\n",
      "D(x): 0.7326 D(G(z)): 0.3383 / 0.4260\n",
      "D(x): 0.6957 D(G(z)): 0.1960 / 0.3330\n",
      "Generator loss: 1.3925, Discriminator loss: 0.5342\n",
      "Epoch finished in 20.78s\n",
      "\n",
      "Epoch 21:\n",
      "D(x): 0.3308 D(G(z)): 0.0572 / 0.1231\n",
      "D(x): 0.4399 D(G(z)): 0.1535 / 0.1505\n",
      "Generator loss: 1.4178, Discriminator loss: 0.5275\n",
      "Epoch finished in 20.71s\n",
      "\n",
      "Epoch 22:\n",
      "D(x): 0.8127 D(G(z)): 0.4313 / 0.5720\n",
      "D(x): 0.5849 D(G(z)): 0.3581 / 0.2297\n",
      "Generator loss: 1.4499, Discriminator loss: 0.5322\n",
      "Epoch finished in 21.00s\n",
      "\n",
      "Epoch 23:\n",
      "D(x): 0.5356 D(G(z)): 0.1328 / 0.2744\n",
      "D(x): 0.7186 D(G(z)): 0.3457 / 0.2915\n",
      "Generator loss: 1.3893, Discriminator loss: 0.5291\n",
      "Epoch finished in 20.75s\n",
      "\n",
      "Epoch 24:\n",
      "D(x): 0.9111 D(G(z)): 0.4293 / 0.5927\n",
      "D(x): 0.5563 D(G(z)): 0.2384 / 0.1549\n",
      "Generator loss: 1.4093, Discriminator loss: 0.5282\n",
      "Epoch finished in 20.88s\n",
      "\n",
      "Epoch 25:\n",
      "D(x): 0.7952 D(G(z)): 0.5475 / 0.5748\n",
      "D(x): 0.6569 D(G(z)): 0.1759 / 0.2946\n",
      "Generator loss: 1.4133, Discriminator loss: 0.5355\n",
      "Epoch finished in 20.60s\n",
      "\n",
      "Epoch 26:\n",
      "D(x): 0.5465 D(G(z)): 0.2444 / 0.2421\n",
      "D(x): 0.2811 D(G(z)): 0.1549 / 0.2163\n",
      "Generator loss: 1.4226, Discriminator loss: 0.5393\n",
      "Epoch finished in 20.75s\n",
      "\n",
      "Epoch 27:\n",
      "D(x): 0.8570 D(G(z)): 0.5081 / 0.2678\n",
      "D(x): 0.8806 D(G(z)): 0.5601 / 0.5854\n",
      "Generator loss: 1.4288, Discriminator loss: 0.5297\n",
      "Epoch finished in 20.93s\n",
      "\n",
      "Epoch 28:\n",
      "D(x): 0.7385 D(G(z)): 0.2109 / 0.4893\n",
      "D(x): 0.6097 D(G(z)): 0.2628 / 0.2340\n",
      "Generator loss: 1.4189, Discriminator loss: 0.5264\n",
      "Epoch finished in 20.90s\n",
      "\n",
      "Epoch 29:\n",
      "D(x): 0.9036 D(G(z)): 0.5788 / 0.6429\n",
      "D(x): 0.7080 D(G(z)): 0.4136 / 0.4373\n",
      "Generator loss: 1.4531, Discriminator loss: 0.5167\n",
      "Epoch finished in 20.62s\n",
      "\n",
      "Epoch 30:\n",
      "D(x): 0.5744 D(G(z)): 0.3008 / 0.3534\n",
      "D(x): 0.6466 D(G(z)): 0.2287 / 0.1863\n",
      "Generator loss: 1.4550, Discriminator loss: 0.5178\n",
      "Epoch finished in 21.04s\n",
      "\n",
      "Epoch 31:\n",
      "D(x): 0.3039 D(G(z)): 0.2070 / 0.0862\n",
      "D(x): 0.3358 D(G(z)): 0.0882 / 0.1449\n",
      "Generator loss: 1.4733, Discriminator loss: 0.5131\n",
      "Epoch finished in 20.58s\n",
      "\n",
      "Epoch 32:\n",
      "D(x): 0.1303 D(G(z)): 0.0132 / 0.0116\n",
      "D(x): 0.5720 D(G(z)): 0.3808 / 0.3012\n",
      "Generator loss: 1.4729, Discriminator loss: 0.5184\n",
      "Epoch finished in 20.30s\n",
      "\n",
      "Epoch 33:\n",
      "D(x): 0.1567 D(G(z)): 0.0425 / 0.0221\n",
      "D(x): 0.5674 D(G(z)): 0.3291 / 0.4806\n",
      "Generator loss: 1.4886, Discriminator loss: 0.5076\n",
      "Epoch finished in 20.69s\n",
      "\n",
      "Epoch 34:\n",
      "D(x): 0.6498 D(G(z)): 0.1594 / 0.4044\n",
      "D(x): 0.7759 D(G(z)): 0.5683 / 0.6459\n",
      "Generator loss: 1.4935, Discriminator loss: 0.5005\n",
      "Epoch finished in 20.64s\n",
      "\n",
      "Epoch 35:\n",
      "D(x): 0.8613 D(G(z)): 0.3854 / 0.1978\n",
      "D(x): 0.7473 D(G(z)): 0.2924 / 0.1464\n",
      "Generator loss: 1.5659, Discriminator loss: 0.5145\n",
      "Epoch finished in 20.47s\n",
      "\n",
      "Epoch 36:\n",
      "D(x): 0.7342 D(G(z)): 0.1044 / 0.1569\n",
      "D(x): 0.8828 D(G(z)): 0.5561 / 0.4865\n",
      "Generator loss: 1.5267, Discriminator loss: 0.5010\n",
      "Epoch finished in 20.64s\n",
      "\n",
      "Epoch 37:\n",
      "D(x): 0.2334 D(G(z)): 0.0919 / 0.0401\n",
      "D(x): 0.6256 D(G(z)): 0.2503 / 0.2434\n",
      "Generator loss: 1.5238, Discriminator loss: 0.5078\n",
      "Epoch finished in 20.93s\n",
      "\n",
      "Epoch 38:\n",
      "D(x): 0.7765 D(G(z)): 0.4854 / 0.4386\n",
      "D(x): 0.8265 D(G(z)): 0.2978 / 0.5012\n",
      "Generator loss: 1.4658, Discriminator loss: 0.5145\n",
      "Epoch finished in 20.54s\n",
      "\n",
      "Epoch 39:\n",
      "D(x): 0.4894 D(G(z)): 0.1567 / 0.2380\n",
      "D(x): 0.6240 D(G(z)): 0.3995 / 0.2244\n",
      "Generator loss: 1.4783, Discriminator loss: 0.5089\n",
      "Epoch finished in 20.82s\n",
      "\n",
      "Epoch 40:\n",
      "D(x): 0.8124 D(G(z)): 0.4843 / 0.5187\n",
      "D(x): 0.8647 D(G(z)): 0.5119 / 0.5121\n",
      "Generator loss: 1.5006, Discriminator loss: 0.5053\n",
      "Epoch finished in 20.97s\n",
      "\n",
      "Epoch 41:\n",
      "D(x): 0.9087 D(G(z)): 0.2811 / 0.4790\n",
      "D(x): 0.4682 D(G(z)): 0.2643 / 0.3309\n",
      "Generator loss: 1.5244, Discriminator loss: 0.4873\n",
      "Epoch finished in 20.94s\n",
      "\n",
      "Epoch 42:\n",
      "D(x): 0.7484 D(G(z)): 0.3775 / 0.1894\n",
      "D(x): 0.6217 D(G(z)): 0.4386 / 0.3439\n",
      "Generator loss: 1.5084, Discriminator loss: 0.5098\n",
      "Epoch finished in 20.81s\n",
      "\n",
      "Epoch 43:\n",
      "D(x): 0.6993 D(G(z)): 0.3071 / 0.4161\n",
      "D(x): 0.6957 D(G(z)): 0.3046 / 0.3252\n",
      "Generator loss: 1.5676, Discriminator loss: 0.5023\n",
      "Epoch finished in 20.77s\n",
      "\n",
      "Epoch 44:\n",
      "D(x): 0.9831 D(G(z)): 0.8476 / 0.7092\n",
      "D(x): 0.9770 D(G(z)): 0.2652 / 0.2649\n",
      "Generator loss: 2.0212, Discriminator loss: 0.3921\n",
      "Epoch finished in 21.16s\n",
      "\n",
      "Epoch 45:\n",
      "D(x): 0.9990 D(G(z)): 0.5561 / 0.8517\n",
      "D(x): 0.9928 D(G(z)): 0.0260 / 0.0166\n",
      "Generator loss: 4.6189, Discriminator loss: 0.1181\n",
      "Epoch finished in 20.68s\n",
      "\n",
      "Epoch 46:\n",
      "D(x): 0.9994 D(G(z)): 0.8338 / 0.5656\n",
      "D(x): 0.9995 D(G(z)): 0.0035 / 0.0076\n",
      "Generator loss: 6.6258, Discriminator loss: 0.0431\n",
      "Epoch finished in 21.08s\n",
      "\n",
      "Epoch 47:\n",
      "D(x): 0.9994 D(G(z)): 0.0179 / 0.0448\n",
      "D(x): 0.9824 D(G(z)): 0.0043 / 0.0032\n",
      "Generator loss: 6.9097, Discriminator loss: 0.0663\n",
      "Epoch finished in 20.71s\n",
      "\n",
      "Epoch 48:\n",
      "D(x): 0.9994 D(G(z)): 0.0066 / 0.0006\n",
      "D(x): 0.9982 D(G(z)): 0.0181 / 0.0292\n",
      "Generator loss: 7.5872, Discriminator loss: 0.0620\n",
      "Epoch finished in 20.61s\n",
      "\n",
      "Epoch 49:\n",
      "D(x): 0.9956 D(G(z)): 0.0021 / 0.0014\n",
      "D(x): 0.9980 D(G(z)): 0.0009 / 0.0002\n",
      "Generator loss: 7.9828, Discriminator loss: 0.0452\n",
      "Epoch finished in 20.64s\n",
      "\n",
      "==================================================\n",
      "==> Optimization finished in 1038.31s!\n"
     ]
    }
   ],
   "source": [
    "# some hyperparameters\n",
    "# total number of training epochs\n",
    "start_epoch = 0\n",
    "\n",
    "# start the training/validation process\n",
    "best_loss_g = 1e20\n",
    "best_loss_d = 1e20\n",
    "\n",
    "start = time.time()\n",
    "print(\"==> Training starts!\")\n",
    "print(\"=\"*50)\n",
    "\n",
    "# store loss learning curve\n",
    "g_loss_lst = []\n",
    "d_loss_lst = []\n",
    "\n",
    "fixed_random_z = torch.randn(params.batch_size, params.latent_dim).to(device)\n",
    "\n",
    "for i in range(start_epoch, params.n_epochs):\n",
    "    epoch_start = time.time()\n",
    "    print(\"Epoch %d:\" %i)\n",
    "    # this help you compute the training accuracy\n",
    "    total_examples = 0\n",
    "    correct_examples = 0\n",
    "\n",
    "    g_loss = []\n",
    "    d_loss = []\n",
    "    \n",
    "    # Train the model for 1 epoch.\n",
    "    for batch_idx, (inputs, targets) in enumerate(dataloader):\n",
    "        \n",
    "        inputs = inputs.float().to(device)\n",
    "        batch_size = inputs.size(0)\n",
    "        \n",
    "        real_labels = torch.full((batch_size,1), 1.0).to(device)\n",
    "        fake_labels = torch.full((batch_size,1), 0.0).to(device)\n",
    "        \n",
    "        ####################################\n",
    "        # Train Generator\n",
    "        ###################################\n",
    "        # maximize generator's ability to fool discriminator\n",
    "        z = torch.randn(batch_size, params.latent_dim).to(device)\n",
    "        gen_imgs = generator(z)\n",
    "        fake_outputs = discriminator(gen_imgs)\n",
    "        loss_G = criterion(fake_outputs, real_labels)\n",
    "        \n",
    "        # zero the gradient\n",
    "        optimizerG.zero_grad()\n",
    "        # backpropagation\n",
    "        loss_G.backward()\n",
    "        # apply gradient and update the weights\n",
    "        optimizerG.step()\n",
    "\n",
    "        # calculate percentage of confidence\n",
    "        G_z = fake_outputs.mean().item()\n",
    "        g_loss.append(loss_G.cpu().detach().numpy())\n",
    "        ####################################\n",
    "        \n",
    "        ####################################\n",
    "        # Train Discriminator\n",
    "        ###################################\n",
    "        # train to recog real image\n",
    "        real_outputs = discriminator(inputs)\n",
    "        loss_real = criterion(real_outputs, real_labels)\n",
    "        \n",
    "        ###################################\n",
    "        # train to recog fake image\n",
    "        fake_outputs = discriminator(gen_imgs.detach())\n",
    "        loss_fake = criterion(fake_outputs, fake_labels)\n",
    "        \n",
    "        # sum loss\n",
    "        loss_D = (loss_fake + loss_real) / 2\n",
    "        # zero the gradient\n",
    "        optimizerD.zero_grad()\n",
    "        # backpropagation\n",
    "        loss_D.backward()\n",
    "        # apply gradient and update the weights\n",
    "        optimizerD.step()\n",
    "\n",
    "        # calculate percentage of confidence\n",
    "        D_x = real_outputs.mean().item()\n",
    "        D_z = fake_outputs.mean().item()\n",
    "        d_loss.append(loss_D.cpu().detach().numpy())\n",
    "        \n",
    "        ####################################\n",
    "        \n",
    "        if (batch_idx % params.sample_interval == 0): \n",
    "            batches_done = i * len(dataloader) + batch_idx\n",
    "            save_image(generator(fixed_random_z).data[:40], os.path.join(params.imgsave_path, \"%d.png\" % batches_done), nrow=5, normalize=True)\n",
    "            print(\"D(x): %.4f D(G(z)): %.4f / %.4f\"%(D_x, D_z, G_z))\n",
    "        \n",
    "    avg_loss_g = np.sum(np.asarray(g_loss)) / len(g_loss)\n",
    "    avg_loss_d = np.sum(np.asarray(d_loss)) / len(d_loss)\n",
    "    print(\"Generator loss: %.4f, Discriminator loss: %.4f\"%(avg_loss_g, avg_loss_d))\n",
    "    \n",
    "    g_loss_lst.append(avg_loss_g)\n",
    "    d_loss_lst.append(avg_loss_d)\n",
    "    \n",
    "    # save the model checkpoint\n",
    "    state_G = generator.state_dict()\n",
    "    torch.save(state_G, os.path.join(params.CHECKPOINT_FOLDER, 'generator.pth'))\n",
    "    state_D = discriminator.state_dict()\n",
    "    torch.save(state_D, os.path.join(params.CHECKPOINT_FOLDER, 'discriminator.pth'))\n",
    "    print(f\"Epoch finished in {time.time() - epoch_start:.2f}s\")\n",
    "    print(\"\")\n",
    "\n",
    "print(\"=\"*50)\n",
    "print(f\"==> Optimization finished in {time.time() - start:.2f}s!\")"
   ]
  },
  {
   "cell_type": "code",
   "execution_count": null,
   "metadata": {
    "pycharm": {
     "name": "#%%\n"
    },
    "tags": []
   },
   "outputs": [
    {
     "data": {
      "image/png": "[encoded data removed]",
      "text/plain": [
       "<Figure size 432x288 with 1 Axes>"
      ]
     },
     "metadata": {
      "needs_background": "light"
     },
     "output_type": "display_data"
    }
   ],
   "source": [
    "plt.plot(g_loss_lst, label='Generator Error')\n",
    "plt.plot(d_loss_lst, label='Discriminator Error')\n",
    "plt.title(\"GAN Learning Curve\")\n",
    "plt.legend()\n",
    "plt.xlabel('epoch')\n",
    "plt.ylabel('loss')\n",
    "plt.show()"
   ]
  }
 ],
 "metadata": {
  "kernelspec": {
   "display_name": "Python 3.9.10 64-bit",
   "language": "python",
   "name": "python3"
  },
  "language_info": {
   "codemirror_mode": {
    "name": "ipython",
    "version": 3
   },
   "file_extension": ".py",
   "mimetype": "text/x-python",
   "name": "python",
   "nbconvert_exporter": "python",
   "pygments_lexer": "ipython3",
   "version": "3.9.10"
  },
  "vscode": {
   "interpreter": {
    "hash": "55bddd02603dad7cae9250e67c4f06c2e526a4aeb2bdb15aa8db98b2d78ddb6c"
   }
  }
 },
 "nbformat": 4,
 "nbformat_minor": 4
}
