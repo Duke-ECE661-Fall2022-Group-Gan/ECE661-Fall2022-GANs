{
 "cells": [
  {
   "cell_type": "markdown",
   "metadata": {
    "pycharm": {
     "name": "#%% md\n"
    }
   },
   "source": [
    "# Training Vanilla GAN on CIFAR-10"
   ]
  },
  {
   "cell_type": "code",
   "execution_count": 1,
   "metadata": {
    "pycharm": {
     "name": "#%%\n"
    }
   },
   "outputs": [
    {
     "name": "stdout",
     "output_type": "stream",
     "text": [
      "Collecting torch-summary\n",
      "  Downloading torch_summary-1.4.5-py3-none-any.whl (16 kB)\n",
      "Installing collected packages: torch-summary\n",
      "Successfully installed torch-summary-1.4.5\n"
     ]
    }
   ],
   "source": [
    "# import necessary dependencies\n",
    "import argparse\n",
    "import os, sys\n",
    "import time\n",
    "import datetime\n",
    "import numpy as np\n",
    "import matplotlib.pyplot as plt\n",
    "from tqdm import tqdm_notebook as tqdm\n",
    "\n",
    "import torch\n",
    "\n",
    "import torch.nn as nn\n",
    "import torch.nn.functional as F\n",
    "from torch.autograd import Variable\n",
    "!pip install torch-summary\n",
    "from torchsummary import summary\n",
    "from torchvision.utils import save_image\n",
    "\n",
    "import gitpath\n",
    "HOME_PATH = gitpath.root()\n",
    "sys.path.append(HOME_PATH)\n",
    "\n",
    "from models.WGAN_new import *"
   ]
  },
  {
   "cell_type": "code",
   "execution_count": 2,
   "metadata": {},
   "outputs": [],
   "source": [
    "class HyperParams:\n",
    "    def __init__(self):\n",
    "        # Constance hyperparameters. They have been tested and don't need to be tuned.\n",
    "        self.n_epochs = 50\n",
    "        self.batch_size = 64\n",
    "        self.lr = 0.0002\n",
    "        self.n_critic = 5\n",
    "        self.clip_value = 0.01\n",
    "        self.n_workers = 8\n",
    "        self.latent_dim = 100\n",
    "        self.img_size = 32\n",
    "        self.channels = 3\n",
    "        self.sample_interval = 500\n",
    "        self.imgsave_path = os.path.join(HOME_PATH, 'images', 'wgan2')\n",
    "        self.CHECKPOINT_FOLDER = os.path.join(HOME_PATH, 'saved_model', 'wgan2')\n",
    "        \n",
    "params = HyperParams()\n",
    "os.makedirs(params.imgsave_path, exist_ok=True)\n",
    "os.makedirs(params.CHECKPOINT_FOLDER, exist_ok=True)"
   ]
  },
  {
   "cell_type": "markdown",
   "metadata": {
    "pycharm": {
     "name": "#%% md\n"
    }
   },
   "source": [
    "## Step 1: Set up preprocessing functions"
   ]
  },
  {
   "cell_type": "code",
   "execution_count": 3,
   "metadata": {
    "pycharm": {
     "name": "#%%\n"
    }
   },
   "outputs": [],
   "source": [
    "# useful libraries\n",
    "import torchvision\n",
    "import torchvision.transforms as transforms\n",
    "\n",
    "transform = transforms.Compose([\n",
    "        transforms.ToTensor(),\n",
    "        transforms.Normalize(mean=(0.4914, 0.4822, 0.4465), std=(0.2023, 0.1994, 0.2010))\n",
    "        ])"
   ]
  },
  {
   "cell_type": "code",
   "execution_count": 4,
   "metadata": {
    "pycharm": {
     "name": "#%%\n"
    }
   },
   "outputs": [
    {
     "name": "stdout",
     "output_type": "stream",
     "text": [
      "Downloading https://www.cs.toronto.edu/~kriz/cifar-10-python.tar.gz to /home/warrenzhao/ECE661-Fall2022-GANs/data/cifar-10-python.tar.gz\n"
     ]
    },
    {
     "data": {
      "application/vnd.jupyter.widget-view+json": {
       "model_id": "06eb4c393a1c4fabbcdc7bd5e6a81c75",
       "version_major": 2,
       "version_minor": 0
      },
      "text/plain": [
       "  0%|          | 0/170498071 [00:00<?, ?it/s]"
      ]
     },
     "metadata": {},
     "output_type": "display_data"
    },
    {
     "name": "stdout",
     "output_type": "stream",
     "text": [
      "Extracting /home/warrenzhao/ECE661-Fall2022-GANs/data/cifar-10-python.tar.gz to /home/warrenzhao/ECE661-Fall2022-GANs/data\n"
     ]
    }
   ],
   "source": [
    "# do NOT change these\n",
    "import torchvision.datasets as dset\n",
    "from torch.utils.data import DataLoader\n",
    "\n",
    "# a few arguments, do NOT change these\n",
    "DATA_ROOT = os.path.join(HOME_PATH, \"data\")\n",
    "\n",
    "# construct dataset\n",
    "dataset = dset.CIFAR10(\n",
    "    root=DATA_ROOT,\n",
    "    train=True,\n",
    "    download=True,\n",
    "    transform=transform \n",
    ")\n",
    "\n",
    "# construct dataloader\n",
    "dataloader = DataLoader(\n",
    "    dataset, \n",
    "    batch_size=params.batch_size,  # your code\n",
    "    shuffle=True,     # your code\n",
    "    num_workers=params.n_workers\n",
    ")"
   ]
  },
  {
   "cell_type": "markdown",
   "metadata": {
    "pycharm": {
     "name": "#%% md\n"
    }
   },
   "source": [
    "## Step 3: Instantiate your SimpleNN model and deploy it to GPU devices."
   ]
  },
  {
   "cell_type": "code",
   "execution_count": 5,
   "metadata": {
    "pycharm": {
     "name": "#%%\n"
    }
   },
   "outputs": [
    {
     "name": "stdout",
     "output_type": "stream",
     "text": [
      "Run on GPU...\n"
     ]
    }
   ],
   "source": [
    "# specify the device for computation\n",
    "\n",
    "# GPU check                \n",
    "device = 'cuda' if torch.cuda.is_available() else 'cpu'\n",
    "if device =='cuda':\n",
    "    print(\"Run on GPU...\")\n",
    "else:\n",
    "    print(\"Run on CPU...\")\n",
    "\n",
    "# Model Definition  \n",
    "generator = Generator(params.latent_dim).to(device)\n",
    "discriminator = Discriminator().to(device)\n",
    "\n",
    "# Check if on GPU\n",
    "assert(next(generator.parameters()).is_cuda)\n",
    "assert(next(discriminator.parameters()).is_cuda)"
   ]
  },
  {
   "cell_type": "markdown",
   "metadata": {
    "pycharm": {
     "name": "#%% md\n"
    }
   },
   "source": [
    "## Step 4: Set up the loss function and optimizer"
   ]
  },
  {
   "cell_type": "code",
   "execution_count": 6,
   "metadata": {
    "pycharm": {
     "name": "#%%\n"
    }
   },
   "outputs": [],
   "source": [
    "import torch.nn as nn\n",
    "import torch.optim as optim\n",
    "\n",
    "# hyperparameters according to ResNet paper section 4.2\n",
    "\n",
    "# Add optimizer\n",
    "optimizerG = optim.RMSprop(generator.parameters(), lr=params.lr)\n",
    "optimizerD = optim.RMSprop(discriminator.parameters(), lr=params.lr)"
   ]
  },
  {
   "cell_type": "markdown",
   "metadata": {
    "pycharm": {
     "name": "#%% md\n"
    }
   },
   "source": [
    "## Step 5: Start the training process.\n"
   ]
  },
  {
   "cell_type": "code",
   "execution_count": 7,
   "metadata": {
    "pycharm": {
     "name": "#%%\n"
    },
    "scrolled": true
   },
   "outputs": [
    {
     "name": "stdout",
     "output_type": "stream",
     "text": [
      "==> Training starts!\n",
      "==================================================\n",
      "Epoch 0:\n",
      "Generator loss: 0.6846, Discriminator loss: -1.2312\n",
      "Epoch finished in 21.70s\n",
      "\n",
      "Epoch 1:\n",
      "Generator loss: 0.6394, Discriminator loss: -1.1921\n",
      "Epoch finished in 21.52s\n",
      "\n",
      "Epoch 2:\n",
      "Generator loss: 0.5926, Discriminator loss: -1.1601\n",
      "Epoch finished in 21.52s\n",
      "\n",
      "Epoch 3:\n",
      "Generator loss: 0.5814, Discriminator loss: -1.0855\n",
      "Epoch finished in 21.52s\n",
      "\n",
      "Epoch 4:\n",
      "Generator loss: 0.4981, Discriminator loss: -0.9513\n",
      "Epoch finished in 21.61s\n",
      "\n",
      "Epoch 5:\n",
      "Generator loss: 0.5540, Discriminator loss: -0.9822\n",
      "Epoch finished in 21.69s\n",
      "\n",
      "Epoch 6:\n",
      "Generator loss: 0.4750, Discriminator loss: -0.9131\n",
      "Epoch finished in 21.58s\n",
      "\n",
      "Epoch 7:\n",
      "Generator loss: 0.1947, Discriminator loss: -0.6869\n",
      "Epoch finished in 21.56s\n",
      "\n",
      "Epoch 8:\n",
      "Generator loss: 0.5080, Discriminator loss: -0.7932\n",
      "Epoch finished in 21.61s\n",
      "\n",
      "Epoch 9:\n",
      "Generator loss: 0.3128, Discriminator loss: -0.8221\n",
      "Epoch finished in 21.54s\n",
      "\n",
      "Epoch 10:\n",
      "Generator loss: 0.4001, Discriminator loss: -0.8291\n",
      "Epoch finished in 21.61s\n",
      "\n",
      "Epoch 11:\n",
      "Generator loss: 0.4537, Discriminator loss: -0.8852\n",
      "Epoch finished in 21.57s\n",
      "\n",
      "Epoch 12:\n",
      "Generator loss: 0.4940, Discriminator loss: -0.9709\n",
      "Epoch finished in 21.73s\n",
      "\n",
      "Epoch 13:\n",
      "Generator loss: 0.4567, Discriminator loss: -0.9201\n",
      "Epoch finished in 21.56s\n",
      "\n",
      "Epoch 14:\n",
      "Generator loss: 0.5101, Discriminator loss: -0.9683\n",
      "Epoch finished in 21.60s\n",
      "\n",
      "Epoch 15:\n",
      "Generator loss: 0.4453, Discriminator loss: -0.8903\n",
      "Epoch finished in 21.58s\n",
      "\n",
      "Epoch 16:\n",
      "Generator loss: 0.5451, Discriminator loss: -1.0123\n",
      "Epoch finished in 21.64s\n",
      "\n",
      "Epoch 17:\n",
      "Generator loss: 0.4562, Discriminator loss: -0.9167\n",
      "Epoch finished in 21.66s\n",
      "\n",
      "Epoch 18:\n",
      "Generator loss: 0.6079, Discriminator loss: -1.0182\n",
      "Epoch finished in 21.63s\n",
      "\n",
      "Epoch 19:\n",
      "Generator loss: 0.5059, Discriminator loss: -1.0282\n",
      "Epoch finished in 21.62s\n",
      "\n",
      "Epoch 20:\n",
      "Generator loss: 0.4919, Discriminator loss: -0.8374\n",
      "Epoch finished in 21.57s\n",
      "\n",
      "Epoch 21:\n",
      "Generator loss: 0.4297, Discriminator loss: -0.8091\n",
      "Epoch finished in 21.59s\n",
      "\n",
      "Epoch 22:\n",
      "Generator loss: 0.3972, Discriminator loss: -0.8814\n",
      "Epoch finished in 21.69s\n",
      "\n",
      "Epoch 23:\n",
      "Generator loss: 0.5757, Discriminator loss: -1.0071\n",
      "Epoch finished in 21.57s\n",
      "\n",
      "Epoch 24:\n",
      "Generator loss: 0.4776, Discriminator loss: -0.9532\n",
      "Epoch finished in 21.55s\n",
      "\n",
      "Epoch 25:\n",
      "Generator loss: 0.4462, Discriminator loss: -0.9017\n",
      "Epoch finished in 21.57s\n",
      "\n",
      "Epoch 26:\n",
      "Generator loss: 0.3276, Discriminator loss: -0.7074\n",
      "Epoch finished in 21.63s\n",
      "\n",
      "Epoch 27:\n",
      "Generator loss: 0.3215, Discriminator loss: -0.8020\n",
      "Epoch finished in 21.67s\n",
      "\n",
      "Epoch 28:\n",
      "Generator loss: 0.4020, Discriminator loss: -0.8206\n",
      "Epoch finished in 21.57s\n",
      "\n",
      "Epoch 29:\n",
      "Generator loss: 0.2594, Discriminator loss: -0.7199\n",
      "Epoch finished in 21.69s\n",
      "\n",
      "Epoch 30:\n",
      "Generator loss: 0.5188, Discriminator loss: -0.8309\n",
      "Epoch finished in 21.58s\n",
      "\n",
      "Epoch 31:\n",
      "Generator loss: 0.4379, Discriminator loss: -0.8441\n",
      "Epoch finished in 21.61s\n",
      "\n",
      "Epoch 32:\n",
      "Generator loss: 0.4803, Discriminator loss: -0.8847\n",
      "Epoch finished in 21.54s\n",
      "\n",
      "Epoch 33:\n",
      "Generator loss: 0.1547, Discriminator loss: -0.6369\n",
      "Epoch finished in 21.60s\n",
      "\n",
      "Epoch 34:\n",
      "Generator loss: 0.4359, Discriminator loss: -0.8917\n",
      "Epoch finished in 21.59s\n",
      "\n",
      "Epoch 35:\n",
      "Generator loss: 0.3234, Discriminator loss: -0.6853\n",
      "Epoch finished in 21.58s\n",
      "\n",
      "Epoch 36:\n",
      "Generator loss: 0.3517, Discriminator loss: -0.8059\n",
      "Epoch finished in 21.59s\n",
      "\n",
      "Epoch 37:\n",
      "Generator loss: 0.3878, Discriminator loss: -0.8082\n",
      "Epoch finished in 21.59s\n",
      "\n",
      "Epoch 38:\n",
      "Generator loss: 0.3301, Discriminator loss: -0.8430\n",
      "Epoch finished in 21.58s\n",
      "\n",
      "Epoch 39:\n",
      "Generator loss: 0.3817, Discriminator loss: -0.7828\n",
      "Epoch finished in 21.58s\n",
      "\n",
      "Epoch 40:\n",
      "Generator loss: 0.4365, Discriminator loss: -0.8666\n",
      "Epoch finished in 21.62s\n",
      "\n",
      "Epoch 41:\n",
      "Generator loss: 0.4184, Discriminator loss: -0.7884\n",
      "Epoch finished in 21.57s\n",
      "\n",
      "Epoch 42:\n",
      "Generator loss: 0.3514, Discriminator loss: -0.7624\n",
      "Epoch finished in 21.60s\n",
      "\n",
      "Epoch 43:\n",
      "Generator loss: 0.5258, Discriminator loss: -0.9137\n",
      "Epoch finished in 21.60s\n",
      "\n",
      "Epoch 44:\n",
      "Generator loss: 0.3339, Discriminator loss: -0.7725\n",
      "Epoch finished in 21.61s\n",
      "\n",
      "Epoch 45:\n",
      "Generator loss: 0.3297, Discriminator loss: -0.8558\n",
      "Epoch finished in 21.59s\n",
      "\n",
      "Epoch 46:\n",
      "Generator loss: 0.3633, Discriminator loss: -0.7855\n",
      "Epoch finished in 21.56s\n",
      "\n",
      "Epoch 47:\n",
      "Generator loss: 0.3755, Discriminator loss: -0.8246\n",
      "Epoch finished in 21.58s\n",
      "\n",
      "Epoch 48:\n",
      "Generator loss: 0.4762, Discriminator loss: -0.9103\n",
      "Epoch finished in 21.58s\n",
      "\n",
      "Epoch 49:\n",
      "Generator loss: 0.4207, Discriminator loss: -0.8930\n",
      "Epoch finished in 21.63s\n",
      "\n",
      "==================================================\n",
      "==> Optimization finished in 1079.94s!\n"
     ]
    }
   ],
   "source": [
    "# some hyperparameters\n",
    "# total number of training epochs\n",
    "start_epoch = 0\n",
    "\n",
    "# start the training/validation process\n",
    "best_loss_g = 1e20\n",
    "best_loss_d = 1e20\n",
    "\n",
    "start = time.time()\n",
    "print(\"==> Training starts!\")\n",
    "print(\"=\"*50)\n",
    "\n",
    "# store loss learning curve\n",
    "g_loss_lst = []\n",
    "d_loss_lst = []\n",
    "\n",
    "for i in range(start_epoch, params.n_epochs):\n",
    "    epoch_start = time.time()\n",
    "    print(\"Epoch %d:\" %i)\n",
    "    # this help you compute the training accuracy\n",
    "    total_examples = 0\n",
    "    correct_examples = 0\n",
    "\n",
    "    g_loss = []\n",
    "    d_loss = []\n",
    "    \n",
    "    # Train the model for 1 epoch.\n",
    "    for batch_idx, (inputs, targets) in enumerate(dataloader):\n",
    "        \n",
    "        inputs = inputs.float().to(device)\n",
    "        batch_size = inputs.size(0)\n",
    "        \n",
    "        # generate fake images\n",
    "        z = torch.randn(batch_size, params.latent_dim).to(device)\n",
    "        gen_imgs = generator(z)\n",
    "        \n",
    "        ####################################\n",
    "        # Train Discriminator\n",
    "        ###################################\n",
    "        # Ref: WGAN paper page 8 Algo 1\n",
    "    \n",
    "        # clipping to satisfy Lipschitz constraint\n",
    "        for p in discriminator.parameters():\n",
    "            p.data.clamp_(-params.clip_value, params.clip_value)\n",
    "\n",
    "        loss_real = torch.mean(discriminator(inputs))\n",
    "        loss_fake = -torch.mean(discriminator(gen_imgs.detach()))\n",
    "        loss_D = loss_fake + loss_real\n",
    "\n",
    "        # backpropagation\n",
    "        optimizerD.zero_grad()\n",
    "        loss_D.backward()\n",
    "        optimizerD.step()\n",
    "\n",
    "        # calculate percentage of confidence\n",
    "        d_loss.append(loss_D.cpu().detach().numpy())\n",
    "\n",
    "        ####################################\n",
    "        \n",
    "        if batch_idx % params.n_critic == 0:\n",
    "            ####################################\n",
    "            # Train Generator\n",
    "            ###################################\n",
    "            # maximize generator's ability to fool discriminator\n",
    "\n",
    "            # compute loss\n",
    "            loss_G = torch.mean(discriminator(gen_imgs))\n",
    "            \n",
    "            # backpropagation\n",
    "            optimizerG.zero_grad()\n",
    "            loss_G.backward()\n",
    "            optimizerG.step()\n",
    "\n",
    "            # calculate percentage of confidence\n",
    "            g_loss.append(loss_G.cpu().detach().numpy())\n",
    "            ####################################\n",
    "        \n",
    "        if (batch_idx % params.sample_interval == 0): \n",
    "            batches_done = i * len(dataloader) + batch_idx\n",
    "            save_image(gen_imgs.data[:25], os.path.join(params.imgsave_path, \"%d.png\" % batches_done), nrow=5, normalize=True)\n",
    "        \n",
    "    avg_loss_g = np.sum(np.asarray(g_loss)) / len(g_loss)\n",
    "    avg_loss_d = np.sum(np.asarray(d_loss)) / len(d_loss)\n",
    "    print(\"Generator loss: %.4f, Discriminator loss: %.4f\"%(avg_loss_g, avg_loss_d))\n",
    "    \n",
    "    g_loss_lst.append(avg_loss_g)\n",
    "    d_loss_lst.append(avg_loss_d)\n",
    "    \n",
    "    # save the model checkpoint\n",
    "    state_G = generator.state_dict()\n",
    "    torch.save(state_G, os.path.join(params.CHECKPOINT_FOLDER, 'generator.pth'))\n",
    "    state_D = discriminator.state_dict()\n",
    "    torch.save(state_D, os.path.join(params.CHECKPOINT_FOLDER, 'discriminator.pth'))\n",
    "    print(f\"Epoch finished in {time.time() - epoch_start:.2f}s\")\n",
    "    print(\"\")\n",
    "\n",
    "print(\"=\"*50)\n",
    "print(f\"==> Optimization finished in {time.time() - start:.2f}s!\")"
   ]
  },
  {
   "cell_type": "code",
   "execution_count": 8,
   "metadata": {
    "pycharm": {
     "name": "#%%\n"
    },
    "scrolled": true
   },
   "outputs": [
    {
     "data": {
      "image/png": "[encoded data removed]",
      "text/plain": [
       "<Figure size 640x480 with 1 Axes>"
      ]
     },
     "metadata": {},
     "output_type": "display_data"
    }
   ],
   "source": [
    "plt.plot(g_loss_lst, label='Generator Error')\n",
    "plt.plot(d_loss_lst, label='Discriminator Error')\n",
    "plt.title(\"GAN Learning Curve\")\n",
    "plt.legend()\n",
    "plt.xlabel('epoch')\n",
    "plt.ylabel('loss')\n",
    "plt.show()"
   ]
  }
 ],
 "metadata": {
  "kernelspec": {
   "display_name": "Python 3.9.13 ('pytorch3d': conda)",
   "language": "python",
   "name": "python3"
  },
  "language_info": {
   "codemirror_mode": {
    "name": "ipython",
    "version": 3
   },
   "file_extension": ".py",
   "mimetype": "text/x-python",
   "name": "python",
   "nbconvert_exporter": "python",
   "pygments_lexer": "ipython3",
   "version": "3.9.13"
  },
  "vscode": {
   "interpreter": {
    "hash": "d7f2a7996328504c9da638a538617e092c5f6c113e142544f6d693b60dd4d365"
   }
  }
 },
 "nbformat": 4,
 "nbformat_minor": 4
}
