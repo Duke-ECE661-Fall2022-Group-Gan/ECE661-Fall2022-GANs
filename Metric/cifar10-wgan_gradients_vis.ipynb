{
 "cells": [
  {
   "cell_type": "markdown",
   "metadata": {
    "pycharm": {
     "name": "#%% md\n"
    }
   },
   "source": [
    "# Training Vanilla GAN on CIFAR-10"
   ]
  },
  {
   "cell_type": "code",
   "execution_count": 1,
   "metadata": {
    "pycharm": {
     "name": "#%%\n"
    }
   },
   "outputs": [
    {
     "name": "stdout",
     "output_type": "stream",
     "text": [
      "Requirement already satisfied: torch-summary in c:\\users\\warre\\anaconda3\\envs\\pytorch\\lib\\site-packages (1.4.5)\n"
     ]
    }
   ],
   "source": [
    "# import necessary dependencies\n",
    "import argparse\n",
    "import os, sys\n",
    "import time\n",
    "import datetime\n",
    "import numpy as np\n",
    "import matplotlib.pyplot as plt\n",
    "from tqdm import tqdm_notebook as tqdm\n",
    "\n",
    "import torch\n",
    "\n",
    "import torch.nn as nn\n",
    "import torch.nn.functional as F\n",
    "from torch.autograd import Variable\n",
    "!pip install torch-summary\n",
    "from torchsummary import summary\n",
    "from torchvision.utils import save_image\n",
    "\n",
    "import gitpath\n",
    "HOME_PATH = gitpath.root()\n",
    "sys.path.append(HOME_PATH)\n",
    "\n",
    "from models.WGAN import *"
   ]
  },
  {
   "cell_type": "code",
   "execution_count": 2,
   "metadata": {},
   "outputs": [],
   "source": [
    "class HyperParams:\n",
    "    def __init__(self):\n",
    "        # Constance hyperparameters. They have been tested and don't need to be tuned.\n",
    "        self.n_epochs = 50\n",
    "        self.batch_size = 64\n",
    "        self.lr = 0.0002\n",
    "        self.n_critic = 5\n",
    "        self.Lipschitz_mode = 'clipping'\n",
    "        self.n_workers = 8\n",
    "        self.latent_dim = 100\n",
    "        self.img_size = 32\n",
    "        self.channels = 3\n",
    "        self.sample_interval = 500\n",
    "        self.imgsave_path = os.path.join(HOME_PATH, 'images', 'wgan_'+self.Lipschitz_mode)\n",
    "        self.CHECKPOINT_FOLDER = os.path.join(HOME_PATH, 'saved_model', 'wgan_'+self.Lipschitz_mode)\n",
    "        \n",
    "params = HyperParams()\n",
    "os.makedirs(params.imgsave_path, exist_ok=True)\n",
    "os.makedirs(params.CHECKPOINT_FOLDER, exist_ok=True)"
   ]
  },
  {
   "cell_type": "markdown",
   "metadata": {
    "pycharm": {
     "name": "#%% md\n"
    }
   },
   "source": [
    "## Step 1: Set up preprocessing functions"
   ]
  },
  {
   "cell_type": "code",
   "execution_count": 3,
   "metadata": {
    "pycharm": {
     "name": "#%%\n"
    }
   },
   "outputs": [],
   "source": [
    "# useful libraries\n",
    "import torchvision\n",
    "import torchvision.transforms as transforms\n",
    "\n",
    "transform = transforms.Compose([\n",
    "        transforms.ToTensor(),\n",
    "        transforms.Normalize(mean=(0.4914, 0.4822, 0.4465), std=(0.2023, 0.1994, 0.2010))\n",
    "        ])"
   ]
  },
  {
   "cell_type": "code",
   "execution_count": 4,
   "metadata": {
    "pycharm": {
     "name": "#%%\n"
    }
   },
   "outputs": [
    {
     "name": "stdout",
     "output_type": "stream",
     "text": [
      "Files already downloaded and verified\n"
     ]
    }
   ],
   "source": [
    "# do NOT change these\n",
    "import torchvision.datasets as dset\n",
    "from torch.utils.data import DataLoader\n",
    "\n",
    "# a few arguments, do NOT change these\n",
    "DATA_ROOT = os.path.join(HOME_PATH, \"data\")\n",
    "\n",
    "# construct dataset\n",
    "dataset = dset.CIFAR10(\n",
    "    root=DATA_ROOT,\n",
    "    train=True,\n",
    "    download=True,\n",
    "    transform=transform \n",
    ")\n",
    "\n",
    "# construct dataloader\n",
    "dataloader = DataLoader(\n",
    "    dataset, \n",
    "    batch_size=params.batch_size,  # your code\n",
    "    shuffle=True,     # your code\n",
    "    num_workers=params.n_workers\n",
    ")"
   ]
  },
  {
   "cell_type": "markdown",
   "metadata": {
    "pycharm": {
     "name": "#%% md\n"
    }
   },
   "source": [
    "## Step 3: Instantiate your SimpleNN model and deploy it to GPU devices."
   ]
  },
  {
   "cell_type": "code",
   "execution_count": 5,
   "metadata": {
    "pycharm": {
     "name": "#%%\n"
    }
   },
   "outputs": [
    {
     "name": "stdout",
     "output_type": "stream",
     "text": [
      "Run on GPU...\n"
     ]
    }
   ],
   "source": [
    "# specify the device for computation\n",
    "\n",
    "# GPU check                \n",
    "device = 'cuda' if torch.cuda.is_available() else 'cpu'\n",
    "if device =='cuda':\n",
    "    print(\"Run on GPU...\")\n",
    "else:\n",
    "    print(\"Run on CPU...\")\n",
    "\n",
    "# Model Definition  \n",
    "generator = Generator(params.latent_dim).to(device)\n",
    "discriminator = Discriminator().to(device)\n",
    "\n",
    "# Check if on GPU\n",
    "assert(next(generator.parameters()).is_cuda)\n",
    "assert(next(discriminator.parameters()).is_cuda)"
   ]
  },
  {
   "cell_type": "markdown",
   "metadata": {
    "pycharm": {
     "name": "#%% md\n"
    }
   },
   "source": [
    "## Step 4: Set up the loss function and optimizer"
   ]
  },
  {
   "cell_type": "code",
   "execution_count": 6,
   "metadata": {
    "pycharm": {
     "name": "#%%\n"
    }
   },
   "outputs": [],
   "source": [
    "import torch.nn as nn\n",
    "import torch.optim as optim\n",
    "\n",
    "# Add optimizer\n",
    "optimizerG = optim.RMSprop(generator.parameters(), lr=params.lr)\n",
    "optimizerD = optim.RMSprop(discriminator.parameters(), lr=params.lr)"
   ]
  },
  {
   "cell_type": "markdown",
   "metadata": {
    "pycharm": {
     "name": "#%% md\n"
    }
   },
   "source": [
    "## Step 5: Start the training process.\n"
   ]
  },
  {
   "cell_type": "code",
   "execution_count": 7,
   "metadata": {
    "pycharm": {
     "name": "#%%\n"
    },
    "scrolled": true
   },
   "outputs": [
    {
     "name": "stdout",
     "output_type": "stream",
     "text": [
      "==> Training starts!\n",
      "==================================================\n",
      "Epoch 0:\n",
      "Generator loss: 0.2788, Generator grad norm: 0.1327, Discriminator loss: -0.5316, Discriminator grad norm: 11.0777\n",
      "Epoch finished in 23.30s\n",
      "\n",
      "Epoch 1:\n",
      "Generator loss: 0.3163, Generator grad norm: 0.1210, Discriminator loss: -0.6312, Discriminator grad norm: 4.7469\n",
      "Epoch finished in 19.62s\n",
      "\n",
      "Epoch 2:\n",
      "Generator loss: 0.3007, Generator grad norm: 0.3020, Discriminator loss: -0.5954, Discriminator grad norm: 4.9803\n",
      "Epoch finished in 19.50s\n",
      "\n",
      "Epoch 3:\n",
      "Generator loss: 0.2942, Generator grad norm: 0.3410, Discriminator loss: -0.5807, Discriminator grad norm: 4.1688\n",
      "Epoch finished in 19.25s\n",
      "\n",
      "Epoch 4:\n",
      "Generator loss: 0.2910, Generator grad norm: 0.5703, Discriminator loss: -0.5458, Discriminator grad norm: 7.2358\n",
      "Epoch finished in 21.24s\n",
      "\n",
      "Epoch 5:\n",
      "Generator loss: 0.2691, Generator grad norm: 1.1871, Discriminator loss: -0.5076, Discriminator grad norm: 14.6603\n",
      "Epoch finished in 21.58s\n",
      "\n",
      "Epoch 6:\n",
      "Generator loss: 0.2615, Generator grad norm: 1.8498, Discriminator loss: -0.4877, Discriminator grad norm: 10.7647\n",
      "Epoch finished in 21.75s\n",
      "\n",
      "Epoch 7:\n",
      "Generator loss: 0.2532, Generator grad norm: 2.6185, Discriminator loss: -0.4744, Discriminator grad norm: 24.8844\n",
      "Epoch finished in 21.03s\n",
      "\n",
      "Epoch 8:\n",
      "Generator loss: 0.2413, Generator grad norm: 0.7518, Discriminator loss: -0.4498, Discriminator grad norm: 7.5308\n",
      "Epoch finished in 22.20s\n",
      "\n",
      "Epoch 9:\n",
      "Generator loss: 0.2322, Generator grad norm: 3.6798, Discriminator loss: -0.4385, Discriminator grad norm: 14.0014\n",
      "Epoch finished in 21.12s\n",
      "\n",
      "Epoch 10:\n",
      "Generator loss: 0.2369, Generator grad norm: 4.1104, Discriminator loss: -0.4365, Discriminator grad norm: 23.4558\n",
      "Epoch finished in 19.83s\n",
      "\n",
      "Epoch 11:\n",
      "Generator loss: 0.2184, Generator grad norm: 3.7089, Discriminator loss: -0.3963, Discriminator grad norm: 20.2029\n",
      "Epoch finished in 20.16s\n",
      "\n",
      "Epoch 12:\n",
      "Generator loss: 0.1971, Generator grad norm: 3.6371, Discriminator loss: -0.3600, Discriminator grad norm: 21.9567\n",
      "Epoch finished in 21.15s\n",
      "\n",
      "Epoch 13:\n",
      "Generator loss: 0.1826, Generator grad norm: 0.7898, Discriminator loss: -0.3236, Discriminator grad norm: 21.9264\n",
      "Epoch finished in 20.79s\n",
      "\n",
      "Epoch 14:\n",
      "Generator loss: 0.1741, Generator grad norm: 2.2036, Discriminator loss: -0.2989, Discriminator grad norm: 28.5821\n",
      "Epoch finished in 19.92s\n",
      "\n",
      "Epoch 15:\n",
      "Generator loss: 0.1804, Generator grad norm: 1.5918, Discriminator loss: -0.3114, Discriminator grad norm: 20.5546\n",
      "Epoch finished in 19.90s\n",
      "\n",
      "Epoch 16:\n",
      "Generator loss: 0.1696, Generator grad norm: 5.6956, Discriminator loss: -0.3036, Discriminator grad norm: 15.6137\n",
      "Epoch finished in 19.70s\n",
      "\n",
      "Epoch 17:\n",
      "Generator loss: 0.1565, Generator grad norm: 1.8777, Discriminator loss: -0.2650, Discriminator grad norm: 8.3652\n",
      "Epoch finished in 20.44s\n",
      "\n",
      "Epoch 18:\n",
      "Generator loss: 0.1338, Generator grad norm: 4.5122, Discriminator loss: -0.2139, Discriminator grad norm: 10.5393\n",
      "Epoch finished in 20.30s\n",
      "\n",
      "Epoch 19:\n",
      "Generator loss: 0.1289, Generator grad norm: 0.9993, Discriminator loss: -0.1906, Discriminator grad norm: 9.1213\n",
      "Epoch finished in 22.02s\n",
      "\n",
      "Epoch 20:\n",
      "Generator loss: 0.1187, Generator grad norm: 0.6516, Discriminator loss: -0.1717, Discriminator grad norm: 11.3054\n",
      "Epoch finished in 20.70s\n",
      "\n",
      "Epoch 21:\n",
      "Generator loss: 0.1330, Generator grad norm: 0.6936, Discriminator loss: -0.1995, Discriminator grad norm: 12.9169\n",
      "Epoch finished in 21.56s\n",
      "\n",
      "Epoch 22:\n",
      "Generator loss: 0.1251, Generator grad norm: 3.6237, Discriminator loss: -0.1918, Discriminator grad norm: 17.8632\n",
      "Epoch finished in 21.72s\n",
      "\n",
      "Epoch 23:\n",
      "Generator loss: 0.1326, Generator grad norm: 4.4706, Discriminator loss: -0.1892, Discriminator grad norm: 22.6374\n",
      "Epoch finished in 19.91s\n",
      "\n",
      "Epoch 24:\n",
      "Generator loss: 0.1269, Generator grad norm: 2.0382, Discriminator loss: -0.1935, Discriminator grad norm: 16.2056\n",
      "Epoch finished in 19.84s\n",
      "\n",
      "Epoch 25:\n",
      "Generator loss: 0.1299, Generator grad norm: 1.7767, Discriminator loss: -0.1875, Discriminator grad norm: 16.5625\n",
      "Epoch finished in 19.49s\n",
      "\n",
      "Epoch 26:\n",
      "Generator loss: 0.1198, Generator grad norm: 2.0245, Discriminator loss: -0.1756, Discriminator grad norm: 21.3069\n",
      "Epoch finished in 19.56s\n",
      "\n",
      "Epoch 27:\n",
      "Generator loss: 0.1184, Generator grad norm: 0.8928, Discriminator loss: -0.1692, Discriminator grad norm: 20.3429\n",
      "Epoch finished in 19.67s\n",
      "\n",
      "Epoch 28:\n",
      "Generator loss: 0.1097, Generator grad norm: 0.6115, Discriminator loss: -0.1576, Discriminator grad norm: 17.8782\n",
      "Epoch finished in 19.65s\n",
      "\n",
      "Epoch 29:\n",
      "Generator loss: 0.1161, Generator grad norm: 0.4870, Discriminator loss: -0.1540, Discriminator grad norm: 23.3167\n",
      "Epoch finished in 20.18s\n",
      "\n",
      "Epoch 30:\n",
      "Generator loss: 0.1014, Generator grad norm: 0.1839, Discriminator loss: -0.1498, Discriminator grad norm: 23.6213\n",
      "Epoch finished in 19.60s\n",
      "\n",
      "Epoch 31:\n",
      "Generator loss: 0.1151, Generator grad norm: 0.4669, Discriminator loss: -0.1467, Discriminator grad norm: 23.0987\n",
      "Epoch finished in 20.24s\n",
      "\n",
      "Epoch 32:\n",
      "Generator loss: 0.1049, Generator grad norm: 0.3673, Discriminator loss: -0.1349, Discriminator grad norm: 21.9603\n",
      "Epoch finished in 19.41s\n",
      "\n",
      "Epoch 33:\n",
      "Generator loss: 0.0964, Generator grad norm: 0.3608, Discriminator loss: -0.1297, Discriminator grad norm: 17.3689\n",
      "Epoch finished in 19.47s\n",
      "\n",
      "Epoch 34:\n",
      "Generator loss: 0.1065, Generator grad norm: 0.4842, Discriminator loss: -0.1313, Discriminator grad norm: 55.9953\n",
      "Epoch finished in 20.31s\n",
      "\n",
      "Epoch 35:\n",
      "Generator loss: 0.0839, Generator grad norm: 0.4124, Discriminator loss: -0.1303, Discriminator grad norm: 19.1959\n",
      "Epoch finished in 19.94s\n",
      "\n",
      "Epoch 36:\n",
      "Generator loss: 0.0987, Generator grad norm: 0.6206, Discriminator loss: -0.1338, Discriminator grad norm: 26.4903\n",
      "Epoch finished in 19.79s\n",
      "\n",
      "Epoch 37:\n",
      "Generator loss: 0.0963, Generator grad norm: 0.4795, Discriminator loss: -0.1312, Discriminator grad norm: 19.0741\n",
      "Epoch finished in 20.30s\n",
      "\n",
      "Epoch 38:\n",
      "Generator loss: 0.1128, Generator grad norm: 0.2281, Discriminator loss: -0.1314, Discriminator grad norm: 55.3055\n",
      "Epoch finished in 19.76s\n",
      "\n",
      "Epoch 39:\n",
      "Generator loss: 0.0911, Generator grad norm: 0.3579, Discriminator loss: -0.1289, Discriminator grad norm: 33.3977\n",
      "Epoch finished in 21.30s\n",
      "\n",
      "Epoch 40:\n",
      "Generator loss: 0.0981, Generator grad norm: 0.4177, Discriminator loss: -0.1265, Discriminator grad norm: 22.6100\n",
      "Epoch finished in 19.83s\n",
      "\n",
      "Epoch 41:\n",
      "Generator loss: 0.0993, Generator grad norm: 0.5272, Discriminator loss: -0.1246, Discriminator grad norm: 30.9847\n",
      "Epoch finished in 19.72s\n",
      "\n",
      "Epoch 42:\n",
      "Generator loss: 0.0874, Generator grad norm: 0.5619, Discriminator loss: -0.1216, Discriminator grad norm: 44.2960\n",
      "Epoch finished in 20.83s\n",
      "\n",
      "Epoch 43:\n",
      "Generator loss: 0.1035, Generator grad norm: 0.2992, Discriminator loss: -0.1259, Discriminator grad norm: 29.1884\n",
      "Epoch finished in 20.82s\n",
      "\n",
      "Epoch 44:\n",
      "Generator loss: 0.1026, Generator grad norm: 0.5396, Discriminator loss: -0.1260, Discriminator grad norm: 28.8104\n",
      "Epoch finished in 20.29s\n",
      "\n",
      "Epoch 45:\n",
      "Generator loss: 0.0999, Generator grad norm: 0.3747, Discriminator loss: -0.1274, Discriminator grad norm: 14.7262\n",
      "Epoch finished in 19.68s\n",
      "\n",
      "Epoch 46:\n",
      "Generator loss: 0.0946, Generator grad norm: 0.3994, Discriminator loss: -0.1210, Discriminator grad norm: 25.8737\n",
      "Epoch finished in 20.94s\n",
      "\n",
      "Epoch 47:\n",
      "Generator loss: 0.1068, Generator grad norm: 0.5204, Discriminator loss: -0.1280, Discriminator grad norm: 18.5232\n",
      "Epoch finished in 20.50s\n",
      "\n",
      "Epoch 48:\n",
      "Generator loss: 0.1026, Generator grad norm: 0.4374, Discriminator loss: -0.1201, Discriminator grad norm: 19.4639\n",
      "Epoch finished in 19.95s\n",
      "\n",
      "Epoch 49:\n",
      "Generator loss: 0.0906, Generator grad norm: 0.2111, Discriminator loss: -0.1195, Discriminator grad norm: 22.7826\n",
      "Epoch finished in 19.63s\n",
      "\n",
      "==================================================\n",
      "==> Optimization finished in 1019.41s!\n"
     ]
    }
   ],
   "source": [
    "# some hyperparameters\n",
    "# total number of training epochs\n",
    "start_epoch = 0\n",
    "\n",
    "# start the training/validation process\n",
    "best_loss_g = 1e20\n",
    "best_loss_d = 1e20\n",
    "\n",
    "start = time.time()\n",
    "print(\"==> Training starts!\")\n",
    "print(\"=\"*50)\n",
    "\n",
    "# store loss learning curve\n",
    "g_loss_lst = []\n",
    "d_loss_lst = []\n",
    "g_grad_lst = []\n",
    "d_grad_lst = []\n",
    "\n",
    "fixed_random_z = torch.randn(params.batch_size, params.latent_dim).to(device)\n",
    "\n",
    "for i in range(start_epoch, params.n_epochs):\n",
    "    epoch_start = time.time()\n",
    "    print(\"Epoch %d:\" %i)\n",
    "    # this help you compute the training accuracy\n",
    "    total_examples = 0\n",
    "    correct_examples = 0\n",
    "\n",
    "    g_loss = []\n",
    "    d_loss = []\n",
    "    g_grad = []\n",
    "    d_grad = []\n",
    "    \n",
    "    # Train the model for 1 epoch.\n",
    "    for batch_idx, (inputs, targets) in enumerate(dataloader):\n",
    "        \n",
    "        inputs = inputs.float().to(device)\n",
    "        batch_size = inputs.size(0)\n",
    "        \n",
    "        # generate fake images\n",
    "        z = torch.randn(batch_size, params.latent_dim).to(device)\n",
    "        gen_imgs = generator(z)\n",
    "        \n",
    "        ####################################\n",
    "        # Train Discriminator\n",
    "        ###################################\n",
    "        # Ref: WGAN paper page 8 Algo 1\n",
    "\n",
    "        loss_real = torch.mean(discriminator(inputs))\n",
    "        loss_fake = -torch.mean(discriminator(gen_imgs.detach()))\n",
    "        loss_D = loss_fake + loss_real\n",
    "        \n",
    "        # satisfy Lipschitz constraint\n",
    "        if params.Lipschitz_mode == 'clipping':\n",
    "            CLIP_VALUE = 0.01\n",
    "            for p in discriminator.parameters():\n",
    "                p.data.clamp_(-CLIP_VALUE, CLIP_VALUE)\n",
    "        if params.Lipschitz_mode == 'gp':\n",
    "            from torch import autograd\n",
    "            # Ref: WGAN-GP paper Algo 1\n",
    "            # Ref: https://github.com/caogang/wgan-gp.git\n",
    "            GP_LAMBDA = 10\n",
    "\n",
    "            alpha = torch.rand(batch_size, 1, 1, 1)\n",
    "            alpha = alpha.expand_as(inputs)\n",
    "            alpha = alpha.type_as(inputs)\n",
    "\n",
    "            interp_data = alpha * inputs + ((1 - alpha) * gen_imgs)\n",
    "            interp_data = autograd.Variable(interp_data, requires_grad=True)\n",
    "\n",
    "            disc_out = discriminator(interp_data)\n",
    "            grad_outputs = torch.ones(disc_out.size()).type_as(disc_out.data)\n",
    "\n",
    "            gradients = autograd.grad(\n",
    "                outputs=disc_out,\n",
    "                inputs=interp_data,\n",
    "                grad_outputs=grad_outputs,\n",
    "                create_graph=True,\n",
    "                only_inputs=True)[0]\n",
    "\n",
    "            gradients = gradients.view(batch_size, -1)\n",
    "\n",
    "            gradient_penalty = GP_LAMBDA * ((gradients.norm(2, dim=1) - 1) ** 2).mean()\n",
    "            if (batch_idx % params.sample_interval == 0): \n",
    "                print((gradients.norm(2, dim=1)))\n",
    "                print(((gradients.norm(2, dim=1) - 1) ** 2).mean())\n",
    "        \n",
    "        # backpropagation\n",
    "        \n",
    "        optimizerD.zero_grad()\n",
    "        loss_D.backward()\n",
    "\n",
    "        # record gradients\n",
    "        if (batch_idx % 1000 == 0):\n",
    "            gradients_D = []\n",
    "            for p in discriminator.parameters():\n",
    "                gradients_D.extend(p.grad.flatten().cpu().detach().numpy())\n",
    "            gradients_D = np.linalg.norm(np.asarray(gradients_D).flatten())\n",
    "            d_grad.append(gradients_D)\n",
    "\n",
    "        optimizerD.step()\n",
    "\n",
    "        # calculate percentage of confidence\n",
    "        d_loss.append(loss_D.cpu().detach().numpy())\n",
    "\n",
    "        ####################################\n",
    "        \n",
    "        if batch_idx % params.n_critic == 0:\n",
    "            ####################################\n",
    "            # Train Generator\n",
    "            ###################################\n",
    "            # maximize generator's ability to fool discriminator\n",
    "\n",
    "            # compute loss\n",
    "            loss_G = torch.mean(discriminator(gen_imgs))\n",
    "            \n",
    "            # backpropagation\n",
    "            optimizerG.zero_grad()\n",
    "            loss_G.backward()\n",
    "\n",
    "            # record gradients\n",
    "            if (batch_idx % 1000 == 0):\n",
    "                gradients_G = []\n",
    "                for p in generator.parameters():\n",
    "                    gradients_G.extend(p.grad.flatten().cpu().detach().numpy())\n",
    "                gradients_G = np.linalg.norm(np.asarray(gradients_G).flatten())\n",
    "                g_grad.append(gradients_G)\n",
    "\n",
    "            optimizerG.step()\n",
    "\n",
    "            # calculate percentage of confidence\n",
    "            g_loss.append(loss_G.cpu().detach().numpy())\n",
    "            ####################################\n",
    "        \n",
    "        if (batch_idx % params.sample_interval == 0): \n",
    "            batches_done = i * len(dataloader) + batch_idx\n",
    "            save_image(generator(fixed_random_z).data[:40], os.path.join(params.imgsave_path, \"%d.png\" % batches_done), nrow=5, normalize=True)\n",
    "        \n",
    "    avg_loss_g = np.sum(np.asarray(g_loss)) / len(g_loss)\n",
    "    avg_loss_d = np.sum(np.asarray(d_loss)) / len(d_loss)\n",
    "    avg_grad_g = np.sum(np.asarray(g_grad)) / len(g_grad)\n",
    "    avg_grad_d = np.sum(np.asarray(d_grad)) / len(d_grad)\n",
    "    print(\"Generator loss: %.4f, Generator grad norm: %.4f, Discriminator loss: %.4f, Discriminator grad norm: %.4f\"%(avg_loss_g, avg_grad_g, avg_loss_d, avg_grad_d))\n",
    "    \n",
    "    g_loss_lst.append(avg_loss_g)\n",
    "    d_loss_lst.append(avg_loss_d)\n",
    "    g_grad_lst.append(avg_grad_g)\n",
    "    d_grad_lst.append(avg_grad_d)\n",
    "    \n",
    "    # save the model checkpoint\n",
    "    state_G = generator.state_dict()\n",
    "    torch.save(state_G, os.path.join(params.CHECKPOINT_FOLDER, 'generator.pth'))\n",
    "    state_D = discriminator.state_dict()\n",
    "    torch.save(state_D, os.path.join(params.CHECKPOINT_FOLDER, 'discriminator.pth'))\n",
    "    print(f\"Epoch finished in {time.time() - epoch_start:.2f}s\")\n",
    "    print(\"\")\n",
    "\n",
    "print(\"=\"*50)\n",
    "print(f\"==> Optimization finished in {time.time() - start:.2f}s!\")"
   ]
  },
  {
   "cell_type": "code",
   "execution_count": 20,
   "metadata": {},
   "outputs": [
    {
     "data": {
      "image/png": "[encoded data removed]",
      "text/plain": [
       "<Figure size 432x288 with 1 Axes>"
      ]
     },
     "metadata": {
      "needs_background": "light"
     },
     "output_type": "display_data"
    }
   ],
   "source": [
    "plt.plot(g_loss_lst, label='Generator Error')\n",
    "plt.plot(d_loss_lst, label='Discriminator Error')\n",
    "plt.title(\"WGAN Learning Curve\")\n",
    "plt.legend()\n",
    "plt.xlabel('epoch')\n",
    "plt.ylabel('loss')\n",
    "plt.savefig(os.path.join(HOME_PATH, \"images\",\"wgan_lr.png\"))"
   ]
  },
  {
   "cell_type": "code",
   "execution_count": 22,
   "metadata": {
    "pycharm": {
     "name": "#%%\n"
    },
    "scrolled": true
   },
   "outputs": [
    {
     "data": {
      "image/png": "[encoded data removed]",
      "text/plain": [
       "<Figure size 432x288 with 1 Axes>"
      ]
     },
     "metadata": {
      "needs_background": "light"
     },
     "output_type": "display_data"
    }
   ],
   "source": [
    "plt.plot(g_grad_lst, label='Generator gradient norm')\n",
    "plt.plot(d_grad_lst, label='Discriminator gradient norm')\n",
    "plt.title(\"WGAN gradient varying\")\n",
    "plt.legend()\n",
    "plt.xlabel('epoch')\n",
    "plt.ylabel('gradient norm')\n",
    "# plt.yscale('log')\n",
    "plt.savefig(os.path.join(HOME_PATH, \"images\",\"wgan_grad.png\"))"
   ]
  },
  {
   "cell_type": "code",
   "execution_count": 23,
   "metadata": {},
   "outputs": [
    {
     "data": {
      "text/plain": [
       "782"
      ]
     },
     "execution_count": 23,
     "metadata": {},
     "output_type": "execute_result"
    }
   ],
   "source": [
    "len(dataloader)"
   ]
  },
  {
   "cell_type": "code",
   "execution_count": null,
   "metadata": {},
   "outputs": [],
   "source": []
  }
 ],
 "metadata": {
  "kernelspec": {
   "display_name": "pytorch",
   "language": "python",
   "name": "python3"
  },
  "language_info": {
   "codemirror_mode": {
    "name": "ipython",
    "version": 3
   },
   "file_extension": ".py",
   "mimetype": "text/x-python",
   "name": "python",
   "nbconvert_exporter": "python",
   "pygments_lexer": "ipython3",
   "version": "3.9.12"
  },
  "vscode": {
   "interpreter": {
    "hash": "f31c482ab17bade3ad7dd22987cd1455bbf7ad8d1d61cc36c352d0bbb68b2b79"
   }
  }
 },
 "nbformat": 4,
 "nbformat_minor": 4
}
