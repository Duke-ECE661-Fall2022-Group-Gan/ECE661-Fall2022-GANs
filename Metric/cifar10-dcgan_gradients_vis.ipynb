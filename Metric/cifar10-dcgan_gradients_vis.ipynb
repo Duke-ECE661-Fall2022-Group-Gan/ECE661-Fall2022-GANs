{
 "cells": [
  {
   "cell_type": "markdown",
   "metadata": {
    "pycharm": {
     "name": "#%% md\n"
    }
   },
   "source": [
    "# Training Vanilla GAN on CIFAR-10"
   ]
  },
  {
   "cell_type": "code",
   "execution_count": 1,
   "metadata": {
    "pycharm": {
     "name": "#%%\n"
    }
   },
   "outputs": [
    {
     "name": "stdout",
     "output_type": "stream",
     "text": [
      "Requirement already satisfied: torch-summary in c:\\users\\warre\\anaconda3\\envs\\pytorch\\lib\\site-packages (1.4.5)\n"
     ]
    }
   ],
   "source": [
    "# import necessary dependencies\n",
    "import argparse\n",
    "import os, sys\n",
    "import time\n",
    "import datetime\n",
    "import numpy as np\n",
    "import matplotlib.pyplot as plt\n",
    "from tqdm import tqdm_notebook as tqdm\n",
    "\n",
    "import torch\n",
    "\n",
    "import torch.nn as nn\n",
    "import torch.nn.functional as F\n",
    "from torch.autograd import Variable\n",
    "!pip install torch-summary\n",
    "from torchsummary import summary\n",
    "from torchvision.utils import save_image\n",
    "\n",
    "import gitpath\n",
    "HOME_PATH = gitpath.root()\n",
    "sys.path.append(HOME_PATH)\n",
    "\n",
    "from models.DCGAN import *"
   ]
  },
  {
   "cell_type": "code",
   "execution_count": 2,
   "metadata": {},
   "outputs": [],
   "source": [
    "class HyperParams:\n",
    "    def __init__(self):\n",
    "        # Constance hyperparameters. They have been tested and don't need to be tuned.\n",
    "        self.n_epochs = 50\n",
    "        self.batch_size = 64\n",
    "        self.lr = 0.0002\n",
    "        self.b1 = 0.5\n",
    "        self.b2 = 0.999\n",
    "        self.n_workers = 8\n",
    "        self.latent_dim = 100\n",
    "        self.img_size = 32\n",
    "        self.channels = 3\n",
    "        self.sample_interval = 500\n",
    "        self.imgsave_path = os.path.join(HOME_PATH, 'images', 'dcgan')\n",
    "        self.CHECKPOINT_FOLDER = os.path.join(HOME_PATH, 'saved_model', 'dcgan')\n",
    "        \n",
    "params = HyperParams()\n",
    "os.makedirs(params.imgsave_path, exist_ok=True)\n",
    "os.makedirs(params.CHECKPOINT_FOLDER, exist_ok=True)"
   ]
  },
  {
   "cell_type": "markdown",
   "metadata": {
    "pycharm": {
     "name": "#%% md\n"
    }
   },
   "source": [
    "## Step 1: Set up preprocessing functions"
   ]
  },
  {
   "cell_type": "code",
   "execution_count": 3,
   "metadata": {
    "pycharm": {
     "name": "#%%\n"
    }
   },
   "outputs": [],
   "source": [
    "# useful libraries\n",
    "import torchvision\n",
    "import torchvision.transforms as transforms\n",
    "\n",
    "transform = transforms.Compose([\n",
    "        transforms.ToTensor(),\n",
    "        transforms.Normalize(mean=(0.4914, 0.4822, 0.4465), std=(0.2023, 0.1994, 0.2010))\n",
    "        ])"
   ]
  },
  {
   "cell_type": "code",
   "execution_count": 4,
   "metadata": {
    "pycharm": {
     "name": "#%%\n"
    }
   },
   "outputs": [
    {
     "name": "stdout",
     "output_type": "stream",
     "text": [
      "Files already downloaded and verified\n"
     ]
    }
   ],
   "source": [
    "# do NOT change these\n",
    "import torchvision.datasets as dset\n",
    "from torch.utils.data import DataLoader\n",
    "\n",
    "# a few arguments, do NOT change these\n",
    "DATA_ROOT = os.path.join(HOME_PATH, \"data\")\n",
    "\n",
    "# construct dataset\n",
    "dataset = dset.CIFAR10(\n",
    "    root=DATA_ROOT,\n",
    "    train=True,\n",
    "    download=True,\n",
    "    transform=transform \n",
    ")\n",
    "\n",
    "# construct dataloader\n",
    "dataloader = DataLoader(\n",
    "    dataset, \n",
    "    batch_size=params.batch_size,  # your code\n",
    "    shuffle=True,     # your code\n",
    "    num_workers=params.n_workers\n",
    ")"
   ]
  },
  {
   "cell_type": "markdown",
   "metadata": {
    "pycharm": {
     "name": "#%% md\n"
    }
   },
   "source": [
    "## Step 3: Instantiate your SimpleNN model and deploy it to GPU devices."
   ]
  },
  {
   "cell_type": "code",
   "execution_count": 5,
   "metadata": {
    "pycharm": {
     "name": "#%%\n"
    }
   },
   "outputs": [
    {
     "name": "stdout",
     "output_type": "stream",
     "text": [
      "Run on GPU...\n"
     ]
    }
   ],
   "source": [
    "# specify the device for computation\n",
    "\n",
    "# GPU check                \n",
    "device = 'cuda' if torch.cuda.is_available() else 'cpu'\n",
    "if device =='cuda':\n",
    "    print(\"Run on GPU...\")\n",
    "else:\n",
    "    print(\"Run on CPU...\")\n",
    "\n",
    "# Model Definition  \n",
    "generator = Generator(params.latent_dim).to(device)\n",
    "discriminator = Discriminator().to(device)\n",
    "\n",
    "# Check if on GPU\n",
    "assert(next(generator.parameters()).is_cuda)\n",
    "assert(next(discriminator.parameters()).is_cuda)"
   ]
  },
  {
   "cell_type": "markdown",
   "metadata": {
    "pycharm": {
     "name": "#%% md\n"
    }
   },
   "source": [
    "## Step 4: Set up the loss function and optimizer"
   ]
  },
  {
   "cell_type": "code",
   "execution_count": 6,
   "metadata": {
    "pycharm": {
     "name": "#%%\n"
    }
   },
   "outputs": [],
   "source": [
    "import torch.nn as nn\n",
    "import torch.optim as optim\n",
    "\n",
    "# hyperparameters according to ResNet paper section 4.2\n",
    "\n",
    "# create loss function\n",
    "criterion = nn.BCELoss().to(device)\n",
    "\n",
    "# Add optimizer\n",
    "optimizerG = optim.Adam(generator.parameters(), lr=params.lr, betas=(params.b1, params.b2))\n",
    "optimizerD = optim.Adam(discriminator.parameters(), lr=params.lr, betas=(params.b1, params.b2))"
   ]
  },
  {
   "cell_type": "markdown",
   "metadata": {
    "pycharm": {
     "name": "#%% md\n"
    }
   },
   "source": [
    "## Step 5: Start the training process.\n"
   ]
  },
  {
   "cell_type": "code",
   "execution_count": 7,
   "metadata": {
    "pycharm": {
     "name": "#%%\n"
    },
    "scrolled": true
   },
   "outputs": [
    {
     "name": "stdout",
     "output_type": "stream",
     "text": [
      "==> Training starts!\n",
      "==================================================\n",
      "Epoch 0:\n",
      "D(x): 0.5829 D(G(z)): 0.5662 / 0.5662\n",
      "D(x): 0.8943 D(G(z)): 0.0656 / 0.0656\n",
      "Generator loss: 2.8794, Generator grad norm: 6.0939, Discriminator loss: 0.1700, Discriminator grad norm: 4.6934\n",
      "Epoch finished in 33.22s\n",
      "\n",
      "Epoch 1:\n",
      "D(x): 0.8266 D(G(z)): 0.0932 / 0.0932\n",
      "D(x): 0.9557 D(G(z)): 0.1810 / 0.1810\n",
      "Generator loss: 2.6597, Generator grad norm: 35.7332, Discriminator loss: 0.2080, Discriminator grad norm: 3.9901\n",
      "Epoch finished in 26.35s\n",
      "\n",
      "Epoch 2:\n",
      "D(x): 0.9505 D(G(z)): 0.2471 / 0.2471\n",
      "D(x): 0.9497 D(G(z)): 0.1972 / 0.1972\n",
      "Generator loss: 3.1100, Generator grad norm: 102.4097, Discriminator loss: 0.1507, Discriminator grad norm: 12.0489\n",
      "Epoch finished in 25.62s\n",
      "\n",
      "Epoch 3:\n",
      "D(x): 0.9706 D(G(z)): 0.2109 / 0.2109\n",
      "D(x): 0.9272 D(G(z)): 0.0902 / 0.0902\n",
      "Generator loss: 3.2953, Generator grad norm: 35.1107, Discriminator loss: 0.1396, Discriminator grad norm: 12.8182\n",
      "Epoch finished in 25.43s\n",
      "\n",
      "Epoch 4:\n",
      "D(x): 0.9950 D(G(z)): 0.5871 / 0.5871\n",
      "D(x): 0.9588 D(G(z)): 0.2180 / 0.2180\n",
      "Generator loss: 3.2141, Generator grad norm: 40.5283, Discriminator loss: 0.1523, Discriminator grad norm: 48.8832\n",
      "Epoch finished in 25.05s\n",
      "\n",
      "Epoch 5:\n",
      "D(x): 0.9139 D(G(z)): 0.0400 / 0.0400\n",
      "D(x): 0.8892 D(G(z)): 0.0836 / 0.0836\n",
      "Generator loss: 3.2452, Generator grad norm: 228.3494, Discriminator loss: 0.1601, Discriminator grad norm: 4.1136\n",
      "Epoch finished in 24.87s\n",
      "\n",
      "Epoch 6:\n",
      "D(x): 0.7330 D(G(z)): 0.0091 / 0.0091\n",
      "D(x): 0.8199 D(G(z)): 0.0138 / 0.0138\n",
      "Generator loss: 3.2447, Generator grad norm: 187.0086, Discriminator loss: 0.1467, Discriminator grad norm: 19.8656\n",
      "Epoch finished in 25.21s\n",
      "\n",
      "Epoch 7:\n",
      "D(x): 0.9998 D(G(z)): 0.9183 / 0.9183\n",
      "D(x): 0.9332 D(G(z)): 0.0607 / 0.0607\n",
      "Generator loss: 3.2725, Generator grad norm: 15.3266, Discriminator loss: 0.1630, Discriminator grad norm: 156.1859\n",
      "Epoch finished in 24.89s\n",
      "\n",
      "Epoch 8:\n",
      "D(x): 0.9832 D(G(z)): 0.1207 / 0.1207\n",
      "D(x): 0.9693 D(G(z)): 0.0430 / 0.0430\n",
      "Generator loss: 3.4949, Generator grad norm: 208.5319, Discriminator loss: 0.1272, Discriminator grad norm: 9.2531\n",
      "Epoch finished in 23.93s\n",
      "\n",
      "Epoch 9:\n",
      "D(x): 0.8756 D(G(z)): 0.0254 / 0.0254\n",
      "D(x): 0.9264 D(G(z)): 0.0718 / 0.0718\n",
      "Generator loss: 3.5363, Generator grad norm: 316.0970, Discriminator loss: 0.1336, Discriminator grad norm: 7.9803\n",
      "Epoch finished in 24.04s\n",
      "\n",
      "Epoch 10:\n",
      "D(x): 0.7110 D(G(z)): 0.0313 / 0.0313\n",
      "D(x): 0.9679 D(G(z)): 0.0277 / 0.0277\n",
      "Generator loss: 3.6632, Generator grad norm: 212.9888, Discriminator loss: 0.1309, Discriminator grad norm: 26.2118\n",
      "Epoch finished in 25.59s\n",
      "\n",
      "Epoch 11:\n",
      "D(x): 0.8044 D(G(z)): 0.0070 / 0.0070\n",
      "D(x): 0.9770 D(G(z)): 0.0216 / 0.0216\n",
      "Generator loss: 3.8203, Generator grad norm: 374.7958, Discriminator loss: 0.1026, Discriminator grad norm: 21.6000\n",
      "Epoch finished in 24.60s\n",
      "\n",
      "Epoch 12:\n",
      "D(x): 0.9982 D(G(z)): 0.4796 / 0.4796\n",
      "D(x): 0.9317 D(G(z)): 0.0107 / 0.0107\n",
      "Generator loss: 3.6652, Generator grad norm: 182.2701, Discriminator loss: 0.1650, Discriminator grad norm: 51.8364\n",
      "Epoch finished in 24.97s\n",
      "\n",
      "Epoch 13:\n",
      "D(x): 0.9176 D(G(z)): 0.0692 / 0.0692\n",
      "D(x): 0.2747 D(G(z)): 0.0010 / 0.0010\n",
      "Generator loss: 3.8225, Generator grad norm: 71.8898, Discriminator loss: 0.0935, Discriminator grad norm: 4.0383\n",
      "Epoch finished in 25.25s\n",
      "\n",
      "Epoch 14:\n",
      "D(x): 0.9299 D(G(z)): 0.0597 / 0.0597\n",
      "D(x): 0.7679 D(G(z)): 0.0275 / 0.0275\n",
      "Generator loss: 3.8472, Generator grad norm: 219.1300, Discriminator loss: 0.1461, Discriminator grad norm: 3.6091\n",
      "Epoch finished in 27.45s\n",
      "\n",
      "Epoch 15:\n",
      "D(x): 0.9892 D(G(z)): 0.0626 / 0.0626\n",
      "D(x): 0.9805 D(G(z)): 0.0749 / 0.0749\n",
      "Generator loss: 4.0229, Generator grad norm: 193.5227, Discriminator loss: 0.1034, Discriminator grad norm: 3.9109\n",
      "Epoch finished in 25.03s\n",
      "\n",
      "Epoch 16:\n",
      "D(x): 0.9505 D(G(z)): 0.3366 / 0.3366\n",
      "D(x): 0.8982 D(G(z)): 0.0424 / 0.0424\n",
      "Generator loss: 4.0437, Generator grad norm: 51.5057, Discriminator loss: 0.0874, Discriminator grad norm: 26.5497\n",
      "Epoch finished in 24.29s\n",
      "\n",
      "Epoch 17:\n",
      "D(x): 0.9841 D(G(z)): 0.0391 / 0.0391\n",
      "D(x): 0.9673 D(G(z)): 0.0318 / 0.0318\n",
      "Generator loss: 4.1389, Generator grad norm: 97.8184, Discriminator loss: 0.1150, Discriminator grad norm: 3.6806\n",
      "Epoch finished in 23.16s\n",
      "\n",
      "Epoch 18:\n",
      "D(x): 0.9945 D(G(z)): 0.1552 / 0.1552\n",
      "D(x): 0.9888 D(G(z)): 0.0542 / 0.0542\n",
      "Generator loss: 4.1854, Generator grad norm: 149.0910, Discriminator loss: 0.1001, Discriminator grad norm: 16.1929\n",
      "Epoch finished in 23.65s\n",
      "\n",
      "Epoch 19:\n",
      "D(x): 0.9466 D(G(z)): 0.2332 / 0.2332\n",
      "D(x): 0.9606 D(G(z)): 0.0245 / 0.0245\n",
      "Generator loss: 4.1956, Generator grad norm: 40.1830, Discriminator loss: 0.1060, Discriminator grad norm: 15.4014\n",
      "Epoch finished in 23.74s\n",
      "\n",
      "Epoch 20:\n",
      "D(x): 0.9999 D(G(z)): 0.9856 / 0.9856\n",
      "D(x): 0.9722 D(G(z)): 0.0209 / 0.0209\n",
      "Generator loss: 4.0964, Generator grad norm: 2.2650, Discriminator loss: 0.1053, Discriminator grad norm: 107.1546\n",
      "Epoch finished in 23.00s\n",
      "\n",
      "Epoch 21:\n",
      "D(x): 0.9999 D(G(z)): 0.9539 / 0.9539\n",
      "D(x): 0.9325 D(G(z)): 0.0155 / 0.0155\n",
      "Generator loss: 4.1319, Generator grad norm: 15.5964, Discriminator loss: 0.1137, Discriminator grad norm: 133.2377\n",
      "Epoch finished in 22.98s\n",
      "\n",
      "Epoch 22:\n",
      "D(x): 0.9204 D(G(z)): 0.0544 / 0.0544\n",
      "D(x): 0.9357 D(G(z)): 0.0544 / 0.0544\n",
      "Generator loss: 4.1787, Generator grad norm: 89.4351, Discriminator loss: 0.0923, Discriminator grad norm: 4.4789\n",
      "Epoch finished in 22.53s\n",
      "\n",
      "Epoch 23:\n",
      "D(x): 0.9629 D(G(z)): 0.0064 / 0.0064\n",
      "D(x): 0.9785 D(G(z)): 0.0333 / 0.0333\n",
      "Generator loss: 3.9926, Generator grad norm: 379.9253, Discriminator loss: 0.1242, Discriminator grad norm: 2.4461\n",
      "Epoch finished in 22.72s\n",
      "\n",
      "Epoch 24:\n",
      "D(x): 0.9476 D(G(z)): 0.0089 / 0.0089\n",
      "D(x): 0.9142 D(G(z)): 0.0517 / 0.0517\n",
      "Generator loss: 4.1966, Generator grad norm: 406.3191, Discriminator loss: 0.1108, Discriminator grad norm: 5.0274\n",
      "Epoch finished in 22.72s\n",
      "\n",
      "Epoch 25:\n",
      "D(x): 0.9924 D(G(z)): 0.0217 / 0.0217\n",
      "D(x): 0.9700 D(G(z)): 0.0633 / 0.0633\n",
      "Generator loss: 4.3123, Generator grad norm: 345.1646, Discriminator loss: 0.0964, Discriminator grad norm: 2.3961\n",
      "Epoch finished in 22.86s\n",
      "\n",
      "Epoch 26:\n",
      "D(x): 0.9999 D(G(z)): 0.9459 / 0.9459\n",
      "D(x): 0.8000 D(G(z)): 0.0503 / 0.0503\n",
      "Generator loss: 4.1590, Generator grad norm: 17.3540, Discriminator loss: 0.1036, Discriminator grad norm: 86.0564\n",
      "Epoch finished in 23.48s\n",
      "\n",
      "Epoch 27:\n",
      "D(x): 0.9840 D(G(z)): 0.0136 / 0.0136\n",
      "D(x): 0.8024 D(G(z)): 0.0465 / 0.0465\n",
      "Generator loss: 4.1159, Generator grad norm: 147.6027, Discriminator loss: 0.1153, Discriminator grad norm: 0.9695\n",
      "Epoch finished in 22.78s\n",
      "\n",
      "Epoch 28:\n",
      "D(x): 0.9665 D(G(z)): 0.1026 / 0.1026\n",
      "D(x): 0.9776 D(G(z)): 0.1320 / 0.1320\n",
      "Generator loss: 4.2364, Generator grad norm: 184.8553, Discriminator loss: 0.1015, Discriminator grad norm: 14.2503\n",
      "Epoch finished in 23.18s\n",
      "\n",
      "Epoch 29:\n",
      "D(x): 0.9953 D(G(z)): 0.2682 / 0.2682\n",
      "D(x): 0.9622 D(G(z)): 0.0279 / 0.0279\n",
      "Generator loss: 4.2681, Generator grad norm: 147.7377, Discriminator loss: 0.0913, Discriminator grad norm: 19.3322\n",
      "Epoch finished in 23.98s\n",
      "\n",
      "Epoch 30:\n",
      "D(x): 0.9190 D(G(z)): 0.0530 / 0.0530\n",
      "D(x): 0.8933 D(G(z)): 0.0717 / 0.0717\n",
      "Generator loss: 4.2786, Generator grad norm: 246.6399, Discriminator loss: 0.1051, Discriminator grad norm: 6.2054\n",
      "Epoch finished in 23.05s\n",
      "\n",
      "Epoch 31:\n",
      "D(x): 0.9966 D(G(z)): 0.4088 / 0.4088\n",
      "D(x): 0.9241 D(G(z)): 0.0446 / 0.0446\n",
      "Generator loss: 4.2634, Generator grad norm: 210.6087, Discriminator loss: 0.1010, Discriminator grad norm: 46.9658\n",
      "Epoch finished in 23.75s\n",
      "\n",
      "Epoch 32:\n",
      "D(x): 0.9929 D(G(z)): 0.0505 / 0.0505\n",
      "D(x): 0.9654 D(G(z)): 0.0276 / 0.0276\n",
      "Generator loss: 4.4177, Generator grad norm: 126.7643, Discriminator loss: 0.0946, Discriminator grad norm: 3.7928\n",
      "Epoch finished in 22.91s\n",
      "\n",
      "Epoch 33:\n",
      "D(x): 0.9999 D(G(z)): 0.9738 / 0.9738\n",
      "D(x): 0.9281 D(G(z)): 0.0142 / 0.0142\n",
      "Generator loss: 4.1967, Generator grad norm: 13.8482, Discriminator loss: 0.1202, Discriminator grad norm: 147.7052\n",
      "Epoch finished in 23.12s\n",
      "\n",
      "Epoch 34:\n",
      "D(x): 0.9620 D(G(z)): 0.1112 / 0.1112\n",
      "D(x): 0.9340 D(G(z)): 0.0087 / 0.0087\n",
      "Generator loss: 4.2983, Generator grad norm: 299.6021, Discriminator loss: 0.0914, Discriminator grad norm: 8.8449\n",
      "Epoch finished in 22.68s\n",
      "\n",
      "Epoch 35:\n",
      "D(x): 0.9970 D(G(z)): 0.1576 / 0.1576\n",
      "D(x): 0.9771 D(G(z)): 0.0947 / 0.0947\n",
      "Generator loss: 4.3343, Generator grad norm: 347.2146, Discriminator loss: 0.0995, Discriminator grad norm: 18.0799\n",
      "Epoch finished in 22.39s\n",
      "\n",
      "Epoch 36:\n",
      "D(x): 0.9952 D(G(z)): 0.4136 / 0.4136\n",
      "D(x): 0.9145 D(G(z)): 0.0080 / 0.0080\n",
      "Generator loss: 4.3543, Generator grad norm: 75.2149, Discriminator loss: 0.0995, Discriminator grad norm: 48.2655\n",
      "Epoch finished in 22.67s\n",
      "\n",
      "Epoch 37:\n",
      "D(x): 0.9750 D(G(z)): 0.0318 / 0.0318\n",
      "D(x): 0.9815 D(G(z)): 0.0409 / 0.0409\n",
      "Generator loss: 4.4173, Generator grad norm: 193.0404, Discriminator loss: 0.0957, Discriminator grad norm: 2.2161\n",
      "Epoch finished in 22.74s\n",
      "\n",
      "Epoch 38:\n",
      "D(x): 0.9970 D(G(z)): 0.0249 / 0.0249\n",
      "D(x): 0.9761 D(G(z)): 0.0915 / 0.0915\n",
      "Generator loss: 4.4291, Generator grad norm: 337.0964, Discriminator loss: 0.0954, Discriminator grad norm: 1.5557\n",
      "Epoch finished in 22.86s\n",
      "\n",
      "Epoch 39:\n",
      "D(x): 0.8440 D(G(z)): 0.0102 / 0.0102\n",
      "D(x): 0.9929 D(G(z)): 0.1592 / 0.1592\n",
      "Generator loss: 4.5168, Generator grad norm: 115.2201, Discriminator loss: 0.0959, Discriminator grad norm: 18.2215\n",
      "Epoch finished in 23.33s\n",
      "\n",
      "Epoch 40:\n",
      "D(x): 0.9406 D(G(z)): 0.0710 / 0.0710\n",
      "D(x): 0.9527 D(G(z)): 0.0603 / 0.0603\n",
      "Generator loss: 4.3911, Generator grad norm: 132.4821, Discriminator loss: 0.0980, Discriminator grad norm: 5.2233\n",
      "Epoch finished in 24.64s\n",
      "\n",
      "Epoch 41:\n",
      "D(x): 0.9986 D(G(z)): 0.0885 / 0.0885\n",
      "D(x): 0.8265 D(G(z)): 0.0047 / 0.0047\n",
      "Generator loss: 4.3678, Generator grad norm: 350.1845, Discriminator loss: 0.1141, Discriminator grad norm: 11.9517\n",
      "Epoch finished in 25.14s\n",
      "\n",
      "Epoch 42:\n",
      "D(x): 0.6819 D(G(z)): 0.0078 / 0.0078\n",
      "D(x): 0.9065 D(G(z)): 0.0143 / 0.0143\n",
      "Generator loss: 4.4115, Generator grad norm: 115.4126, Discriminator loss: 0.1270, Discriminator grad norm: 28.9369\n",
      "Epoch finished in 25.60s\n",
      "\n",
      "Epoch 43:\n",
      "D(x): 0.8846 D(G(z)): 0.2000 / 0.2000\n",
      "D(x): 0.7866 D(G(z)): 0.0158 / 0.0158\n",
      "Generator loss: 4.4180, Generator grad norm: 118.4303, Discriminator loss: 0.0959, Discriminator grad norm: 12.4822\n",
      "Epoch finished in 24.75s\n",
      "\n",
      "Epoch 44:\n",
      "D(x): 0.9821 D(G(z)): 0.0449 / 0.0449\n",
      "D(x): 0.9673 D(G(z)): 0.0561 / 0.0561\n",
      "Generator loss: 4.4844, Generator grad norm: 221.9102, Discriminator loss: 0.1076, Discriminator grad norm: 3.2624\n",
      "Epoch finished in 23.90s\n",
      "\n",
      "Epoch 45:\n",
      "D(x): 0.9262 D(G(z)): 0.0480 / 0.0480\n",
      "D(x): 0.9921 D(G(z)): 0.0508 / 0.0508\n",
      "Generator loss: 4.3903, Generator grad norm: 104.8719, Discriminator loss: 0.0991, Discriminator grad norm: 5.2710\n",
      "Epoch finished in 24.55s\n",
      "\n",
      "Epoch 46:\n",
      "D(x): 0.9926 D(G(z)): 0.1426 / 0.1426\n",
      "D(x): 0.9060 D(G(z)): 0.0099 / 0.0099\n",
      "Generator loss: 4.4561, Generator grad norm: 130.8862, Discriminator loss: 0.0963, Discriminator grad norm: 15.0898\n",
      "Epoch finished in 24.94s\n",
      "\n",
      "Epoch 47:\n",
      "D(x): 0.9977 D(G(z)): 0.0451 / 0.0451\n",
      "D(x): 0.6776 D(G(z)): 0.0089 / 0.0089\n",
      "Generator loss: 4.4707, Generator grad norm: 262.3012, Discriminator loss: 0.1011, Discriminator grad norm: 4.4716\n",
      "Epoch finished in 23.62s\n",
      "\n",
      "Epoch 48:\n",
      "D(x): 0.9678 D(G(z)): 0.0424 / 0.0424\n",
      "D(x): 0.9468 D(G(z)): 0.0802 / 0.0802\n",
      "Generator loss: 4.4577, Generator grad norm: 310.6675, Discriminator loss: 0.1030, Discriminator grad norm: 3.1274\n",
      "Epoch finished in 23.53s\n",
      "\n",
      "Epoch 49:\n",
      "D(x): 0.9962 D(G(z)): 0.0756 / 0.0756\n",
      "D(x): 0.9972 D(G(z)): 0.2556 / 0.2556\n",
      "Generator loss: 4.4857, Generator grad norm: 143.6979, Discriminator loss: 0.0944, Discriminator grad norm: 6.1718\n",
      "Epoch finished in 23.66s\n",
      "\n",
      "==================================================\n",
      "==> Optimization finished in 1210.44s!\n"
     ]
    }
   ],
   "source": [
    "# some hyperparameters\n",
    "# total number of training epochs\n",
    "start_epoch = 0\n",
    "\n",
    "# start the training/validation process\n",
    "best_loss_g = 1e20\n",
    "best_loss_d = 1e20\n",
    "\n",
    "start = time.time()\n",
    "print(\"==> Training starts!\")\n",
    "print(\"=\"*50)\n",
    "\n",
    "# store loss learning curve\n",
    "g_loss_lst = []\n",
    "d_loss_lst = []\n",
    "g_grad_lst = []\n",
    "d_grad_lst = []\n",
    "\n",
    "fixed_random_z = torch.randn(params.batch_size, params.latent_dim).to(device)\n",
    "\n",
    "for i in range(start_epoch, params.n_epochs):\n",
    "    epoch_start = time.time()\n",
    "    print(\"Epoch %d:\" %i)\n",
    "    # this help you compute the training accuracy\n",
    "    total_examples = 0\n",
    "    correct_examples = 0\n",
    "\n",
    "    g_loss = []\n",
    "    d_loss = []\n",
    "    g_grad = []\n",
    "    d_grad = []\n",
    "    \n",
    "    # Train the model for 1 epoch.\n",
    "    for batch_idx, (inputs, targets) in enumerate(dataloader):\n",
    "        \n",
    "        inputs = inputs.float().to(device)\n",
    "        batch_size = inputs.size(0)\n",
    "        \n",
    "        real_labels = torch.full((batch_size,1), 1.0).to(device)\n",
    "        fake_labels = torch.full((batch_size,1), 0.0).to(device)\n",
    "        \n",
    "        ####################################\n",
    "        # Train Generator\n",
    "        ###################################\n",
    "        # maximize generator's ability to fool discriminator\n",
    "        z = torch.randn(batch_size, params.latent_dim).to(device)\n",
    "        gen_imgs = generator(z)\n",
    "        fake_outputs = discriminator(gen_imgs)\n",
    "        loss_G = criterion(fake_outputs, real_labels)\n",
    "        \n",
    "        # zero the gradient\n",
    "        optimizerG.zero_grad()\n",
    "        # backpropagation\n",
    "        loss_G.backward()\n",
    "        # record gradients\n",
    "        if (batch_idx % 1000 == 0):\n",
    "            gradients_G = []\n",
    "            for p in generator.parameters():\n",
    "                gradients_G.extend(p.grad.flatten().cpu().detach().numpy())\n",
    "            gradients_G = np.linalg.norm(np.asarray(gradients_G).flatten())\n",
    "            g_grad.append(gradients_G)\n",
    "        # apply gradient and update the weights\n",
    "        optimizerG.step()\n",
    "\n",
    "        # calculate percentage of confidence\n",
    "        G_z = fake_outputs.mean().item()\n",
    "        g_loss.append(loss_G.cpu().detach().numpy())\n",
    "        ####################################\n",
    "        \n",
    "        ####################################\n",
    "        # Train Discriminator\n",
    "        ###################################\n",
    "        # train to recog real image\n",
    "        real_outputs = discriminator(inputs)\n",
    "        loss_real = criterion(real_outputs, real_labels)\n",
    "        \n",
    "        ###################################\n",
    "        # train to recog fake image\n",
    "        fake_outputs = discriminator(gen_imgs.detach())\n",
    "        loss_fake = criterion(fake_outputs, fake_labels)\n",
    "        \n",
    "        # sum loss\n",
    "        loss_D = (loss_fake + loss_real) / 2\n",
    "        # zero the gradient\n",
    "        optimizerD.zero_grad()\n",
    "        # backpropagation\n",
    "        loss_D.backward()\n",
    "        # record gradients\n",
    "        if (batch_idx % 1000 == 0):\n",
    "            gradients_D = []\n",
    "            for p in discriminator.parameters():\n",
    "                gradients_D.extend(p.grad.flatten().cpu().detach().numpy())\n",
    "            gradients_D = np.linalg.norm(np.asarray(gradients_D).flatten())\n",
    "            d_grad.append(gradients_D)\n",
    "        # apply gradient and update the weights\n",
    "        optimizerD.step()\n",
    "\n",
    "        # calculate percentage of confidence\n",
    "        D_x = real_outputs.mean().item()\n",
    "        D_z = fake_outputs.mean().item()\n",
    "        d_loss.append(loss_D.cpu().detach().numpy())\n",
    "        \n",
    "        ####################################\n",
    "        \n",
    "        if (batch_idx % params.sample_interval == 0): \n",
    "            batches_done = i * len(dataloader) + batch_idx\n",
    "            save_image(generator(fixed_random_z).data[:40], os.path.join(params.imgsave_path, \"%d.png\" % batches_done), nrow=5, normalize=True)\n",
    "            print(\"D(x): %.4f D(G(z)): %.4f / %.4f\"%(D_x, D_z, G_z))\n",
    "        \n",
    "    avg_loss_g = np.sum(np.asarray(g_loss)) / len(g_loss)\n",
    "    avg_loss_d = np.sum(np.asarray(d_loss)) / len(d_loss)\n",
    "    avg_grad_g = np.sum(np.asarray(g_grad)) / len(g_grad)\n",
    "    avg_grad_d = np.sum(np.asarray(d_grad)) / len(d_grad)\n",
    "    print(\"Generator loss: %.4f, Generator grad norm: %.4f, Discriminator loss: %.4f, Discriminator grad norm: %.4f\"%(avg_loss_g, avg_grad_g, avg_loss_d, avg_grad_d))\n",
    "    \n",
    "    g_loss_lst.append(avg_loss_g)\n",
    "    d_loss_lst.append(avg_loss_d)\n",
    "    g_grad_lst.append(avg_grad_g)\n",
    "    d_grad_lst.append(avg_grad_d)\n",
    "    \n",
    "    # save the model checkpoint\n",
    "    state_G = generator.state_dict()\n",
    "    torch.save(state_G, os.path.join(params.CHECKPOINT_FOLDER, 'generator.pth'))\n",
    "    state_D = discriminator.state_dict()\n",
    "    torch.save(state_D, os.path.join(params.CHECKPOINT_FOLDER, 'discriminator.pth'))\n",
    "    print(f\"Epoch finished in {time.time() - epoch_start:.2f}s\")\n",
    "    print(\"\")\n",
    "\n",
    "print(\"=\"*50)\n",
    "print(f\"==> Optimization finished in {time.time() - start:.2f}s!\")"
   ]
  },
  {
   "attachments": {},
   "cell_type": "markdown",
   "metadata": {
    "pycharm": {
     "name": "#%% md\n"
    }
   },
   "source": [
    "## Step 5: Linear Interpolation Function"
   ]
  },
  {
   "cell_type": "code",
   "execution_count": 10,
   "metadata": {
    "pycharm": {
     "name": "#%%\n"
    },
    "scrolled": true
   },
   "outputs": [
    {
     "data": {
      "image/png": "[encoded data removed]",
      "text/plain": [
       "<Figure size 432x288 with 1 Axes>"
      ]
     },
     "metadata": {
      "needs_background": "light"
     },
     "output_type": "display_data"
    }
   ],
   "source": [
    "plt.plot(g_loss_lst, label='Generator Error')\n",
    "plt.plot(d_loss_lst, label='Discriminator Error')\n",
    "plt.title(\"DCGAN Learning Curve\")\n",
    "plt.legend()\n",
    "plt.xlabel('epoch')\n",
    "plt.ylabel('loss')\n",
    "plt.savefig(os.path.join(HOME_PATH, \"images\",\"dcgan_lr.png\"))"
   ]
  },
  {
   "cell_type": "code",
   "execution_count": 12,
   "metadata": {},
   "outputs": [
    {
     "data": {
      "image/png": "[encoded data removed]",
      "text/plain": [
       "<Figure size 432x288 with 1 Axes>"
      ]
     },
     "metadata": {
      "needs_background": "light"
     },
     "output_type": "display_data"
    }
   ],
   "source": [
    "plt.plot(g_grad_lst, label='Generator gradient norm')\n",
    "plt.plot(d_grad_lst, label='Discriminator gradient norm')\n",
    "plt.title(\"DCGAN gradient varying\")\n",
    "plt.legend()\n",
    "plt.xlabel('epoch')\n",
    "plt.ylabel('gradient norm')\n",
    "plt.savefig(os.path.join(HOME_PATH, \"images\",\"dcgan_grad.png\"))"
   ]
  },
  {
   "cell_type": "code",
   "execution_count": 13,
   "metadata": {},
   "outputs": [
    {
     "data": {
      "text/plain": [
       "782"
      ]
     },
     "execution_count": 13,
     "metadata": {},
     "output_type": "execute_result"
    }
   ],
   "source": [
    "len(dataloader)"
   ]
  },
  {
   "cell_type": "code",
   "execution_count": null,
   "metadata": {},
   "outputs": [],
   "source": []
  }
 ],
 "metadata": {
  "kernelspec": {
   "display_name": "pytorch",
   "language": "python",
   "name": "python3"
  },
  "language_info": {
   "codemirror_mode": {
    "name": "ipython",
    "version": 3
   },
   "file_extension": ".py",
   "mimetype": "text/x-python",
   "name": "python",
   "nbconvert_exporter": "python",
   "pygments_lexer": "ipython3",
   "version": "3.9.12"
  },
  "vscode": {
   "interpreter": {
    "hash": "f31c482ab17bade3ad7dd22987cd1455bbf7ad8d1d61cc36c352d0bbb68b2b79"
   }
  }
 },
 "nbformat": 4,
 "nbformat_minor": 4
}
